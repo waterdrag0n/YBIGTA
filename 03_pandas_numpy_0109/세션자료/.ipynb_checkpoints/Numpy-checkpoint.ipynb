{
 "cells": [
  {
   "cell_type": "markdown",
   "metadata": {
    "id": "akfpoc0ovZfn"
   },
   "source": [
    "# Numpy\n",
    "- Numpy는 C언어로 구현된 파이썬 라이브러리, 고성능의 수치계산을 위해 제작됨\n",
    "- Numpy는 벡터 및 행렬 연산에 있어서 매우 편리한 기능을 제공\n",
    "- 데이터분석을 할 때 사용되는 라이브러리인 pandas와 matplotlib의 기반으로 사용\n",
    "- 기본적으로 array(행렬) 단위로 데이터를 관리하며 이에 대해 연산을 수행함"
   ]
  },
  {
   "cell_type": "code",
   "execution_count": null,
   "metadata": {
    "id": "XkcduFxavZfq"
   },
   "outputs": [],
   "source": [
    "#!pip install numpy\n",
    "import numpy as np"
   ]
  },
  {
   "cell_type": "markdown",
   "metadata": {
    "id": "IlnXuv3IvZfw"
   },
   "source": [
    "---"
   ]
  },
  {
   "cell_type": "markdown",
   "metadata": {
    "id": "r9rQICzYvZfx"
   },
   "source": [
    "## 1. Arrary 정의 및 사용"
   ]
  },
  {
   "cell_type": "code",
   "execution_count": null,
   "metadata": {
    "id": "5BIWwICYvZfx",
    "outputId": "4a4ea90d-8dcd-4340-aba4-fa2322932e74"
   },
   "outputs": [
    {
     "data": {
      "text/plain": [
       "[1, 2, 3, 4, 5]"
      ]
     },
     "execution_count": 2,
     "metadata": {
      "tags": []
     },
     "output_type": "execute_result"
    }
   ],
   "source": [
    "list1 = [1, 2, 3, 4, 5]\n",
    "list1"
   ]
  },
  {
   "cell_type": "code",
   "execution_count": null,
   "metadata": {
    "id": "5Adw93UuvZf1",
    "outputId": "63017761-05dd-4c1d-83e2-3361e1f859c8"
   },
   "outputs": [
    {
     "data": {
      "text/plain": [
       "[1, 2, 3.5, 4, 5]"
      ]
     },
     "execution_count": 3,
     "metadata": {
      "tags": []
     },
     "output_type": "execute_result"
    }
   ],
   "source": [
    "list2 = [1, 2, 3.5, 4, 5]\n",
    "list2"
   ]
  },
  {
   "cell_type": "code",
   "execution_count": null,
   "metadata": {
    "id": "BTPPITfJvZf3",
    "outputId": "fcf1af91-b02a-4796-cb2e-b19de0269c5e"
   },
   "outputs": [
    {
     "data": {
      "text/plain": [
       "array([1, 2, 3, 4, 5])"
      ]
     },
     "execution_count": 4,
     "metadata": {
      "tags": []
     },
     "output_type": "execute_result"
    }
   ],
   "source": [
    "# 파이썬의 리스트를 np.array()를 이용하여 사용할 수 있음\n",
    "array1 = np.array(list1)\n",
    "array1"
   ]
  },
  {
   "cell_type": "code",
   "execution_count": null,
   "metadata": {
    "id": "AF1N5IXtvZf8",
    "outputId": "6d077014-a9ae-4bea-b77e-b68db433afb5",
    "scrolled": true
   },
   "outputs": [
    {
     "data": {
      "text/plain": [
       "array([1. , 2. , 3.5, 4. , 5. ])"
      ]
     },
     "execution_count": 5,
     "metadata": {
      "tags": []
     },
     "output_type": "execute_result"
    }
   ],
   "source": [
    "# 직접 리스트를 넣어서도 배열 생성 가능\n",
    "array2 = np.array([1, 2, 3.5, 4, 5])\n",
    "array2"
   ]
  },
  {
   "cell_type": "code",
   "execution_count": null,
   "metadata": {
    "id": "od8aDSipvZgS",
    "outputId": "6eb8c84a-7243-4c75-e39b-563671a8a4da"
   },
   "outputs": [
    {
     "data": {
      "text/plain": [
       "array([[ 1,  2,  3],\n",
       "       [ 4,  5,  6],\n",
       "       [ 7,  8,  9],\n",
       "       [10, 11, 12]])"
      ]
     },
     "execution_count": 19,
     "metadata": {
      "tags": []
     },
     "output_type": "execute_result"
    }
   ],
   "source": [
    "array3 = np.array([[1, 2, 3],[4, 5, 6],[7, 8, 9],[10, 11, 12]])\n",
    "array3"
   ]
  },
  {
   "cell_type": "markdown",
   "metadata": {
    "id": "EUsOZ4HFvZgD"
   },
   "source": [
    "#### shape"
   ]
  },
  {
   "cell_type": "code",
   "execution_count": null,
   "metadata": {
    "id": "MyadgCbivZgE",
    "outputId": "8620be00-9924-4d04-91a9-100de323f562",
    "scrolled": true
   },
   "outputs": [
    {
     "data": {
      "text/plain": [
       "(5,)"
      ]
     },
     "execution_count": 16,
     "metadata": {
      "tags": []
     },
     "output_type": "execute_result"
    }
   ],
   "source": [
    "# .shape를 통해 배열의 차원(shape)를 알 수 있음\n",
    "array1.shape"
   ]
  },
  {
   "cell_type": "code",
   "execution_count": null,
   "metadata": {
    "id": "JRdARX0pmDS1",
    "outputId": "8620be00-9924-4d04-91a9-100de323f562",
    "scrolled": true
   },
   "outputs": [
    {
     "data": {
      "text/plain": [
       "(3, 5)"
      ]
     },
     "execution_count": 17,
     "metadata": {
      "tags": []
     },
     "output_type": "execute_result"
    }
   ],
   "source": [
    "array2.shape"
   ]
  },
  {
   "cell_type": "code",
   "execution_count": null,
   "metadata": {
    "id": "pl75WUDZvZgW",
    "outputId": "e96b845d-bc69-4c90-a84e-ced3f9e32899"
   },
   "outputs": [
    {
     "data": {
      "text/plain": [
       "(4, 3)"
      ]
     },
     "execution_count": 21,
     "metadata": {
      "tags": []
     },
     "output_type": "execute_result"
    }
   ],
   "source": [
    "array3.shape"
   ]
  },
  {
   "cell_type": "markdown",
   "metadata": {
    "id": "8uosboPJvZgM"
   },
   "source": [
    "#### dtype"
   ]
  },
  {
   "cell_type": "code",
   "execution_count": null,
   "metadata": {
    "id": "vgQ5AlvCvZgN",
    "outputId": "3ea1d762-17b2-4b7d-84ae-633b6ea694b1"
   },
   "outputs": [
    {
     "name": "stdout",
     "output_type": "stream",
     "text": [
      "int32\n",
      "float64\n",
      "int32\n"
     ]
    }
   ],
   "source": [
    "# .dtype를 통해 자료형을 알 수 있음\n",
    "print(array1.dtype)\n",
    "print(array2.dtype)\n",
    "print(array3.dtype)"
   ]
  },
  {
   "cell_type": "markdown",
   "metadata": {
    "id": "KV4IiNTPvZgY"
   },
   "source": [
    "### 질문! array1과 array3의 차원 수는?\n",
    "- array1.shape : (5,)\n",
    "- array3.shape : (4, 3)"
   ]
  },
  {
   "cell_type": "code",
   "execution_count": null,
   "metadata": {
    "id": "fh5kxIF6vZgb",
    "outputId": "7b354e4f-cd07-463c-e7da-74e49209aa97",
    "scrolled": true
   },
   "outputs": [
    {
     "name": "stdout",
     "output_type": "stream",
     "text": [
      "1\n",
      "2\n"
     ]
    }
   ],
   "source": [
    "print(array1.ndim)\n",
    "print(array3.ndim)"
   ]
  },
  {
   "cell_type": "markdown",
   "metadata": {
    "id": "1iYOVSzUvZgm"
   },
   "source": [
    "#### zeros"
   ]
  },
  {
   "cell_type": "code",
   "execution_count": null,
   "metadata": {
    "id": "NsF3Bc20vZgn",
    "outputId": "33554cc4-9124-4568-ef94-04489fe71aa6"
   },
   "outputs": [
    {
     "data": {
      "text/plain": [
       "array([0., 0., 0., 0., 0., 0., 0., 0., 0., 0.])"
      ]
     },
     "execution_count": 24,
     "metadata": {
      "tags": []
     },
     "output_type": "execute_result"
    }
   ],
   "source": [
    "# zeros는 입력받는 형태만큼 인자가 0으로 채워진 행렬을 만든다\n",
    "np.zeros(10)"
   ]
  },
  {
   "cell_type": "code",
   "execution_count": null,
   "metadata": {
    "id": "Izp0EGm2vZgt",
    "outputId": "e46ba440-24fb-4f8d-fcd2-ecae6e903dfb",
    "scrolled": true
   },
   "outputs": [
    {
     "data": {
      "text/plain": [
       "array([[0., 0., 0., 0., 0.],\n",
       "       [0., 0., 0., 0., 0.],\n",
       "       [0., 0., 0., 0., 0.]])"
      ]
     },
     "execution_count": 25,
     "metadata": {
      "tags": []
     },
     "output_type": "execute_result"
    }
   ],
   "source": [
    "np.zeros((3,5))"
   ]
  },
  {
   "cell_type": "markdown",
   "metadata": {
    "id": "ntGiaX_dvZgz"
   },
   "source": [
    "#### ones"
   ]
  },
  {
   "cell_type": "code",
   "execution_count": null,
   "metadata": {
    "id": "EYPs4nNIvZg0",
    "outputId": "ef7b3626-d829-47e6-90c3-caf4a8fadad8"
   },
   "outputs": [
    {
     "data": {
      "text/plain": [
       "array([1., 1., 1., 1., 1., 1., 1., 1., 1., 1.])"
      ]
     },
     "execution_count": 26,
     "metadata": {
      "tags": []
     },
     "output_type": "execute_result"
    }
   ],
   "source": [
    "# ones는 입력받는 형태만큼 인자가 1으로 채워진 행렬을 만든다\n",
    "np.ones(10)"
   ]
  },
  {
   "cell_type": "code",
   "execution_count": null,
   "metadata": {
    "id": "HZzyVHncvZg3",
    "outputId": "77c7a10a-5164-4469-b28b-a9f59269a77b"
   },
   "outputs": [
    {
     "data": {
      "text/plain": [
       "array([[1., 1., 1., 1., 1.],\n",
       "       [1., 1., 1., 1., 1.],\n",
       "       [1., 1., 1., 1., 1.]])"
      ]
     },
     "execution_count": 27,
     "metadata": {
      "tags": []
     },
     "output_type": "execute_result"
    }
   ],
   "source": [
    "np.ones((3,5))"
   ]
  },
  {
   "cell_type": "markdown",
   "metadata": {
    "id": "tDmRbHyfvZg6"
   },
   "source": [
    "#### arange"
   ]
  },
  {
   "cell_type": "code",
   "execution_count": null,
   "metadata": {
    "id": "JKsrIW3vvZg7",
    "outputId": "1579fe72-1a46-464a-eba4-bb04ac7ceb46"
   },
   "outputs": [
    {
     "data": {
      "text/plain": [
       "array([0, 1, 2, 3, 4, 5, 6, 7, 8, 9])"
      ]
     },
     "execution_count": 28,
     "metadata": {
      "tags": []
     },
     "output_type": "execute_result"
    }
   ],
   "source": [
    "# arange는 파이썬 range와 비슷한 개념\n",
    "# 한자리수(n)만 입력하면 0부터 n-1까지 1씩 늘어남\n",
    "np.arange(10)"
   ]
  },
  {
   "cell_type": "code",
   "execution_count": null,
   "metadata": {
    "id": "TSM1us1tvZg-",
    "outputId": "06536b24-adaf-448f-bb88-e57124167100"
   },
   "outputs": [
    {
     "data": {
      "text/plain": [
       "array([ 1,  2,  3,  4,  5,  6,  7,  8,  9, 10, 11, 12, 13, 14, 15, 16, 17,\n",
       "       18, 19, 20, 21, 22, 23, 24, 25, 26])"
      ]
     },
     "execution_count": 29,
     "metadata": {
      "tags": []
     },
     "output_type": "execute_result"
    }
   ],
   "source": [
    "# 두개의 숫자(first, end)를 입력하면 first부터 end-1까지 1씩 늘어남\n",
    "np.arange(1,27)"
   ]
  },
  {
   "cell_type": "code",
   "execution_count": null,
   "metadata": {
    "id": "BVBfBP-DvZhB",
    "outputId": "82a6529a-6fd7-439f-af97-2ea2d9924233"
   },
   "outputs": [
    {
     "data": {
      "text/plain": [
       "array([ 1. ,  1.3,  1.6,  1.9,  2.2,  2.5,  2.8,  3.1,  3.4,  3.7,  4. ,\n",
       "        4.3,  4.6,  4.9,  5.2,  5.5,  5.8,  6.1,  6.4,  6.7,  7. ,  7.3,\n",
       "        7.6,  7.9,  8.2,  8.5,  8.8,  9.1,  9.4,  9.7, 10. , 10.3, 10.6,\n",
       "       10.9, 11.2, 11.5, 11.8, 12.1, 12.4, 12.7, 13. , 13.3, 13.6, 13.9,\n",
       "       14.2, 14.5, 14.8, 15.1, 15.4, 15.7, 16. , 16.3, 16.6, 16.9, 17.2,\n",
       "       17.5, 17.8, 18.1, 18.4, 18.7, 19. , 19.3, 19.6, 19.9, 20.2, 20.5,\n",
       "       20.8, 21.1, 21.4, 21.7, 22. , 22.3, 22.6, 22.9, 23.2, 23.5, 23.8,\n",
       "       24.1, 24.4, 24.7, 25. , 25.3, 25.6, 25.9, 26.2, 26.5, 26.8])"
      ]
     },
     "execution_count": 30,
     "metadata": {
      "tags": []
     },
     "output_type": "execute_result"
    }
   ],
   "source": [
    "# 3번째 자리에 늘어나는 간격을 설정하여 사용 가능\n",
    "np.arange(1,27, 0.3)"
   ]
  },
  {
   "cell_type": "markdown",
   "metadata": {
    "id": "5b8dxGJKvZhH"
   },
   "source": [
    "---"
   ]
  },
  {
   "cell_type": "markdown",
   "metadata": {
    "id": "lq5zp-QMvZhI"
   },
   "source": [
    "## 2. Array 연산"
   ]
  },
  {
   "cell_type": "markdown",
   "metadata": {
    "id": "VBNbaVu3vZhJ"
   },
   "source": [
    "#### !  원칙적으로 shape가 같아야 연산 가능 !\n",
    "\n",
    "각 array의 같은 자리에 있는 값들끼리 연산하기 때문이다."
   ]
  },
  {
   "cell_type": "code",
   "execution_count": null,
   "metadata": {
    "id": "Dn2vjhxqvZhK",
    "outputId": "85bfc03e-b592-4bd1-8466-1537ed8c10e3"
   },
   "outputs": [
    {
     "data": {
      "text/plain": [
       "array([[1, 2, 3],\n",
       "       [4, 5, 6]])"
      ]
     },
     "execution_count": 31,
     "metadata": {
      "tags": []
     },
     "output_type": "execute_result"
    }
   ],
   "source": [
    "array1_ = np.array([[1,2,3],[4,5,6]])\n",
    "array1_"
   ]
  },
  {
   "cell_type": "code",
   "execution_count": null,
   "metadata": {
    "id": "tuuQj0zxvZhP",
    "outputId": "aa31a0fd-9f16-4d4b-b7dd-9f4c436aaed7"
   },
   "outputs": [
    {
     "data": {
      "text/plain": [
       "(2, 3)"
      ]
     },
     "execution_count": 32,
     "metadata": {
      "tags": []
     },
     "output_type": "execute_result"
    }
   ],
   "source": [
    "array1_.shape"
   ]
  },
  {
   "cell_type": "code",
   "execution_count": null,
   "metadata": {
    "id": "JK3Kg1d3vZhT",
    "outputId": "fd97c2bb-a634-4533-df7f-302768c404e2"
   },
   "outputs": [
    {
     "data": {
      "text/plain": [
       "array([[10, 11, 12],\n",
       "       [13, 14, 15]])"
      ]
     },
     "execution_count": 33,
     "metadata": {
      "tags": []
     },
     "output_type": "execute_result"
    }
   ],
   "source": [
    "array2_ = np.array([[10,11,12],[13,14,15]])\n",
    "array2_"
   ]
  },
  {
   "cell_type": "code",
   "execution_count": null,
   "metadata": {
    "id": "pjIlLNFdvZhX",
    "outputId": "20764c6e-303c-4436-be80-cf650979bd7c"
   },
   "outputs": [
    {
     "data": {
      "text/plain": [
       "(2, 3)"
      ]
     },
     "execution_count": 34,
     "metadata": {
      "tags": []
     },
     "output_type": "execute_result"
    }
   ],
   "source": [
    "array2_.shape"
   ]
  },
  {
   "cell_type": "markdown",
   "metadata": {
    "id": "rFdY3asRvZha"
   },
   "source": [
    "#### 덧셈"
   ]
  },
  {
   "cell_type": "code",
   "execution_count": null,
   "metadata": {
    "id": "xs0RXK0TvZha",
    "outputId": "cd0640fa-97b4-4dbb-bb41-a54f981c73ae"
   },
   "outputs": [
    {
     "data": {
      "text/plain": [
       "array([[11, 13, 15],\n",
       "       [17, 19, 21]])"
      ]
     },
     "execution_count": 37,
     "metadata": {
      "tags": []
     },
     "output_type": "execute_result"
    }
   ],
   "source": [
    "array1_ + array2_"
   ]
  },
  {
   "cell_type": "markdown",
   "metadata": {
    "id": "-NPg1y5LvZhd"
   },
   "source": [
    "#### 뺄셈"
   ]
  },
  {
   "cell_type": "code",
   "execution_count": null,
   "metadata": {
    "id": "yhXEHmuzvZhd",
    "outputId": "019211d7-b6ab-4180-dc4b-c3d513eadee4"
   },
   "outputs": [
    {
     "data": {
      "text/plain": [
       "array([[-9, -9, -9],\n",
       "       [-9, -9, -9]])"
      ]
     },
     "execution_count": 38,
     "metadata": {
      "tags": []
     },
     "output_type": "execute_result"
    }
   ],
   "source": [
    "array1_ - array2_"
   ]
  },
  {
   "cell_type": "markdown",
   "metadata": {
    "id": "BSFTG3a6vZhi"
   },
   "source": [
    "#### 곱셈\n",
    "##### (주의 : 그냥 같은 자리끼리 곱해짐 )"
   ]
  },
  {
   "cell_type": "code",
   "execution_count": null,
   "metadata": {
    "id": "JmEORuZhvZhj",
    "outputId": "9b807b29-dbb4-4937-b23b-f8e2c4c4d78d"
   },
   "outputs": [
    {
     "data": {
      "text/plain": [
       "array([[10, 22, 36],\n",
       "       [52, 70, 90]])"
      ]
     },
     "execution_count": 39,
     "metadata": {
      "tags": []
     },
     "output_type": "execute_result"
    }
   ],
   "source": [
    "array1_ * array2_"
   ]
  },
  {
   "cell_type": "markdown",
   "metadata": {
    "id": "CqFCS_tOvZhn"
   },
   "source": [
    "##### 참고 : 생각하고 계신 행렬의 곱(내적곱)을 하려면 .dot 이용\n",
    "- (2, 3) * (3, 4) : 가능 \n",
    "- (2, 3) * (2, 3) : 불가능 "
   ]
  },
  {
   "cell_type": "code",
   "execution_count": null,
   "metadata": {
    "id": "6ueMZAIgvZho",
    "outputId": "eba5db88-23f0-4976-cef6-ff88672d20b9"
   },
   "outputs": [
    {
     "name": "stdout",
     "output_type": "stream",
     "text": [
      "[ 11  24  39  56  75  96 119 144 171 200]\n",
      "935\n"
     ]
    }
   ],
   "source": [
    "a = np.arange(1, 11)\n",
    "b = np.arange(11, 21)\n",
    "print(a * b)\n",
    "print(a.dot(b))"
   ]
  },
  {
   "cell_type": "markdown",
   "metadata": {
    "id": "E1KEfVKyvZhu"
   },
   "source": [
    "#### 나눗셈"
   ]
  },
  {
   "cell_type": "code",
   "execution_count": null,
   "metadata": {
    "id": "2tA-VRYjvZhx",
    "outputId": "c9b0a874-72ac-4526-f09e-4fe2356cf53e"
   },
   "outputs": [
    {
     "data": {
      "text/plain": [
       "array([[0.1       , 0.18181818, 0.25      ],\n",
       "       [0.30769231, 0.35714286, 0.4       ]])"
      ]
     },
     "execution_count": 41,
     "metadata": {
      "tags": []
     },
     "output_type": "execute_result"
    }
   ],
   "source": [
    "array1_ / array2_"
   ]
  },
  {
   "cell_type": "markdown",
   "metadata": {
    "id": "5Plqwi_IvZh2"
   },
   "source": [
    "#### ! 원칙적으로 shape가 같아야 연산 가능하지만 브로드캐스팅이 가능하다!\n",
    "- 넘파이에서 브로드캐스팅이란 서로 크기가 다른 array가 연산이 가능하게 하는 것\n"
   ]
  },
  {
   "cell_type": "code",
   "execution_count": null,
   "metadata": {
    "id": "pfiX74zsvZh3",
    "outputId": "aa5a2a64-1bc9-4b4e-e321-392f78c64c89"
   },
   "outputs": [
    {
     "data": {
      "text/plain": [
       "array([[1, 2, 3],\n",
       "       [4, 5, 6]])"
      ]
     },
     "execution_count": 42,
     "metadata": {
      "tags": []
     },
     "output_type": "execute_result"
    }
   ],
   "source": [
    "array1_"
   ]
  },
  {
   "cell_type": "code",
   "execution_count": null,
   "metadata": {
    "id": "xGzQluc3vZh6",
    "outputId": "e837466c-7c0d-4773-94d1-b80450d42b3d"
   },
   "outputs": [
    {
     "data": {
      "text/plain": [
       "(2, 3)"
      ]
     },
     "execution_count": 43,
     "metadata": {
      "tags": []
     },
     "output_type": "execute_result"
    }
   ],
   "source": [
    "array1_.shape"
   ]
  },
  {
   "cell_type": "code",
   "execution_count": null,
   "metadata": {
    "id": "irGbms55vZh9",
    "outputId": "d59abd5f-fc37-4769-834d-32148be7b51a"
   },
   "outputs": [
    {
     "data": {
      "text/plain": [
       "array([10, 11, 12])"
      ]
     },
     "execution_count": 44,
     "metadata": {
      "tags": []
     },
     "output_type": "execute_result"
    }
   ],
   "source": [
    "array3_ = np.array([10, 11, 12])\n",
    "array3_"
   ]
  },
  {
   "cell_type": "code",
   "execution_count": null,
   "metadata": {
    "id": "sfBf_BeBvZiA",
    "outputId": "f98b0fd6-1da1-420f-dff1-c6326f15a56c"
   },
   "outputs": [
    {
     "data": {
      "text/plain": [
       "(3,)"
      ]
     },
     "execution_count": 45,
     "metadata": {
      "tags": []
     },
     "output_type": "execute_result"
    }
   ],
   "source": [
    "array3_.shape"
   ]
  },
  {
   "cell_type": "markdown",
   "metadata": {
    "id": "5WXEhk43mDTS"
   },
   "source": [
    "#### 연산"
   ]
  },
  {
   "cell_type": "code",
   "execution_count": null,
   "metadata": {
    "id": "ERobwzaPvZiD",
    "outputId": "1346c5e5-0b58-405a-de08-d9b94350a9a3"
   },
   "outputs": [
    {
     "data": {
      "text/plain": [
       "array([[11, 13, 15],\n",
       "       [14, 16, 18]])"
      ]
     },
     "execution_count": 46,
     "metadata": {
      "tags": []
     },
     "output_type": "execute_result"
    }
   ],
   "source": [
    "array1_ + array3_"
   ]
  },
  {
   "cell_type": "code",
   "execution_count": null,
   "metadata": {
    "id": "wmIVjnyivZiJ",
    "outputId": "9013d1a1-0f8d-4f21-b0e8-dc4d808ff447"
   },
   "outputs": [
    {
     "data": {
      "text/plain": [
       "array([[10, 22, 36],\n",
       "       [40, 55, 72]])"
      ]
     },
     "execution_count": 47,
     "metadata": {
      "tags": []
     },
     "output_type": "execute_result"
    }
   ],
   "source": [
    "array1_ * array3_"
   ]
  },
  {
   "cell_type": "code",
   "execution_count": null,
   "metadata": {
    "id": "5vlguzK7vZiQ",
    "outputId": "d29a9384-7372-4412-d306-136e46d4b2cd"
   },
   "outputs": [
    {
     "data": {
      "text/plain": [
       "array([[10, 20, 30],\n",
       "       [40, 50, 60]])"
      ]
     },
     "execution_count": 48,
     "metadata": {
      "tags": []
     },
     "output_type": "execute_result"
    }
   ],
   "source": [
    "# 스칼라와도 가능\n",
    "array1_ * 10"
   ]
  },
  {
   "cell_type": "markdown",
   "metadata": {
    "id": "joZwbm5LvZiU"
   },
   "source": [
    "---"
   ]
  },
  {
   "cell_type": "markdown",
   "metadata": {
    "id": "ieXHOPjYvZiV"
   },
   "source": [
    "## 3. Array 인덱싱"
   ]
  },
  {
   "cell_type": "markdown",
   "metadata": {
    "id": "JTxzimeyvZiV"
   },
   "source": [
    "#### 1차원 데이터 인덱싱"
   ]
  },
  {
   "cell_type": "code",
   "execution_count": null,
   "metadata": {
    "id": "cDp2oaiavZiX",
    "outputId": "fc20700d-c718-45fc-fbe3-073ad5a34f65"
   },
   "outputs": [
    {
     "data": {
      "text/plain": [
       "array([0, 1, 2, 3, 4, 5, 6, 7, 8, 9])"
      ]
     },
     "execution_count": 49,
     "metadata": {
      "tags": []
     },
     "output_type": "execute_result"
    }
   ],
   "source": [
    "arr1 = np.arange(10)\n",
    "arr1"
   ]
  },
  {
   "cell_type": "code",
   "execution_count": null,
   "metadata": {
    "id": "y8pgWiJ3vZid",
    "outputId": "2b50d06e-d31f-4fa0-db55-0d655cf3d251"
   },
   "outputs": [
    {
     "data": {
      "text/plain": [
       "0"
      ]
     },
     "execution_count": 50,
     "metadata": {
      "tags": []
     },
     "output_type": "execute_result"
    }
   ],
   "source": [
    "# 0번째 요소\n",
    "arr1[0]"
   ]
  },
  {
   "cell_type": "code",
   "execution_count": null,
   "metadata": {
    "id": "h0M4iHK2vZii",
    "outputId": "01b8ce09-2b50-47bf-b52f-bb4f6f5aab1c"
   },
   "outputs": [
    {
     "data": {
      "text/plain": [
       "3"
      ]
     },
     "execution_count": 51,
     "metadata": {
      "tags": []
     },
     "output_type": "execute_result"
    }
   ],
   "source": [
    "# 3번째 요소\n",
    "arr1[3]"
   ]
  },
  {
   "cell_type": "code",
   "execution_count": null,
   "metadata": {
    "id": "JsrC93tivZik",
    "outputId": "d3b28808-1600-4246-c8c7-fd21dc5dca25"
   },
   "outputs": [
    {
     "data": {
      "text/plain": [
       "array([3, 4, 5, 6, 7, 8])"
      ]
     },
     "execution_count": 52,
     "metadata": {
      "tags": []
     },
     "output_type": "execute_result"
    }
   ],
   "source": [
    "# 3번째 요소부터 8번째 요소\n",
    "arr1[3:9]"
   ]
  },
  {
   "cell_type": "code",
   "execution_count": null,
   "metadata": {
    "id": "5Ofoq9yUvZin",
    "outputId": "a335927b-6176-4223-e352-e32174765e08"
   },
   "outputs": [
    {
     "data": {
      "text/plain": [
       "array([0, 1, 2, 3, 4, 5, 6, 7, 8, 9])"
      ]
     },
     "execution_count": 53,
     "metadata": {
      "tags": []
     },
     "output_type": "execute_result"
    }
   ],
   "source": [
    "# 전체\n",
    "arr1[:]"
   ]
  },
  {
   "cell_type": "markdown",
   "metadata": {
    "id": "D96FIhXVvZit"
   },
   "source": [
    "#### 2차원 데이터 인덱싱"
   ]
  },
  {
   "cell_type": "code",
   "execution_count": null,
   "metadata": {
    "id": "vh0__ivOvZiu",
    "outputId": "8eb257ee-ee73-40fa-b12c-0dfe9870cbb0"
   },
   "outputs": [
    {
     "data": {
      "text/plain": [
       "array([[ 1,  2,  3,  4],\n",
       "       [ 5,  6,  7,  8],\n",
       "       [ 9, 10, 11, 12]])"
      ]
     },
     "execution_count": 54,
     "metadata": {
      "tags": []
     },
     "output_type": "execute_result"
    }
   ],
   "source": [
    "arr2 = np.array([[1,2,3,4],\n",
    "                 [5,6,7,8],\n",
    "                 [9,10,11,12]])\n",
    "arr2"
   ]
  },
  {
   "cell_type": "code",
   "execution_count": null,
   "metadata": {
    "id": "WU67-XfPvZi2",
    "outputId": "b80e37e4-f405-4c7a-eaa4-7f6b9d6118d2"
   },
   "outputs": [
    {
     "data": {
      "text/plain": [
       "1"
      ]
     },
     "execution_count": 55,
     "metadata": {
      "tags": []
     },
     "output_type": "execute_result"
    }
   ],
   "source": [
    "# 2차원의 array를 인덱싱을 하기 위해선 2개의 인자 입력\n",
    "arr2[0,0]"
   ]
  },
  {
   "cell_type": "code",
   "execution_count": null,
   "metadata": {
    "id": "tpWd9a9SvZi9",
    "outputId": "c49e6f68-ad32-4849-ffb2-4ee52cd62c7e"
   },
   "outputs": [
    {
     "data": {
      "text/plain": [
       "array([ 9, 10, 11, 12])"
      ]
     },
     "execution_count": 56,
     "metadata": {
      "tags": []
     },
     "output_type": "execute_result"
    }
   ],
   "source": [
    "# 2번째 array의 전체 불러오기\n",
    "arr2[2,:]"
   ]
  },
  {
   "cell_type": "code",
   "execution_count": null,
   "metadata": {
    "id": "r796GvCSvZjD",
    "outputId": "e8e2ab61-a08e-43c2-c486-3e4bed8681c2"
   },
   "outputs": [
    {
     "data": {
      "text/plain": [
       "12"
      ]
     },
     "execution_count": 47,
     "metadata": {
      "tags": []
     },
     "output_type": "execute_result"
    }
   ],
   "source": [
    "# 2번째 array의 3번째 값 불러오기\n",
    "arr2[2,3]"
   ]
  },
  {
   "cell_type": "code",
   "execution_count": null,
   "metadata": {
    "id": "4LopnOKQvZjF",
    "outputId": "d635c2f3-1704-4560-9101-1d9d69fdfd32"
   },
   "outputs": [
    {
     "data": {
      "text/plain": [
       "array([ 4,  8, 12])"
      ]
     },
     "execution_count": 57,
     "metadata": {
      "tags": []
     },
     "output_type": "execute_result"
    }
   ],
   "source": [
    "# 모든 array의 3번째 값들만 불러오기\n",
    "arr2[:,3]"
   ]
  },
  {
   "cell_type": "markdown",
   "metadata": {
    "id": "QeS3E8E_vZjH"
   },
   "source": [
    "#### 필터링을 통한 인덱싱"
   ]
  },
  {
   "cell_type": "code",
   "execution_count": null,
   "metadata": {
    "id": "6GRVphkHvZjI",
    "outputId": "49ac1525-f757-4b09-ecbf-31177e0a1256"
   },
   "outputs": [
    {
     "data": {
      "text/plain": [
       "array([0, 1, 2, 3, 4, 5, 6, 7, 8, 9])"
      ]
     },
     "execution_count": 58,
     "metadata": {
      "tags": []
     },
     "output_type": "execute_result"
    }
   ],
   "source": [
    "arr1"
   ]
  },
  {
   "cell_type": "code",
   "execution_count": null,
   "metadata": {
    "id": "futjUe2HvZjK",
    "outputId": "89ead856-0d38-415d-8285-a7000e7d4f87"
   },
   "outputs": [
    {
     "data": {
      "text/plain": [
       "array([False, False, False, False, False, False,  True,  True,  True,\n",
       "        True])"
      ]
     },
     "execution_count": 59,
     "metadata": {
      "tags": []
     },
     "output_type": "execute_result"
    }
   ],
   "source": [
    "# boolean으로 확인하기\n",
    "\n",
    "arr1 > 5"
   ]
  },
  {
   "cell_type": "code",
   "execution_count": null,
   "metadata": {
    "id": "8NJtgHkbvZjQ",
    "outputId": "0584aa3b-82ce-4981-cd49-abf3eecca8d4"
   },
   "outputs": [
    {
     "data": {
      "text/plain": [
       "array([6, 7, 8, 9])"
      ]
     },
     "execution_count": 60,
     "metadata": {
      "tags": []
     },
     "output_type": "execute_result"
    }
   ],
   "source": [
    "# 조건에 맞는 (= 필터링된) 값 불러오기\n",
    "\n",
    "arr1[arr1 > 5]"
   ]
  },
  {
   "cell_type": "code",
   "execution_count": null,
   "metadata": {
    "id": "bl5NmgF8vZjc",
    "outputId": "ebc2d875-3577-459b-fb5b-94dbb2a8c9aa"
   },
   "outputs": [
    {
     "data": {
      "text/plain": [
       "(array([6, 7, 8, 9], dtype=int64),)"
      ]
     },
     "execution_count": 61,
     "metadata": {
      "tags": []
     },
     "output_type": "execute_result"
    }
   ],
   "source": [
    "# 조건에 맞는 값들의 인덱스값만 반환\n",
    "np.where(arr1 > 5)"
   ]
  },
  {
   "cell_type": "code",
   "execution_count": null,
   "metadata": {
    "id": "R6YD6xIdvZjl",
    "outputId": "32278c59-f196-4218-878c-8dc2949be925"
   },
   "outputs": [
    {
     "data": {
      "text/plain": [
       "array(['X', 'X', 'X', 'X', 'X', 'X', 'O', 'O', 'O', 'O'], dtype='<U1')"
      ]
     },
     "execution_count": 62,
     "metadata": {
      "tags": []
     },
     "output_type": "execute_result"
    }
   ],
   "source": [
    "np.where(arr1 > 5, 'O', 'X')"
   ]
  },
  {
   "cell_type": "markdown",
   "metadata": {
    "id": "hSh-V9ZdvZjs"
   },
   "source": [
    "---"
   ]
  },
  {
   "cell_type": "markdown",
   "metadata": {
    "id": "ffC2FX64vZjs"
   },
   "source": [
    "## 4. 자주 쓰이는 Numpy 함수"
   ]
  },
  {
   "cell_type": "markdown",
   "metadata": {
    "id": "bi59TakKvZjs"
   },
   "source": [
    "#### concatenate - 결합\n",
    "(주의: 가로, 세로 결합에 따라 row, column 갯수가 맞아야 결합이 가능)"
   ]
  },
  {
   "cell_type": "code",
   "execution_count": null,
   "metadata": {
    "id": "m1WJw_OkvZjt",
    "outputId": "83c1076f-63fe-4e9b-8631-20395c97e3a2"
   },
   "outputs": [
    {
     "data": {
      "text/plain": [
       "array([[1, 2, 3],\n",
       "       [4, 5, 6]])"
      ]
     },
     "execution_count": 63,
     "metadata": {
      "tags": []
     },
     "output_type": "execute_result"
    }
   ],
   "source": [
    "array1_"
   ]
  },
  {
   "cell_type": "code",
   "execution_count": null,
   "metadata": {
    "id": "uPq_dB0svZjw",
    "outputId": "94e214dc-6fb1-48be-ba38-471a5981a256"
   },
   "outputs": [
    {
     "data": {
      "text/plain": [
       "array([[10, 11, 12],\n",
       "       [13, 14, 15]])"
      ]
     },
     "execution_count": 64,
     "metadata": {
      "tags": []
     },
     "output_type": "execute_result"
    }
   ],
   "source": [
    "array2_"
   ]
  },
  {
   "cell_type": "code",
   "execution_count": null,
   "metadata": {
    "id": "2tLuYPnSvZj2",
    "outputId": "34ed3aed-4892-4667-c3b7-f0a33eda8fdf"
   },
   "outputs": [
    {
     "name": "stdout",
     "output_type": "stream",
     "text": [
      "[[ 1  2  3]\n",
      " [ 4  5  6]\n",
      " [10 11 12]\n",
      " [13 14 15]]\n"
     ]
    }
   ],
   "source": [
    "# default axis = 0, 수평축\n",
    "array_con0 = np.concatenate((array1_, array2_))\n",
    "print(array_con0)"
   ]
  },
  {
   "cell_type": "code",
   "execution_count": null,
   "metadata": {
    "id": "IoBEVQxcvZj4",
    "outputId": "6d261918-ef57-4019-870b-386a77f6dfd5"
   },
   "outputs": [
    {
     "data": {
      "text/plain": [
       "array([[1, 2, 3],\n",
       "       [4, 5, 6]])"
      ]
     },
     "execution_count": 66,
     "metadata": {
      "tags": []
     },
     "output_type": "execute_result"
    }
   ],
   "source": [
    "array3_ = np.array([[1, 2, 3],[4, 5, 6]])\n",
    "array3_"
   ]
  },
  {
   "cell_type": "code",
   "execution_count": null,
   "metadata": {
    "id": "l6iuZgqPvZj6",
    "outputId": "d52c6016-3685-4a04-f85d-546bc8bd16f7"
   },
   "outputs": [
    {
     "name": "stdout",
     "output_type": "stream",
     "text": [
      "[[10 11 12  1  2  3]\n",
      " [13 14 15  4  5  6]]\n"
     ]
    }
   ],
   "source": [
    "# axis=1로 하면 수직축\n",
    "array_con1 = np.concatenate((array2_, array3_), axis=1)\n",
    "print(array_con1)"
   ]
  },
  {
   "cell_type": "markdown",
   "metadata": {
    "id": "L1iZqFKnvZj8"
   },
   "source": [
    "#### reshape - 재배열\n",
    "\n",
    "reshape(행 수, 열 수)"
   ]
  },
  {
   "cell_type": "code",
   "execution_count": null,
   "metadata": {
    "id": "FCKf30igvZj9",
    "outputId": "084afe12-d61d-4d2f-ddf0-6af402700bf5"
   },
   "outputs": [
    {
     "data": {
      "text/plain": [
       "array([0, 1, 2, 3, 4, 5, 6, 7, 8, 9])"
      ]
     },
     "execution_count": 68,
     "metadata": {
      "tags": []
     },
     "output_type": "execute_result"
    }
   ],
   "source": [
    "arr = np.array(range(10))\n",
    "arr"
   ]
  },
  {
   "cell_type": "code",
   "execution_count": null,
   "metadata": {
    "id": "QuHUE7DTvZkB",
    "outputId": "7c574e11-5bc2-4c4d-cf0a-2bd0a9ade8f5"
   },
   "outputs": [
    {
     "data": {
      "text/plain": [
       "((10,), 1)"
      ]
     },
     "execution_count": 71,
     "metadata": {
      "tags": []
     },
     "output_type": "execute_result"
    }
   ],
   "source": [
    "# shape : array가 몇 행, 몇 열인지 반환\n",
    "# ndim : array의 차원수 반환\n",
    "arr.shape, arr.ndim"
   ]
  },
  {
   "cell_type": "code",
   "execution_count": null,
   "metadata": {
    "id": "eYnGHcz2vZkJ",
    "outputId": "f4b1ffe7-9362-47b1-e095-167ba78287b0"
   },
   "outputs": [
    {
     "data": {
      "text/plain": [
       "array([[0, 1, 2, 3, 4],\n",
       "       [5, 6, 7, 8, 9]])"
      ]
     },
     "execution_count": 72,
     "metadata": {
      "tags": []
     },
     "output_type": "execute_result"
    }
   ],
   "source": [
    "arr_reshaped1 = arr.reshape(2, 5)\n",
    "arr_reshaped1"
   ]
  },
  {
   "cell_type": "code",
   "execution_count": null,
   "metadata": {
    "id": "-Lyp7sbHvZkO",
    "outputId": "80315917-e02f-4af0-f94a-e42b285cd5a4"
   },
   "outputs": [
    {
     "data": {
      "text/plain": [
       "array([[0, 1],\n",
       "       [2, 3],\n",
       "       [4, 5],\n",
       "       [6, 7],\n",
       "       [8, 9]])"
      ]
     },
     "execution_count": 73,
     "metadata": {
      "tags": []
     },
     "output_type": "execute_result"
    }
   ],
   "source": [
    "arr_reshaped2 = arr.reshape(5, 2)\n",
    "arr_reshaped2"
   ]
  },
  {
   "cell_type": "markdown",
   "metadata": {
    "id": "uhsJ2ZBxmDT5"
   },
   "source": [
    "#### resahpe(-1) : 원래 배열의 길이와 남은 차원으로부터 추정"
   ]
  },
  {
   "cell_type": "code",
   "execution_count": null,
   "metadata": {
    "id": "TyUKmwdrvZkV",
    "outputId": "c81b48e8-0443-4b49-a128-7bfec209bb81"
   },
   "outputs": [
    {
     "data": {
      "text/plain": [
       "array([[0, 1],\n",
       "       [2, 3],\n",
       "       [4, 5],\n",
       "       [6, 7],\n",
       "       [8, 9]])"
      ]
     },
     "execution_count": 63,
     "metadata": {
      "tags": []
     },
     "output_type": "execute_result"
    }
   ],
   "source": [
    "arr_reshaped3 = arr.reshape(5, -1)\n",
    "arr_reshaped3"
   ]
  },
  {
   "cell_type": "markdown",
   "metadata": {
    "id": "e_c31RfBvZkX"
   },
   "source": [
    "#### argmax, argmin"
   ]
  },
  {
   "cell_type": "code",
   "execution_count": null,
   "metadata": {
    "id": "zMnqlGW3vZkY",
    "outputId": "9dae4b1c-4bd3-48b7-b281-65463765dfb1"
   },
   "outputs": [
    {
     "data": {
      "text/plain": [
       "array([0, 1, 2, 3, 4, 5, 6, 7, 8, 9])"
      ]
     },
     "execution_count": 74,
     "metadata": {
      "tags": []
     },
     "output_type": "execute_result"
    }
   ],
   "source": [
    "arr1"
   ]
  },
  {
   "cell_type": "code",
   "execution_count": null,
   "metadata": {
    "id": "uN5mJJaIvZka",
    "outputId": "4465b40e-847f-4c2f-9777-8a0faaa272c8"
   },
   "outputs": [
    {
     "data": {
      "text/plain": [
       "9"
      ]
     },
     "execution_count": 75,
     "metadata": {
      "tags": []
     },
     "output_type": "execute_result"
    }
   ],
   "source": [
    "np.argmax(arr1)"
   ]
  },
  {
   "cell_type": "code",
   "execution_count": null,
   "metadata": {
    "id": "j7r3v61HvZkb",
    "outputId": "508a981c-42ba-4a82-f84b-2d94b1c4057a"
   },
   "outputs": [
    {
     "data": {
      "text/plain": [
       "0"
      ]
     },
     "execution_count": 76,
     "metadata": {
      "tags": []
     },
     "output_type": "execute_result"
    }
   ],
   "source": [
    "np.argmin(arr1)"
   ]
  },
  {
   "cell_type": "markdown",
   "metadata": {
    "id": "W580_PNivZkc"
   },
   "source": [
    "*참고한 문헌: https://www.flearning.net/courses/6\n",
    "(주소 이전으로 접속이 안되네요)"
   ]
  }
 ],
 "metadata": {
  "colab": {
   "name": "Numpy.ipynb",
   "provenance": []
  },
  "kernelspec": {
   "display_name": "Python 3",
   "language": "python",
   "name": "python3"
  },
  "language_info": {
   "codemirror_mode": {
    "name": "ipython",
    "version": 3
   },
   "file_extension": ".py",
   "mimetype": "text/x-python",
   "name": "python",
   "nbconvert_exporter": "python",
   "pygments_lexer": "ipython3",
   "version": "3.8.5"
  }
 },
 "nbformat": 4,
 "nbformat_minor": 1
}
