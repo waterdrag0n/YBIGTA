{
 "cells": [
  {
   "cell_type": "code",
   "execution_count": 1,
   "metadata": {},
   "outputs": [],
   "source": [
    "import requests"
   ]
  },
  {
   "cell_type": "code",
   "execution_count": 2,
   "metadata": {},
   "outputs": [
    {
     "data": {
      "text/plain": [
       "200"
      ]
     },
     "execution_count": 2,
     "metadata": {},
     "output_type": "execute_result"
    }
   ],
   "source": [
    "resp = requests.get(\"https://www.naver.com/\")\n",
    "resp.status_code"
   ]
  },
  {
   "cell_type": "code",
   "execution_count": 3,
   "metadata": {},
   "outputs": [],
   "source": [
    "from selenium import webdriver\n",
    "from selenium.webdriver.common.keys import Keys\n",
    "import time"
   ]
  },
  {
   "cell_type": "code",
   "execution_count": 4,
   "metadata": {},
   "outputs": [],
   "source": [
    "path = 'C:/Users/sycha/Desktop/files/2020/winter/YBIGTA/git/13_크롤링_0202/과제/chromedriver.exe'\n",
    "driver = webdriver.Chrome(path)"
   ]
  },
  {
   "cell_type": "code",
   "execution_count": 5,
   "metadata": {},
   "outputs": [],
   "source": [
    "driver.get(\"https://www.naver.com/\")\n",
    "\n",
    "search = driver.find_element_by_id('query')\n",
    "time.sleep(1)\n",
    "\n",
    "search.send_keys('제주도')\n",
    "time.sleep(1)\n",
    "\n",
    "search.send_keys(Keys.RETURN)\n",
    "time.sleep(1)\n",
    "\n",
    "search = driver.find_element_by_link_text('뉴스')\n",
    "search.click()"
   ]
  },
  {
   "cell_type": "code",
   "execution_count": 15,
   "metadata": {
    "scrolled": true
   },
   "outputs": [
    {
     "name": "stdout",
     "output_type": "stream",
     "text": [
      "제주도, 올해 공무원 214명 뽑는다\n",
      "제주도의회 박원철·홍명환 \"갈등 조장 국민의힘 작태 규탄\"\n",
      "제주도, 설 연휴 종합상황실 운영...비상근무체계 돌입\n",
      "[전문] 제주도 6일 0시 기준 코로나19 확진자 6명 발생 공개...인예어린이집,...\n",
      "국민의힘 제주도당 “지역 국회의원, 제2공항 입장 밝혀라”\n",
      "인천 남동구의회 \"제주도 단체연수 계획 백지화\"\n",
      "제주도기자협회, 2020 제주도기자상 시상식 개최\n"
     ]
    }
   ],
   "source": [
    "all_title=[]\n",
    "news_index=[1,6,9,13,15,18,20]\n",
    "\n",
    "for i in news_index:\n",
    "    i=str(i)\n",
    "    css = '#sp_nws' + i + '> div.news_wrap.api_ani_send > div > a'\n",
    "    content = driver.find_element_by_css_selector(css)\n",
    "    all_title.append(content.text)\n",
    "\n",
    "for i in all_title:\n",
    "    print(i)"
   ]
  },
  {
   "cell_type": "code",
   "execution_count": null,
   "metadata": {},
   "outputs": [],
   "source": [
    "#sp_nws1 > div.news_wrap.api_ani_send > div > a\n",
    "#sp_nws6 > div.news_wrap.api_ani_send > div > a\n",
    "#sp_nws9 > div.news_wrap.api_ani_send > div > a\n",
    "#sp_nws12 > div > div > a\n",
    "#sp_nws13 > div.news_wrap.api_ani_send > div > a\n",
    "#sp_nws15 > div.news_wrap.api_ani_send > div > a\n",
    "#sp_nws17 > div > div > a\n",
    "#sp_nws18 > div.news_wrap.api_ani_send > div > a\n",
    "#sp_nws20 > div.news_wrap.api_ani_send > div > a\n",
    "#sp_nws24 > div > div > a\n",
    "1,6,9,13,15,18,20"
   ]
  }
 ],
 "metadata": {
  "kernelspec": {
   "display_name": "Python 3",
   "language": "python",
   "name": "python3"
  },
  "language_info": {
   "codemirror_mode": {
    "name": "ipython",
    "version": 3
   },
   "file_extension": ".py",
   "mimetype": "text/x-python",
   "name": "python",
   "nbconvert_exporter": "python",
   "pygments_lexer": "ipython3",
   "version": "3.8.5"
  }
 },
 "nbformat": 4,
 "nbformat_minor": 4
}
