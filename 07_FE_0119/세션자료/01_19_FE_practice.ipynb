{
 "cells": [
  {
   "cell_type": "markdown",
   "metadata": {
    "id": "yW_qFyjDDhs3"
   },
   "source": [
    "# Feature Engineering 실습\n",
    "\n",
    ": Data Source : https://www.kaggle.com/c/titanic <br>\n"
   ]
  },
  {
   "cell_type": "markdown",
   "metadata": {
    "id": "_yCvt0WMDhtF"
   },
   "source": [
    "---\n",
    "#### 변수들 설명\n",
    "+ PassngerId : Passenger Id <br>\n",
    "+ Survived : 1=생존, 0=사망 <br>\n",
    "+ PClass : 승객의 사회 경제적 지위를 표현 (1 = upper, 2 = middle, 3 = lower) <br>\n",
    "+ SibSp : 동행한 sibling , spouse 수 <br>\n",
    "+ Parch : 동행한 parents , children 수 <br>\n",
    "+ Ticket : ticket number <br>\n",
    "+ Cabin : cabin number <br>\n",
    "+ Embarked : Port of Embarkation (C = Cherbourg, Q = Queenstown, S = Southampton)\n",
    "---"
   ]
  },
  {
   "cell_type": "code",
   "execution_count": null,
   "metadata": {
    "id": "1a3sxHzyDhtG"
   },
   "outputs": [],
   "source": [
    "from sklearn.linear_model import LogisticRegression\n",
    "from sklearn.metrics import roc_auc_score\n",
    "from sklearn.model_selection import train_test_split"
   ]
  },
  {
   "cell_type": "code",
   "execution_count": null,
   "metadata": {
    "id": "UJLYVH9lDhtH",
    "scrolled": false
   },
   "outputs": [],
   "source": [
    "#!pip install pandas_profiling\n",
    "#!pip install pandas_profiling --user"
   ]
  },
  {
   "cell_type": "code",
   "execution_count": null,
   "metadata": {
    "colab": {
     "base_uri": "https://localhost:8080/",
     "height": 443
    },
    "executionInfo": {
     "elapsed": 2900,
     "status": "ok",
     "timestamp": 1611031403208,
     "user": {
      "displayName": "‍김지훈(학부학생/공과대학 토목·환경공학)",
      "photoUrl": "",
      "userId": "06228375687141397502"
     },
     "user_tz": -540
    },
    "id": "Y2b2x0GmDhtH",
    "outputId": "4f4b03ed-bf94-4ce1-e39b-d2351683478d"
   },
   "outputs": [
    {
     "name": "stdout",
     "output_type": "stream",
     "text": [
      "(891, 12)\n"
     ]
    },
    {
     "data": {
      "text/html": [
       "<div>\n",
       "<style scoped>\n",
       "    .dataframe tbody tr th:only-of-type {\n",
       "        vertical-align: middle;\n",
       "    }\n",
       "\n",
       "    .dataframe tbody tr th {\n",
       "        vertical-align: top;\n",
       "    }\n",
       "\n",
       "    .dataframe thead th {\n",
       "        text-align: right;\n",
       "    }\n",
       "</style>\n",
       "<table border=\"1\" class=\"dataframe\">\n",
       "  <thead>\n",
       "    <tr style=\"text-align: right;\">\n",
       "      <th></th>\n",
       "      <th>PassengerId</th>\n",
       "      <th>Survived</th>\n",
       "      <th>Pclass</th>\n",
       "      <th>Name</th>\n",
       "      <th>Sex</th>\n",
       "      <th>Age</th>\n",
       "      <th>SibSp</th>\n",
       "      <th>Parch</th>\n",
       "      <th>Ticket</th>\n",
       "      <th>Fare</th>\n",
       "      <th>Cabin</th>\n",
       "      <th>Embarked</th>\n",
       "    </tr>\n",
       "  </thead>\n",
       "  <tbody>\n",
       "    <tr>\n",
       "      <th>0</th>\n",
       "      <td>1</td>\n",
       "      <td>0</td>\n",
       "      <td>3</td>\n",
       "      <td>Braund, Mr. Owen Harris</td>\n",
       "      <td>male</td>\n",
       "      <td>22.0</td>\n",
       "      <td>1</td>\n",
       "      <td>0</td>\n",
       "      <td>A/5 21171</td>\n",
       "      <td>7.2500</td>\n",
       "      <td>NaN</td>\n",
       "      <td>S</td>\n",
       "    </tr>\n",
       "    <tr>\n",
       "      <th>1</th>\n",
       "      <td>2</td>\n",
       "      <td>1</td>\n",
       "      <td>1</td>\n",
       "      <td>Cumings, Mrs. John Bradley (Florence Briggs Th...</td>\n",
       "      <td>female</td>\n",
       "      <td>38.0</td>\n",
       "      <td>1</td>\n",
       "      <td>0</td>\n",
       "      <td>PC 17599</td>\n",
       "      <td>71.2833</td>\n",
       "      <td>C85</td>\n",
       "      <td>C</td>\n",
       "    </tr>\n",
       "    <tr>\n",
       "      <th>2</th>\n",
       "      <td>3</td>\n",
       "      <td>1</td>\n",
       "      <td>3</td>\n",
       "      <td>Heikkinen, Miss. Laina</td>\n",
       "      <td>female</td>\n",
       "      <td>26.0</td>\n",
       "      <td>0</td>\n",
       "      <td>0</td>\n",
       "      <td>STON/O2. 3101282</td>\n",
       "      <td>7.9250</td>\n",
       "      <td>NaN</td>\n",
       "      <td>S</td>\n",
       "    </tr>\n",
       "    <tr>\n",
       "      <th>3</th>\n",
       "      <td>4</td>\n",
       "      <td>1</td>\n",
       "      <td>1</td>\n",
       "      <td>Futrelle, Mrs. Jacques Heath (Lily May Peel)</td>\n",
       "      <td>female</td>\n",
       "      <td>35.0</td>\n",
       "      <td>1</td>\n",
       "      <td>0</td>\n",
       "      <td>113803</td>\n",
       "      <td>53.1000</td>\n",
       "      <td>C123</td>\n",
       "      <td>S</td>\n",
       "    </tr>\n",
       "    <tr>\n",
       "      <th>4</th>\n",
       "      <td>5</td>\n",
       "      <td>0</td>\n",
       "      <td>3</td>\n",
       "      <td>Allen, Mr. William Henry</td>\n",
       "      <td>male</td>\n",
       "      <td>35.0</td>\n",
       "      <td>0</td>\n",
       "      <td>0</td>\n",
       "      <td>373450</td>\n",
       "      <td>8.0500</td>\n",
       "      <td>NaN</td>\n",
       "      <td>S</td>\n",
       "    </tr>\n",
       "  </tbody>\n",
       "</table>\n",
       "</div>"
      ],
      "text/plain": [
       "   PassengerId  Survived  Pclass  \\\n",
       "0            1         0       3   \n",
       "1            2         1       1   \n",
       "2            3         1       3   \n",
       "3            4         1       1   \n",
       "4            5         0       3   \n",
       "\n",
       "                                                Name     Sex   Age  SibSp  \\\n",
       "0                            Braund, Mr. Owen Harris    male  22.0      1   \n",
       "1  Cumings, Mrs. John Bradley (Florence Briggs Th...  female  38.0      1   \n",
       "2                             Heikkinen, Miss. Laina  female  26.0      0   \n",
       "3       Futrelle, Mrs. Jacques Heath (Lily May Peel)  female  35.0      1   \n",
       "4                           Allen, Mr. William Henry    male  35.0      0   \n",
       "\n",
       "   Parch            Ticket     Fare Cabin Embarked  \n",
       "0      0         A/5 21171   7.2500   NaN        S  \n",
       "1      0          PC 17599  71.2833   C85        C  \n",
       "2      0  STON/O2. 3101282   7.9250   NaN        S  \n",
       "3      0            113803  53.1000  C123        S  \n",
       "4      0            373450   8.0500   NaN        S  "
      ]
     },
     "execution_count": 3,
     "metadata": {
      "tags": []
     },
     "output_type": "execute_result"
    }
   ],
   "source": [
    "import numpy as np\n",
    "import pandas as pd\n",
    "import pandas_profiling\n",
    "\n",
    "import seaborn as sns\n",
    "import matplotlib.pyplot as plt\n",
    "%matplotlib inline\n",
    "\n",
    "pd.set_option('display.max_columns', None)\n",
    "\n",
    "dir = '/content/drive/MyDrive/titanic.csv'\n",
    "titanic = pd.read_csv(dir)\n",
    "print(titanic.shape)\n",
    "titanic.head()"
   ]
  },
  {
   "cell_type": "code",
   "execution_count": null,
   "metadata": {
    "id": "oqaqXapNl4fM"
   },
   "outputs": [],
   "source": [
    "#!pip install --upgrade pandas_profiling"
   ]
  },
  {
   "cell_type": "code",
   "execution_count": null,
   "metadata": {
    "id": "e6kf4jmnkEbI"
   },
   "outputs": [],
   "source": [
    "from pandas_profiling import ProfileReport"
   ]
  },
  {
   "cell_type": "code",
   "execution_count": null,
   "metadata": {
    "colab": {
     "base_uri": "https://localhost:8080/",
     "height": 916,
     "referenced_widgets": [
      "9398af3aa7aa465e98ff4a75141f395b",
      "b0b95e9988564b71b3457178cd52f856",
      "d88cf1bbd523440fb7647416c2ed857f",
      "682283501e0e4726b42efa58b9dd1643",
      "2d62e949abfb42d9980244eae98fc1d5",
      "8ce498efa4844d2598587df2c24527e7",
      "876e98c028954be6b033b83155755bc2",
      "4efa027b6a154f2db494144023fa21be",
      "92d201f7f2094b578f9b8263faa4adbc",
      "504de892e6e74178902a25768fc15e21",
      "53098261d5d948ca88721690b9fee281",
      "b4a5e406f30f455e816cb226d0bcdc35",
      "183441f8b6be4bbdade3e2386cd3ff05",
      "04b80806e6864c1b974d2e26768797cc",
      "4f35dd7c876b454baba835bba7d39ae6",
      "d9709e1b9a444334a3fee3c2ac80d7ab",
      "e253b42ff04943a5acc2abd8b7f6c323",
      "8ac3bb24f28c4865827ca6dc9da850b9",
      "e33227517baf4643aca43ada3bc87382",
      "bab404fb0ea9418c8af0c4b3f28d6d9a",
      "78fb02d2be29428882a0ceefec487b2a",
      "d8973c9dd00f4d33a98f08a7ed0c8d3d",
      "2e3ae30818e440b1a3091a4822880115",
      "b0d1a23eae6840bc896e306a397a783b",
      "f8e3e6e85eab45e9b5c04d93f4f157e0",
      "bb3a16b1131b41d99bab2e5bc902edc0",
      "3b0ef310232348f3811450115ca38136",
      "255fb8808f7644f7b6a2741ca9ba072c",
      "ebbabc5c88304af9beefb78892d6fc0d",
      "00a3aaf7dbbb4d47ae536f5cd106f71e",
      "35a26a708f1d4f63b654c3717df35e67",
      "12a7bee705a1476c811aa823d164f81c",
      "e2b1e12971354ea6a3a6ab52fbb6cc81"
     ]
    },
    "executionInfo": {
     "elapsed": 22364,
     "status": "ok",
     "timestamp": 1611031422723,
     "user": {
      "displayName": "‍김지훈(학부학생/공과대학 토목·환경공학)",
      "photoUrl": "",
      "userId": "06228375687141397502"
     },
     "user_tz": -540
    },
    "id": "zAoyPtq_DhtI",
    "outputId": "605e82a1-3920-4749-d7ef-31038202b38d"
   },
   "outputs": [],
   "source": [
    "pandas_profiling.ProfileReport(titanic)"
   ]
  },
  {
   "cell_type": "markdown",
   "metadata": {
    "id": "ynilmQBqDhtT"
   },
   "source": [
    "##  Missing values\n",
    "#### Missing data mechnisms\n",
    "\n",
    "1. Missing Completely at Random (MCAR)\n",
    "<br>\n",
    "-the probability of being missing is the same for all the observations\n",
    "<br>\n",
    "-no relationship between the data missing and any other values\n",
    "<br>\n",
    "<br>\n",
    "2. Missing at Random (MAR)\n",
    "<br>\n",
    "-the probabilty an observation being missing depends only on available information\n",
    "<br>\n",
    "-For example, if men are more likely to disclose their weight than women, weight is MAR. The weight information will be missing at random for those men and women that decided not to disclose their weight, but as men are more prone to disclose it, there will be more missing values for women than for men.\n",
    "<br>\n",
    "<br>\n",
    "3. Missing Not at Random (MNAR)\n",
    "<br>\n",
    "-there is a mechanism or a reason why missing values are introduced in the dataset"
   ]
  },
  {
   "cell_type": "code",
   "execution_count": null,
   "metadata": {
    "colab": {
     "base_uri": "https://localhost:8080/"
    },
    "executionInfo": {
     "elapsed": 22340,
     "status": "ok",
     "timestamp": 1611031422724,
     "user": {
      "displayName": "‍김지훈(학부학생/공과대학 토목·환경공학)",
      "photoUrl": "",
      "userId": "06228375687141397502"
     },
     "user_tz": -540
    },
    "id": "Y8sLY4qqDhtZ",
    "outputId": "c352dc5b-b2f7-4293-a562-293b2a15f78f"
   },
   "outputs": [
    {
     "data": {
      "text/plain": [
       "PassengerId      0\n",
       "Survived         0\n",
       "Pclass           0\n",
       "Name             0\n",
       "Sex              0\n",
       "Age            177\n",
       "SibSp            0\n",
       "Parch            0\n",
       "Ticket           0\n",
       "Fare             0\n",
       "Cabin          687\n",
       "Embarked         2\n",
       "dtype: int64"
      ]
     },
     "execution_count": 7,
     "metadata": {
      "tags": []
     },
     "output_type": "execute_result"
    }
   ],
   "source": [
    "# 결측치 확인\n",
    "# titanic.isnull() : DataFrame 형식으로 보여짐\n",
    "titanic.isnull().sum()"
   ]
  },
  {
   "cell_type": "code",
   "execution_count": null,
   "metadata": {
    "colab": {
     "base_uri": "https://localhost:8080/"
    },
    "executionInfo": {
     "elapsed": 22373,
     "status": "ok",
     "timestamp": 1611031422783,
     "user": {
      "displayName": "‍김지훈(학부학생/공과대학 토목·환경공학)",
      "photoUrl": "",
      "userId": "06228375687141397502"
     },
     "user_tz": -540
    },
    "id": "3RUvy81nm1c-",
    "outputId": "18378bcd-4949-4544-ca00-5a31f9658aff"
   },
   "outputs": [
    {
     "data": {
      "text/plain": [
       "Cabin          77.104377\n",
       "Age            19.865320\n",
       "Embarked        0.224467\n",
       "Fare            0.000000\n",
       "Ticket          0.000000\n",
       "Parch           0.000000\n",
       "SibSp           0.000000\n",
       "Sex             0.000000\n",
       "Name            0.000000\n",
       "Pclass          0.000000\n",
       "Survived        0.000000\n",
       "PassengerId     0.000000\n",
       "dtype: float64"
      ]
     },
     "execution_count": 8,
     "metadata": {
      "tags": []
     },
     "output_type": "execute_result"
    }
   ],
   "source": [
    "(titanic.isnull().sum()/len(titanic)*100).sort_values(ascending=False)"
   ]
  },
  {
   "cell_type": "markdown",
   "metadata": {
    "id": "cApKet4WDhta"
   },
   "source": [
    "<b>[ex1]</b> Age에 있는 NULL값 177개가 생존('Survived'=1), 사망('Survived'=0)에 각각 몇 개씩 있는지 알고 싶다면?"
   ]
  },
  {
   "cell_type": "code",
   "execution_count": null,
   "metadata": {
    "colab": {
     "base_uri": "https://localhost:8080/",
     "height": 514
    },
    "executionInfo": {
     "elapsed": 22356,
     "status": "ok",
     "timestamp": 1611031422809,
     "user": {
      "displayName": "‍김지훈(학부학생/공과대학 토목·환경공학)",
      "photoUrl": "",
      "userId": "06228375687141397502"
     },
     "user_tz": -540
    },
    "id": "Km55WUjkDhta",
    "outputId": "4c6c0f7b-0a6a-4203-a999-a1187e2cb0b4"
   },
   "outputs": [
    {
     "name": "stdout",
     "output_type": "stream",
     "text": [
      "(891, 13)\n"
     ]
    },
    {
     "data": {
      "text/html": [
       "<div>\n",
       "<style scoped>\n",
       "    .dataframe tbody tr th:only-of-type {\n",
       "        vertical-align: middle;\n",
       "    }\n",
       "\n",
       "    .dataframe tbody tr th {\n",
       "        vertical-align: top;\n",
       "    }\n",
       "\n",
       "    .dataframe thead th {\n",
       "        text-align: right;\n",
       "    }\n",
       "</style>\n",
       "<table border=\"1\" class=\"dataframe\">\n",
       "  <thead>\n",
       "    <tr style=\"text-align: right;\">\n",
       "      <th></th>\n",
       "      <th>PassengerId</th>\n",
       "      <th>Survived</th>\n",
       "      <th>Pclass</th>\n",
       "      <th>Name</th>\n",
       "      <th>Sex</th>\n",
       "      <th>Age</th>\n",
       "      <th>SibSp</th>\n",
       "      <th>Parch</th>\n",
       "      <th>Ticket</th>\n",
       "      <th>Fare</th>\n",
       "      <th>Cabin</th>\n",
       "      <th>Embarked</th>\n",
       "      <th>age_null</th>\n",
       "    </tr>\n",
       "  </thead>\n",
       "  <tbody>\n",
       "    <tr>\n",
       "      <th>0</th>\n",
       "      <td>1</td>\n",
       "      <td>0</td>\n",
       "      <td>3</td>\n",
       "      <td>Braund, Mr. Owen Harris</td>\n",
       "      <td>male</td>\n",
       "      <td>22.0</td>\n",
       "      <td>1</td>\n",
       "      <td>0</td>\n",
       "      <td>A/5 21171</td>\n",
       "      <td>7.2500</td>\n",
       "      <td>NaN</td>\n",
       "      <td>S</td>\n",
       "      <td>0</td>\n",
       "    </tr>\n",
       "    <tr>\n",
       "      <th>1</th>\n",
       "      <td>2</td>\n",
       "      <td>1</td>\n",
       "      <td>1</td>\n",
       "      <td>Cumings, Mrs. John Bradley (Florence Briggs Th...</td>\n",
       "      <td>female</td>\n",
       "      <td>38.0</td>\n",
       "      <td>1</td>\n",
       "      <td>0</td>\n",
       "      <td>PC 17599</td>\n",
       "      <td>71.2833</td>\n",
       "      <td>C85</td>\n",
       "      <td>C</td>\n",
       "      <td>0</td>\n",
       "    </tr>\n",
       "    <tr>\n",
       "      <th>2</th>\n",
       "      <td>3</td>\n",
       "      <td>1</td>\n",
       "      <td>3</td>\n",
       "      <td>Heikkinen, Miss. Laina</td>\n",
       "      <td>female</td>\n",
       "      <td>26.0</td>\n",
       "      <td>0</td>\n",
       "      <td>0</td>\n",
       "      <td>STON/O2. 3101282</td>\n",
       "      <td>7.9250</td>\n",
       "      <td>NaN</td>\n",
       "      <td>S</td>\n",
       "      <td>0</td>\n",
       "    </tr>\n",
       "    <tr>\n",
       "      <th>3</th>\n",
       "      <td>4</td>\n",
       "      <td>1</td>\n",
       "      <td>1</td>\n",
       "      <td>Futrelle, Mrs. Jacques Heath (Lily May Peel)</td>\n",
       "      <td>female</td>\n",
       "      <td>35.0</td>\n",
       "      <td>1</td>\n",
       "      <td>0</td>\n",
       "      <td>113803</td>\n",
       "      <td>53.1000</td>\n",
       "      <td>C123</td>\n",
       "      <td>S</td>\n",
       "      <td>0</td>\n",
       "    </tr>\n",
       "    <tr>\n",
       "      <th>4</th>\n",
       "      <td>5</td>\n",
       "      <td>0</td>\n",
       "      <td>3</td>\n",
       "      <td>Allen, Mr. William Henry</td>\n",
       "      <td>male</td>\n",
       "      <td>35.0</td>\n",
       "      <td>0</td>\n",
       "      <td>0</td>\n",
       "      <td>373450</td>\n",
       "      <td>8.0500</td>\n",
       "      <td>NaN</td>\n",
       "      <td>S</td>\n",
       "      <td>0</td>\n",
       "    </tr>\n",
       "  </tbody>\n",
       "</table>\n",
       "</div>"
      ],
      "text/plain": [
       "   PassengerId  Survived  Pclass  \\\n",
       "0            1         0       3   \n",
       "1            2         1       1   \n",
       "2            3         1       3   \n",
       "3            4         1       1   \n",
       "4            5         0       3   \n",
       "\n",
       "                                                Name     Sex   Age  SibSp  \\\n",
       "0                            Braund, Mr. Owen Harris    male  22.0      1   \n",
       "1  Cumings, Mrs. John Bradley (Florence Briggs Th...  female  38.0      1   \n",
       "2                             Heikkinen, Miss. Laina  female  26.0      0   \n",
       "3       Futrelle, Mrs. Jacques Heath (Lily May Peel)  female  35.0      1   \n",
       "4                           Allen, Mr. William Henry    male  35.0      0   \n",
       "\n",
       "   Parch            Ticket     Fare Cabin Embarked  age_null  \n",
       "0      0         A/5 21171   7.2500   NaN        S         0  \n",
       "1      0          PC 17599  71.2833   C85        C         0  \n",
       "2      0  STON/O2. 3101282   7.9250   NaN        S         0  \n",
       "3      0            113803  53.1000  C123        S         0  \n",
       "4      0            373450   8.0500   NaN        S         0  "
      ]
     },
     "execution_count": 9,
     "metadata": {
      "tags": []
     },
     "output_type": "execute_result"
    }
   ],
   "source": [
    "# 1. Age column의 null 여부를 나타내는 'age_null' column을 새롭게 만들기\n",
    "# np.where() 사용\n",
    "titanic['age_null'] = np.where(titanic.Age.isnull(),1,0) # null이면 1, 아니면 0\n",
    "print(titanic.shape)\n",
    "titanic.head()"
   ]
  },
  {
   "cell_type": "code",
   "execution_count": null,
   "metadata": {
    "colab": {
     "base_uri": "https://localhost:8080/"
    },
    "executionInfo": {
     "elapsed": 22338,
     "status": "ok",
     "timestamp": 1611031422812,
     "user": {
      "displayName": "‍김지훈(학부학생/공과대학 토목·환경공학)",
      "photoUrl": "",
      "userId": "06228375687141397502"
     },
     "user_tz": -540
    },
    "id": "5ttXwCXmDhtb",
    "outputId": "3112b4cd-9b4c-4ee9-c4ce-92402741cd62",
    "scrolled": true
   },
   "outputs": [
    {
     "data": {
      "text/plain": [
       "Survived\n",
       "0    125\n",
       "1     52\n",
       "Name: age_null, dtype: int64"
      ]
     },
     "execution_count": 10,
     "metadata": {
      "tags": []
     },
     "output_type": "execute_result"
    }
   ],
   "source": [
    "# 2. [ex1]에서 원하는 결과값이 나오도록 코딩하기\n",
    "# groupby 사용\n",
    "# titanic.groupby('Survived')[['age_null']].sum() : DataFrame 형태로 나옴\n",
    "titanic.groupby('Survived')['age_null'].sum()"
   ]
  },
  {
   "cell_type": "markdown",
   "metadata": {
    "id": "GsoLc5U6Dhtc"
   },
   "source": [
    "## NA Imputation \n",
    "###  Numeric Variable"
   ]
  },
  {
   "cell_type": "markdown",
   "metadata": {
    "id": "flrAnaLXDhtc"
   },
   "source": [
    "#### 공통적인 전제\n",
    "- 타깃값 또는 다른 변수와의 관계성을 살펴보아야 함."
   ]
  },
  {
   "cell_type": "markdown",
   "metadata": {
    "id": "RWZEXAVoDhtd"
   },
   "source": [
    "---\n",
    "### (1) Deletion (Complete Case Analysis)\n",
    "\n",
    "- NA 값을 버리는 방법 : NA 가 없는 변수를 살펴보기.\n",
    "- categorical 과 numerical variable 모두에 사용가능한 방법. <br>\n",
    "<br>\n",
    "\n",
    "#### Assumption\n",
    "\n",
    "- MCAR 일 때 효과가 좋음.\n",
    "\n",
    "#### advantage :)\n",
    "\n",
    "- 쉬움.\n",
    "- 변수의 분포가 보존. (데이터가 MCAR 이라면 그럴것이라고 생각됨)\n",
    "\n",
    "#### disadvantage :(\n",
    "\n",
    "- 의미있는 데이터를 잃을 수도 있음.\n",
    "- 사실 추천하는 방법은 아님. 주로 NA 값이 매우 적을 때 사용. 물론 여기서 NA 값의 갯수에 대한 기준은 없음.\n",
    "---"
   ]
  },
  {
   "cell_type": "code",
   "execution_count": null,
   "metadata": {
    "colab": {
     "base_uri": "https://localhost:8080/"
    },
    "executionInfo": {
     "elapsed": 22316,
     "status": "ok",
     "timestamp": 1611031422813,
     "user": {
      "displayName": "‍김지훈(학부학생/공과대학 토목·환경공학)",
      "photoUrl": "",
      "userId": "06228375687141397502"
     },
     "user_tz": -540
    },
    "id": "NXclsuUeDhtd",
    "outputId": "e66a640d-0c9f-4677-d98f-ce69a98bcb40"
   },
   "outputs": [
    {
     "name": "stdout",
     "output_type": "stream",
     "text": [
      "(891, 3)\n"
     ]
    },
    {
     "data": {
      "text/plain": [
       "Survived      0\n",
       "Age         177\n",
       "Fare          0\n",
       "dtype: int64"
      ]
     },
     "execution_count": 11,
     "metadata": {
      "tags": []
     },
     "output_type": "execute_result"
    }
   ],
   "source": [
    "# (1) Deletion\n",
    "titanic_age = pd.read_csv(dir, usecols = ['Age', 'Fare', 'Survived'])\n",
    "print(titanic_age.shape)\n",
    "titanic_age.isnull().sum()"
   ]
  },
  {
   "cell_type": "code",
   "execution_count": null,
   "metadata": {
    "colab": {
     "base_uri": "https://localhost:8080/",
     "height": 222
    },
    "executionInfo": {
     "elapsed": 22290,
     "status": "ok",
     "timestamp": 1611031422817,
     "user": {
      "displayName": "‍김지훈(학부학생/공과대학 토목·환경공학)",
      "photoUrl": "",
      "userId": "06228375687141397502"
     },
     "user_tz": -540
    },
    "id": "GQesd5K-Dhtd",
    "outputId": "b57f684f-1f7d-4b18-d053-651a8022f034",
    "scrolled": true
   },
   "outputs": [
    {
     "name": "stdout",
     "output_type": "stream",
     "text": [
      "(714, 3)\n"
     ]
    },
    {
     "data": {
      "text/html": [
       "<div>\n",
       "<style scoped>\n",
       "    .dataframe tbody tr th:only-of-type {\n",
       "        vertical-align: middle;\n",
       "    }\n",
       "\n",
       "    .dataframe tbody tr th {\n",
       "        vertical-align: top;\n",
       "    }\n",
       "\n",
       "    .dataframe thead th {\n",
       "        text-align: right;\n",
       "    }\n",
       "</style>\n",
       "<table border=\"1\" class=\"dataframe\">\n",
       "  <thead>\n",
       "    <tr style=\"text-align: right;\">\n",
       "      <th></th>\n",
       "      <th>Survived</th>\n",
       "      <th>Age</th>\n",
       "      <th>Fare</th>\n",
       "    </tr>\n",
       "  </thead>\n",
       "  <tbody>\n",
       "    <tr>\n",
       "      <th>0</th>\n",
       "      <td>0</td>\n",
       "      <td>22.0</td>\n",
       "      <td>7.2500</td>\n",
       "    </tr>\n",
       "    <tr>\n",
       "      <th>1</th>\n",
       "      <td>1</td>\n",
       "      <td>38.0</td>\n",
       "      <td>71.2833</td>\n",
       "    </tr>\n",
       "    <tr>\n",
       "      <th>2</th>\n",
       "      <td>1</td>\n",
       "      <td>26.0</td>\n",
       "      <td>7.9250</td>\n",
       "    </tr>\n",
       "    <tr>\n",
       "      <th>3</th>\n",
       "      <td>1</td>\n",
       "      <td>35.0</td>\n",
       "      <td>53.1000</td>\n",
       "    </tr>\n",
       "    <tr>\n",
       "      <th>4</th>\n",
       "      <td>0</td>\n",
       "      <td>35.0</td>\n",
       "      <td>8.0500</td>\n",
       "    </tr>\n",
       "  </tbody>\n",
       "</table>\n",
       "</div>"
      ],
      "text/plain": [
       "   Survived   Age     Fare\n",
       "0         0  22.0   7.2500\n",
       "1         1  38.0  71.2833\n",
       "2         1  26.0   7.9250\n",
       "3         1  35.0  53.1000\n",
       "4         0  35.0   8.0500"
      ]
     },
     "execution_count": 12,
     "metadata": {
      "tags": []
     },
     "output_type": "execute_result"
    }
   ],
   "source": [
    "# 결측치가 있는 Row 날리기\n",
    "titanic_age_droprow = titanic_age.dropna()\n",
    "print(titanic_age_droprow.shape)\n",
    "titanic_age_droprow.head()"
   ]
  },
  {
   "cell_type": "code",
   "execution_count": null,
   "metadata": {
    "colab": {
     "base_uri": "https://localhost:8080/",
     "height": 222
    },
    "executionInfo": {
     "elapsed": 22265,
     "status": "ok",
     "timestamp": 1611031422825,
     "user": {
      "displayName": "‍김지훈(학부학생/공과대학 토목·환경공학)",
      "photoUrl": "",
      "userId": "06228375687141397502"
     },
     "user_tz": -540
    },
    "id": "8u90GFojDhte",
    "outputId": "9287ee38-7822-4854-cc7d-661e371633e1"
   },
   "outputs": [
    {
     "name": "stdout",
     "output_type": "stream",
     "text": [
      "(891, 2)\n"
     ]
    },
    {
     "data": {
      "text/html": [
       "<div>\n",
       "<style scoped>\n",
       "    .dataframe tbody tr th:only-of-type {\n",
       "        vertical-align: middle;\n",
       "    }\n",
       "\n",
       "    .dataframe tbody tr th {\n",
       "        vertical-align: top;\n",
       "    }\n",
       "\n",
       "    .dataframe thead th {\n",
       "        text-align: right;\n",
       "    }\n",
       "</style>\n",
       "<table border=\"1\" class=\"dataframe\">\n",
       "  <thead>\n",
       "    <tr style=\"text-align: right;\">\n",
       "      <th></th>\n",
       "      <th>Survived</th>\n",
       "      <th>Fare</th>\n",
       "    </tr>\n",
       "  </thead>\n",
       "  <tbody>\n",
       "    <tr>\n",
       "      <th>0</th>\n",
       "      <td>0</td>\n",
       "      <td>7.2500</td>\n",
       "    </tr>\n",
       "    <tr>\n",
       "      <th>1</th>\n",
       "      <td>1</td>\n",
       "      <td>71.2833</td>\n",
       "    </tr>\n",
       "    <tr>\n",
       "      <th>2</th>\n",
       "      <td>1</td>\n",
       "      <td>7.9250</td>\n",
       "    </tr>\n",
       "    <tr>\n",
       "      <th>3</th>\n",
       "      <td>1</td>\n",
       "      <td>53.1000</td>\n",
       "    </tr>\n",
       "    <tr>\n",
       "      <th>4</th>\n",
       "      <td>0</td>\n",
       "      <td>8.0500</td>\n",
       "    </tr>\n",
       "  </tbody>\n",
       "</table>\n",
       "</div>"
      ],
      "text/plain": [
       "   Survived     Fare\n",
       "0         0   7.2500\n",
       "1         1  71.2833\n",
       "2         1   7.9250\n",
       "3         1  53.1000\n",
       "4         0   8.0500"
      ]
     },
     "execution_count": 13,
     "metadata": {
      "tags": []
     },
     "output_type": "execute_result"
    }
   ],
   "source": [
    "# 결측치가 있는 Column 지우기 : 이 때, 위의 코드에서 axis='columns' 옵션만 추가하기\n",
    "titanic_age_dropcol= titanic_age.dropna(axis='columns')\n",
    "print(titanic_age_dropcol.shape)\n",
    "titanic_age_dropcol.head()"
   ]
  },
  {
   "cell_type": "markdown",
   "metadata": {
    "id": "YFnWVlQ1Dhtf"
   },
   "source": [
    "<b>[ex2]</b> 이번에는 'Age'말고 titanic의 'Cabin'을 불러와서 위의 방식과 같이 지워보기"
   ]
  },
  {
   "cell_type": "code",
   "execution_count": null,
   "metadata": {
    "colab": {
     "base_uri": "https://localhost:8080/"
    },
    "executionInfo": {
     "elapsed": 22169,
     "status": "ok",
     "timestamp": 1611031422828,
     "user": {
      "displayName": "‍김지훈(학부학생/공과대학 토목·환경공학)",
      "photoUrl": "",
      "userId": "06228375687141397502"
     },
     "user_tz": -540
    },
    "id": "PxKHo44TDhtf",
    "outputId": "d9068774-6c55-4c93-82d8-fc1e8742a3ff"
   },
   "outputs": [
    {
     "name": "stdout",
     "output_type": "stream",
     "text": [
      "(891, 3)\n"
     ]
    },
    {
     "data": {
      "text/plain": [
       "Survived      0\n",
       "Fare          0\n",
       "Cabin       687\n",
       "dtype: int64"
      ]
     },
     "execution_count": 14,
     "metadata": {
      "tags": []
     },
     "output_type": "execute_result"
    }
   ],
   "source": [
    "titanic_cabin = pd.read_csv(dir, usecols = ['Cabin', 'Fare', 'Survived'])\n",
    "print(titanic_cabin.shape)\n",
    "titanic_cabin.isnull().sum()"
   ]
  },
  {
   "cell_type": "code",
   "execution_count": null,
   "metadata": {
    "colab": {
     "base_uri": "https://localhost:8080/",
     "height": 222
    },
    "executionInfo": {
     "elapsed": 22138,
     "status": "ok",
     "timestamp": 1611031422834,
     "user": {
      "displayName": "‍김지훈(학부학생/공과대학 토목·환경공학)",
      "photoUrl": "",
      "userId": "06228375687141397502"
     },
     "user_tz": -540
    },
    "id": "tFhW9LEMDhtg",
    "outputId": "0b1bec70-390c-4581-9866-50de8179a775"
   },
   "outputs": [
    {
     "name": "stdout",
     "output_type": "stream",
     "text": [
      "(204, 3)\n"
     ]
    },
    {
     "data": {
      "text/html": [
       "<div>\n",
       "<style scoped>\n",
       "    .dataframe tbody tr th:only-of-type {\n",
       "        vertical-align: middle;\n",
       "    }\n",
       "\n",
       "    .dataframe tbody tr th {\n",
       "        vertical-align: top;\n",
       "    }\n",
       "\n",
       "    .dataframe thead th {\n",
       "        text-align: right;\n",
       "    }\n",
       "</style>\n",
       "<table border=\"1\" class=\"dataframe\">\n",
       "  <thead>\n",
       "    <tr style=\"text-align: right;\">\n",
       "      <th></th>\n",
       "      <th>Survived</th>\n",
       "      <th>Fare</th>\n",
       "      <th>Cabin</th>\n",
       "    </tr>\n",
       "  </thead>\n",
       "  <tbody>\n",
       "    <tr>\n",
       "      <th>1</th>\n",
       "      <td>1</td>\n",
       "      <td>71.2833</td>\n",
       "      <td>C85</td>\n",
       "    </tr>\n",
       "    <tr>\n",
       "      <th>3</th>\n",
       "      <td>1</td>\n",
       "      <td>53.1000</td>\n",
       "      <td>C123</td>\n",
       "    </tr>\n",
       "    <tr>\n",
       "      <th>6</th>\n",
       "      <td>0</td>\n",
       "      <td>51.8625</td>\n",
       "      <td>E46</td>\n",
       "    </tr>\n",
       "    <tr>\n",
       "      <th>10</th>\n",
       "      <td>1</td>\n",
       "      <td>16.7000</td>\n",
       "      <td>G6</td>\n",
       "    </tr>\n",
       "    <tr>\n",
       "      <th>11</th>\n",
       "      <td>1</td>\n",
       "      <td>26.5500</td>\n",
       "      <td>C103</td>\n",
       "    </tr>\n",
       "  </tbody>\n",
       "</table>\n",
       "</div>"
      ],
      "text/plain": [
       "    Survived     Fare Cabin\n",
       "1          1  71.2833   C85\n",
       "3          1  53.1000  C123\n",
       "6          0  51.8625   E46\n",
       "10         1  16.7000    G6\n",
       "11         1  26.5500  C103"
      ]
     },
     "execution_count": 15,
     "metadata": {
      "tags": []
     },
     "output_type": "execute_result"
    }
   ],
   "source": [
    "titanic_cabin_droprow = titanic_cabin.dropna()\n",
    "print(titanic_cabin_droprow.shape)\n",
    "titanic_cabin_droprow.head()"
   ]
  },
  {
   "cell_type": "code",
   "execution_count": null,
   "metadata": {
    "colab": {
     "base_uri": "https://localhost:8080/",
     "height": 222
    },
    "executionInfo": {
     "elapsed": 22162,
     "status": "ok",
     "timestamp": 1611031422872,
     "user": {
      "displayName": "‍김지훈(학부학생/공과대학 토목·환경공학)",
      "photoUrl": "",
      "userId": "06228375687141397502"
     },
     "user_tz": -540
    },
    "id": "U6aRZJ2UDhtg",
    "outputId": "fd08a80c-cca4-4870-afab-d2c1c0efcef1"
   },
   "outputs": [
    {
     "name": "stdout",
     "output_type": "stream",
     "text": [
      "(891, 2)\n"
     ]
    },
    {
     "data": {
      "text/html": [
       "<div>\n",
       "<style scoped>\n",
       "    .dataframe tbody tr th:only-of-type {\n",
       "        vertical-align: middle;\n",
       "    }\n",
       "\n",
       "    .dataframe tbody tr th {\n",
       "        vertical-align: top;\n",
       "    }\n",
       "\n",
       "    .dataframe thead th {\n",
       "        text-align: right;\n",
       "    }\n",
       "</style>\n",
       "<table border=\"1\" class=\"dataframe\">\n",
       "  <thead>\n",
       "    <tr style=\"text-align: right;\">\n",
       "      <th></th>\n",
       "      <th>Survived</th>\n",
       "      <th>Fare</th>\n",
       "    </tr>\n",
       "  </thead>\n",
       "  <tbody>\n",
       "    <tr>\n",
       "      <th>0</th>\n",
       "      <td>0</td>\n",
       "      <td>7.2500</td>\n",
       "    </tr>\n",
       "    <tr>\n",
       "      <th>1</th>\n",
       "      <td>1</td>\n",
       "      <td>71.2833</td>\n",
       "    </tr>\n",
       "    <tr>\n",
       "      <th>2</th>\n",
       "      <td>1</td>\n",
       "      <td>7.9250</td>\n",
       "    </tr>\n",
       "    <tr>\n",
       "      <th>3</th>\n",
       "      <td>1</td>\n",
       "      <td>53.1000</td>\n",
       "    </tr>\n",
       "    <tr>\n",
       "      <th>4</th>\n",
       "      <td>0</td>\n",
       "      <td>8.0500</td>\n",
       "    </tr>\n",
       "  </tbody>\n",
       "</table>\n",
       "</div>"
      ],
      "text/plain": [
       "   Survived     Fare\n",
       "0         0   7.2500\n",
       "1         1  71.2833\n",
       "2         1   7.9250\n",
       "3         1  53.1000\n",
       "4         0   8.0500"
      ]
     },
     "execution_count": 16,
     "metadata": {
      "tags": []
     },
     "output_type": "execute_result"
    }
   ],
   "source": [
    "titanic_cabin_dropcol= titanic_cabin.dropna(axis='columns')\n",
    "print(titanic_cabin_dropcol.shape)\n",
    "titanic_cabin_dropcol.head()"
   ]
  },
  {
   "cell_type": "markdown",
   "metadata": {
    "id": "vCLO1vIxDhtg"
   },
   "source": [
    "---\n",
    "### (2) Mean and Median imputation\n",
    "<br>\n",
    "#### Assumption\n",
    "- MCAR\n",
    "\n",
    "#### Advantage\n",
    "- 쉽고 빠름.\n",
    "\n",
    "#### Limitation\n",
    "- original variance를 변형시킬 수 있음.\n",
    "- 다른 변수와 공분산을 변형시킬 수 있음 = 다른 변수와의 관계가 변형될 수 있음\n",
    "\n",
    "#### Imputation important\n",
    "- overfitting을 피하기 위해 train set에서 imputate 할 값을 정하고 이를 train set과 test set 모두에 적용.\n",
    "---"
   ]
  },
  {
   "cell_type": "code",
   "execution_count": null,
   "metadata": {
    "colab": {
     "base_uri": "https://localhost:8080/"
    },
    "executionInfo": {
     "elapsed": 22150,
     "status": "ok",
     "timestamp": 1611031422876,
     "user": {
      "displayName": "‍김지훈(학부학생/공과대학 토목·환경공학)",
      "photoUrl": "",
      "userId": "06228375687141397502"
     },
     "user_tz": -540
    },
    "id": "A0eJTpxADhth",
    "outputId": "823b8d42-0cc2-4eaa-fc6a-45bad12a0de8"
   },
   "outputs": [
    {
     "data": {
      "text/plain": [
       "Survived      0\n",
       "Age         177\n",
       "Fare          0\n",
       "dtype: int64"
      ]
     },
     "execution_count": 17,
     "metadata": {
      "tags": []
     },
     "output_type": "execute_result"
    }
   ],
   "source": [
    "titanic_age.isnull().sum()"
   ]
  },
  {
   "cell_type": "code",
   "execution_count": null,
   "metadata": {
    "colab": {
     "base_uri": "https://localhost:8080/"
    },
    "executionInfo": {
     "elapsed": 22133,
     "status": "ok",
     "timestamp": 1611031422878,
     "user": {
      "displayName": "‍김지훈(학부학생/공과대학 토목·환경공학)",
      "photoUrl": "",
      "userId": "06228375687141397502"
     },
     "user_tz": -540
    },
    "id": "K35g9fDhDhth",
    "outputId": "9dacb316-6a5f-45a8-c0ee-389fa59d5df1"
   },
   "outputs": [
    {
     "name": "stdout",
     "output_type": "stream",
     "text": [
      "training predictors size: (623, 2)\n",
      "training response size: (623,)\n",
      "test predictors size: (268, 2)\n",
      "test response size: (268,)\n"
     ]
    }
   ],
   "source": [
    "X_train, X_test, y_train, y_test = train_test_split(titanic_age[['Age','Fare']], \n",
    "                                                    titanic_age.Survived, \n",
    "                                                    test_size=0.3,\n",
    "                                                    random_state=0)\n",
    "\n",
    "print(\"training predictors size:\", X_train.shape) \n",
    "print(\"training response size:\", y_train.shape)    \n",
    "print(\"test predictors size:\", X_test.shape)      \n",
    "print(\"test response size:\", y_test.shape)"
   ]
  },
  {
   "cell_type": "code",
   "execution_count": null,
   "metadata": {
    "colab": {
     "base_uri": "https://localhost:8080/"
    },
    "executionInfo": {
     "elapsed": 22116,
     "status": "ok",
     "timestamp": 1611031422881,
     "user": {
      "displayName": "‍김지훈(학부학생/공과대학 토목·환경공학)",
      "photoUrl": "",
      "userId": "06228375687141397502"
     },
     "user_tz": -540
    },
    "id": "FL4TLsK1Dhti",
    "outputId": "74198d00-9356-4b4f-dc8a-5a94b367b342"
   },
   "outputs": [
    {
     "data": {
      "text/plain": [
       "[29.0, 29.915338645418327]"
      ]
     },
     "execution_count": 19,
     "metadata": {
      "tags": []
     },
     "output_type": "execute_result"
    }
   ],
   "source": [
    "# Age의 median, mean 확인\n",
    "[X_train.Age.median(), X_train.Age.mean()]"
   ]
  },
  {
   "cell_type": "code",
   "execution_count": null,
   "metadata": {
    "id": "wFlojF1-Dhti"
   },
   "outputs": [],
   "source": [
    "# 'Age_median', 'Age_mean' column 생성\n",
    "titanic_age['Age_median'] = titanic_age.Age.fillna(X_train.Age.median())\n",
    "titanic_age['Age_mean'] = titanic_age.Age.fillna(X_train.Age.mean())"
   ]
  },
  {
   "cell_type": "code",
   "execution_count": null,
   "metadata": {
    "colab": {
     "base_uri": "https://localhost:8080/"
    },
    "executionInfo": {
     "elapsed": 22076,
     "status": "ok",
     "timestamp": 1611031422885,
     "user": {
      "displayName": "‍김지훈(학부학생/공과대학 토목·환경공학)",
      "photoUrl": "",
      "userId": "06228375687141397502"
     },
     "user_tz": -540
    },
    "id": "VJN5J80SDhtj",
    "outputId": "5aebaddd-2386-4325-fd89-8f48a67852f7"
   },
   "outputs": [
    {
     "data": {
      "text/plain": [
       "Survived        0\n",
       "Age           177\n",
       "Fare            0\n",
       "Age_median      0\n",
       "Age_mean        0\n",
       "dtype: int64"
      ]
     },
     "execution_count": 21,
     "metadata": {
      "tags": []
     },
     "output_type": "execute_result"
    }
   ],
   "source": [
    "titanic_age.isnull().sum()"
   ]
  },
  {
   "cell_type": "code",
   "execution_count": null,
   "metadata": {
    "colab": {
     "base_uri": "https://localhost:8080/",
     "height": 204
    },
    "executionInfo": {
     "elapsed": 22068,
     "status": "ok",
     "timestamp": 1611031422889,
     "user": {
      "displayName": "‍김지훈(학부학생/공과대학 토목·환경공학)",
      "photoUrl": "",
      "userId": "06228375687141397502"
     },
     "user_tz": -540
    },
    "id": "hOUlfHXaDhtj",
    "outputId": "5d5158c4-b73c-43be-ec94-cb876af2c57c"
   },
   "outputs": [
    {
     "data": {
      "text/html": [
       "<div>\n",
       "<style scoped>\n",
       "    .dataframe tbody tr th:only-of-type {\n",
       "        vertical-align: middle;\n",
       "    }\n",
       "\n",
       "    .dataframe tbody tr th {\n",
       "        vertical-align: top;\n",
       "    }\n",
       "\n",
       "    .dataframe thead th {\n",
       "        text-align: right;\n",
       "    }\n",
       "</style>\n",
       "<table border=\"1\" class=\"dataframe\">\n",
       "  <thead>\n",
       "    <tr style=\"text-align: right;\">\n",
       "      <th></th>\n",
       "      <th>Survived</th>\n",
       "      <th>Age</th>\n",
       "      <th>Fare</th>\n",
       "      <th>Age_median</th>\n",
       "      <th>Age_mean</th>\n",
       "    </tr>\n",
       "  </thead>\n",
       "  <tbody>\n",
       "    <tr>\n",
       "      <th>0</th>\n",
       "      <td>0</td>\n",
       "      <td>22.0</td>\n",
       "      <td>7.2500</td>\n",
       "      <td>22.0</td>\n",
       "      <td>22.0</td>\n",
       "    </tr>\n",
       "    <tr>\n",
       "      <th>1</th>\n",
       "      <td>1</td>\n",
       "      <td>38.0</td>\n",
       "      <td>71.2833</td>\n",
       "      <td>38.0</td>\n",
       "      <td>38.0</td>\n",
       "    </tr>\n",
       "    <tr>\n",
       "      <th>2</th>\n",
       "      <td>1</td>\n",
       "      <td>26.0</td>\n",
       "      <td>7.9250</td>\n",
       "      <td>26.0</td>\n",
       "      <td>26.0</td>\n",
       "    </tr>\n",
       "    <tr>\n",
       "      <th>3</th>\n",
       "      <td>1</td>\n",
       "      <td>35.0</td>\n",
       "      <td>53.1000</td>\n",
       "      <td>35.0</td>\n",
       "      <td>35.0</td>\n",
       "    </tr>\n",
       "    <tr>\n",
       "      <th>4</th>\n",
       "      <td>0</td>\n",
       "      <td>35.0</td>\n",
       "      <td>8.0500</td>\n",
       "      <td>35.0</td>\n",
       "      <td>35.0</td>\n",
       "    </tr>\n",
       "  </tbody>\n",
       "</table>\n",
       "</div>"
      ],
      "text/plain": [
       "   Survived   Age     Fare  Age_median  Age_mean\n",
       "0         0  22.0   7.2500        22.0      22.0\n",
       "1         1  38.0  71.2833        38.0      38.0\n",
       "2         1  26.0   7.9250        26.0      26.0\n",
       "3         1  35.0  53.1000        35.0      35.0\n",
       "4         0  35.0   8.0500        35.0      35.0"
      ]
     },
     "execution_count": 22,
     "metadata": {
      "tags": []
     },
     "output_type": "execute_result"
    }
   ],
   "source": [
    "titanic_age.head()"
   ]
  },
  {
   "cell_type": "code",
   "execution_count": null,
   "metadata": {
    "colab": {
     "base_uri": "https://localhost:8080/",
     "height": 235
    },
    "executionInfo": {
     "elapsed": 22062,
     "status": "ok",
     "timestamp": 1611031422890,
     "user": {
      "displayName": "‍김지훈(학부학생/공과대학 토목·환경공학)",
      "photoUrl": "",
      "userId": "06228375687141397502"
     },
     "user_tz": -540
    },
    "id": "UyeEZZsOvfzm",
    "outputId": "8f15c29f-d317-4061-eb8f-b52bfe597b85"
   },
   "outputs": [
    {
     "data": {
      "text/html": [
       "<div>\n",
       "<style scoped>\n",
       "    .dataframe tbody tr th:only-of-type {\n",
       "        vertical-align: middle;\n",
       "    }\n",
       "\n",
       "    .dataframe tbody tr th {\n",
       "        vertical-align: top;\n",
       "    }\n",
       "\n",
       "    .dataframe thead th {\n",
       "        text-align: right;\n",
       "    }\n",
       "</style>\n",
       "<table border=\"1\" class=\"dataframe\">\n",
       "  <thead>\n",
       "    <tr style=\"text-align: right;\">\n",
       "      <th></th>\n",
       "      <th>Survived</th>\n",
       "      <th>Age</th>\n",
       "      <th>Fare</th>\n",
       "      <th>Age_median</th>\n",
       "      <th>Age_mean</th>\n",
       "    </tr>\n",
       "  </thead>\n",
       "  <tbody>\n",
       "    <tr>\n",
       "      <th>0</th>\n",
       "      <td>0</td>\n",
       "      <td>22.0</td>\n",
       "      <td>7.2500</td>\n",
       "      <td>22.0</td>\n",
       "      <td>22.000000</td>\n",
       "    </tr>\n",
       "    <tr>\n",
       "      <th>1</th>\n",
       "      <td>1</td>\n",
       "      <td>38.0</td>\n",
       "      <td>71.2833</td>\n",
       "      <td>38.0</td>\n",
       "      <td>38.000000</td>\n",
       "    </tr>\n",
       "    <tr>\n",
       "      <th>2</th>\n",
       "      <td>1</td>\n",
       "      <td>26.0</td>\n",
       "      <td>7.9250</td>\n",
       "      <td>26.0</td>\n",
       "      <td>26.000000</td>\n",
       "    </tr>\n",
       "    <tr>\n",
       "      <th>3</th>\n",
       "      <td>1</td>\n",
       "      <td>35.0</td>\n",
       "      <td>53.1000</td>\n",
       "      <td>35.0</td>\n",
       "      <td>35.000000</td>\n",
       "    </tr>\n",
       "    <tr>\n",
       "      <th>4</th>\n",
       "      <td>0</td>\n",
       "      <td>35.0</td>\n",
       "      <td>8.0500</td>\n",
       "      <td>35.0</td>\n",
       "      <td>35.000000</td>\n",
       "    </tr>\n",
       "    <tr>\n",
       "      <th>5</th>\n",
       "      <td>0</td>\n",
       "      <td>NaN</td>\n",
       "      <td>8.4583</td>\n",
       "      <td>29.0</td>\n",
       "      <td>29.915339</td>\n",
       "    </tr>\n",
       "  </tbody>\n",
       "</table>\n",
       "</div>"
      ],
      "text/plain": [
       "   Survived   Age     Fare  Age_median   Age_mean\n",
       "0         0  22.0   7.2500        22.0  22.000000\n",
       "1         1  38.0  71.2833        38.0  38.000000\n",
       "2         1  26.0   7.9250        26.0  26.000000\n",
       "3         1  35.0  53.1000        35.0  35.000000\n",
       "4         0  35.0   8.0500        35.0  35.000000\n",
       "5         0   NaN   8.4583        29.0  29.915339"
      ]
     },
     "execution_count": 23,
     "metadata": {
      "tags": []
     },
     "output_type": "execute_result"
    }
   ],
   "source": [
    "titanic_age.head(6)"
   ]
  },
  {
   "cell_type": "code",
   "execution_count": null,
   "metadata": {
    "colab": {
     "base_uri": "https://localhost:8080/"
    },
    "executionInfo": {
     "elapsed": 22055,
     "status": "ok",
     "timestamp": 1611031422892,
     "user": {
      "displayName": "‍김지훈(학부학생/공과대학 토목·환경공학)",
      "photoUrl": "",
      "userId": "06228375687141397502"
     },
     "user_tz": -540
    },
    "id": "NJn589qxDhtj",
    "outputId": "fcb3dde6-cd2c-484f-b185-fc1d7d63ec1a"
   },
   "outputs": [
    {
     "name": "stdout",
     "output_type": "stream",
     "text": [
      "Original Variance:  14.526497332334044\n",
      "Variance after median imputation:  13.005010341761817\n",
      "Variance after mean imputation:  13.00230174541604\n"
     ]
    }
   ],
   "source": [
    "# Vaciance가 달라졌음을 알 수 있음\n",
    "print('Original Variance: ', titanic_age['Age'].std())\n",
    "print('Variance after median imputation: ', titanic_age['Age_median'].std())\n",
    "print('Variance after mean imputation: ', titanic_age['Age_mean'].std())"
   ]
  },
  {
   "cell_type": "code",
   "execution_count": null,
   "metadata": {
    "colab": {
     "base_uri": "https://localhost:8080/",
     "height": 283
    },
    "executionInfo": {
     "elapsed": 24418,
     "status": "ok",
     "timestamp": 1611031425261,
     "user": {
      "displayName": "‍김지훈(학부학생/공과대학 토목·환경공학)",
      "photoUrl": "",
      "userId": "06228375687141397502"
     },
     "user_tz": -540
    },
    "id": "NrMxYRT0Dhtk",
    "outputId": "87dd7903-978e-49ab-c86b-74da5b69b370"
   },
   "outputs": [
    {
     "data": {
      "text/plain": [
       "<matplotlib.legend.Legend at 0x7f9474ef2860>"
      ]
     },
     "execution_count": 25,
     "metadata": {
      "tags": []
     },
     "output_type": "execute_result"
    },
    {
     "data": {
      "image/png": "[encoded data removed]",
      "text/plain": [
       "<Figure size 432x288 with 1 Axes>"
      ]
     },
     "metadata": {
      "needs_background": "dark",
      "tags": []
     },
     "output_type": "display_data"
    }
   ],
   "source": [
    "# Variance 시각화\n",
    "fig = plt.figure()\n",
    "plt.style.use(['dark_background'])\n",
    "ax = fig.add_subplot(111)\n",
    "titanic_age['Age'].plot(kind='kde',ax=ax)\n",
    "titanic_age['Age_mean'].plot(kind='kde', ax=ax, color='red')\n",
    "titanic_age['Age_median'].plot(kind='kde', ax=ax, color='yellow')\n",
    "lines, labels = ax.get_legend_handles_labels()\n",
    "ax.legend(lines, labels, loc='best')"
   ]
  },
  {
   "cell_type": "markdown",
   "metadata": {
    "id": "9TOReHyCDhtk"
   },
   "source": [
    "---\n",
    "### (3) Random sample imputation\n",
    "\n",
    "- mean/median을 imputation하는 것과 비슷. \n",
    "- 하지만 원래 변수의 분포를 유지하기위한 목적을 갖고 있다는 점에서 차이를 보임. <br><br>\n",
    "\n",
    "#### Assumption\n",
    "- MCAR 인 상황을 가정.\n",
    "- 분산이 유지될 것.\n",
    "\n",
    "#### Advantage\n",
    "- 쉬움.\n",
    "- 분산과 분포가 유지 됨. (물론 아닌 경우도 있음. random이니까)\n",
    "- 하지만 비지니스적인 분야에서 유용한 경우도 있다고 함.\n",
    "\n",
    "#### Limitation\n",
    "- Randomness\n",
    "- Risky\n",
    "---"
   ]
  },
  {
   "cell_type": "code",
   "execution_count": null,
   "metadata": {
    "colab": {
     "base_uri": "https://localhost:8080/",
     "height": 235
    },
    "executionInfo": {
     "elapsed": 24410,
     "status": "ok",
     "timestamp": 1611031425264,
     "user": {
      "displayName": "‍김지훈(학부학생/공과대학 토목·환경공학)",
      "photoUrl": "",
      "userId": "06228375687141397502"
     },
     "user_tz": -540
    },
    "id": "21v-JMX5Dhtk",
    "outputId": "9259e508-449d-4526-8a93-52c98e255606"
   },
   "outputs": [
    {
     "data": {
      "text/html": [
       "<div>\n",
       "<style scoped>\n",
       "    .dataframe tbody tr th:only-of-type {\n",
       "        vertical-align: middle;\n",
       "    }\n",
       "\n",
       "    .dataframe tbody tr th {\n",
       "        vertical-align: top;\n",
       "    }\n",
       "\n",
       "    .dataframe thead th {\n",
       "        text-align: right;\n",
       "    }\n",
       "</style>\n",
       "<table border=\"1\" class=\"dataframe\">\n",
       "  <thead>\n",
       "    <tr style=\"text-align: right;\">\n",
       "      <th></th>\n",
       "      <th>Survived</th>\n",
       "      <th>Age</th>\n",
       "      <th>Fare</th>\n",
       "      <th>Age_median</th>\n",
       "      <th>Age_mean</th>\n",
       "      <th>Age_filled</th>\n",
       "    </tr>\n",
       "  </thead>\n",
       "  <tbody>\n",
       "    <tr>\n",
       "      <th>0</th>\n",
       "      <td>0</td>\n",
       "      <td>22.0</td>\n",
       "      <td>7.2500</td>\n",
       "      <td>22.0</td>\n",
       "      <td>22.000000</td>\n",
       "      <td>22.0</td>\n",
       "    </tr>\n",
       "    <tr>\n",
       "      <th>1</th>\n",
       "      <td>1</td>\n",
       "      <td>38.0</td>\n",
       "      <td>71.2833</td>\n",
       "      <td>38.0</td>\n",
       "      <td>38.000000</td>\n",
       "      <td>38.0</td>\n",
       "    </tr>\n",
       "    <tr>\n",
       "      <th>2</th>\n",
       "      <td>1</td>\n",
       "      <td>26.0</td>\n",
       "      <td>7.9250</td>\n",
       "      <td>26.0</td>\n",
       "      <td>26.000000</td>\n",
       "      <td>26.0</td>\n",
       "    </tr>\n",
       "    <tr>\n",
       "      <th>3</th>\n",
       "      <td>1</td>\n",
       "      <td>35.0</td>\n",
       "      <td>53.1000</td>\n",
       "      <td>35.0</td>\n",
       "      <td>35.000000</td>\n",
       "      <td>35.0</td>\n",
       "    </tr>\n",
       "    <tr>\n",
       "      <th>4</th>\n",
       "      <td>0</td>\n",
       "      <td>35.0</td>\n",
       "      <td>8.0500</td>\n",
       "      <td>35.0</td>\n",
       "      <td>35.000000</td>\n",
       "      <td>35.0</td>\n",
       "    </tr>\n",
       "    <tr>\n",
       "      <th>5</th>\n",
       "      <td>0</td>\n",
       "      <td>NaN</td>\n",
       "      <td>8.4583</td>\n",
       "      <td>29.0</td>\n",
       "      <td>29.915339</td>\n",
       "      <td>NaN</td>\n",
       "    </tr>\n",
       "  </tbody>\n",
       "</table>\n",
       "</div>"
      ],
      "text/plain": [
       "   Survived   Age     Fare  Age_median   Age_mean  Age_filled\n",
       "0         0  22.0   7.2500        22.0  22.000000        22.0\n",
       "1         1  38.0  71.2833        38.0  38.000000        38.0\n",
       "2         1  26.0   7.9250        26.0  26.000000        26.0\n",
       "3         1  35.0  53.1000        35.0  35.000000        35.0\n",
       "4         0  35.0   8.0500        35.0  35.000000        35.0\n",
       "5         0   NaN   8.4583        29.0  29.915339         NaN"
      ]
     },
     "execution_count": 26,
     "metadata": {
      "tags": []
     },
     "output_type": "execute_result"
    }
   ],
   "source": [
    "# 'Age' column을 하나 복사해서 새로운 column 'Age_filled' 만들기\n",
    "titanic_age['Age_filled'] = titanic_age['Age']\n",
    "titanic_age.head(6)"
   ]
  },
  {
   "cell_type": "code",
   "execution_count": null,
   "metadata": {
    "id": "IFyz11FMDhtl"
   },
   "outputs": [],
   "source": [
    "# (( 표본집단 )).sample( 뽑고자 하는 샘플 개수 ) \n",
    "temp = (titanic_age['Age'].dropna().sample(titanic_age['Age'].isnull().sum()))\n",
    "\n",
    "# sampling 한 temp에 index 부여하기\n",
    "temp.index = titanic_age[lambda x: x.Age.isnull()].index\n",
    "titanic_age.loc[titanic_age['Age'].isnull(), 'Age_filled'] = temp"
   ]
  },
  {
   "cell_type": "code",
   "execution_count": null,
   "metadata": {
    "colab": {
     "base_uri": "https://localhost:8080/",
     "height": 361
    },
    "executionInfo": {
     "elapsed": 24394,
     "status": "ok",
     "timestamp": 1611031425267,
     "user": {
      "displayName": "‍김지훈(학부학생/공과대학 토목·환경공학)",
      "photoUrl": "",
      "userId": "06228375687141397502"
     },
     "user_tz": -540
    },
    "id": "Ntm4WGYQDhtl",
    "outputId": "4b24e1fb-15c4-4dc3-b7c9-08aa2b3d952e"
   },
   "outputs": [
    {
     "name": "stdout",
     "output_type": "stream",
     "text": [
      "Survived        0\n",
      "Age           177\n",
      "Fare            0\n",
      "Age_median      0\n",
      "Age_mean        0\n",
      "Age_filled      0\n",
      "dtype: int64\n"
     ]
    },
    {
     "data": {
      "text/html": [
       "<div>\n",
       "<style scoped>\n",
       "    .dataframe tbody tr th:only-of-type {\n",
       "        vertical-align: middle;\n",
       "    }\n",
       "\n",
       "    .dataframe tbody tr th {\n",
       "        vertical-align: top;\n",
       "    }\n",
       "\n",
       "    .dataframe thead th {\n",
       "        text-align: right;\n",
       "    }\n",
       "</style>\n",
       "<table border=\"1\" class=\"dataframe\">\n",
       "  <thead>\n",
       "    <tr style=\"text-align: right;\">\n",
       "      <th></th>\n",
       "      <th>Age</th>\n",
       "      <th>Age_filled</th>\n",
       "    </tr>\n",
       "  </thead>\n",
       "  <tbody>\n",
       "    <tr>\n",
       "      <th>0</th>\n",
       "      <td>22.0</td>\n",
       "      <td>22.0</td>\n",
       "    </tr>\n",
       "    <tr>\n",
       "      <th>1</th>\n",
       "      <td>38.0</td>\n",
       "      <td>38.0</td>\n",
       "    </tr>\n",
       "    <tr>\n",
       "      <th>2</th>\n",
       "      <td>26.0</td>\n",
       "      <td>26.0</td>\n",
       "    </tr>\n",
       "    <tr>\n",
       "      <th>3</th>\n",
       "      <td>35.0</td>\n",
       "      <td>35.0</td>\n",
       "    </tr>\n",
       "    <tr>\n",
       "      <th>4</th>\n",
       "      <td>35.0</td>\n",
       "      <td>35.0</td>\n",
       "    </tr>\n",
       "    <tr>\n",
       "      <th>5</th>\n",
       "      <td>NaN</td>\n",
       "      <td>36.0</td>\n",
       "    </tr>\n",
       "  </tbody>\n",
       "</table>\n",
       "</div>"
      ],
      "text/plain": [
       "    Age  Age_filled\n",
       "0  22.0        22.0\n",
       "1  38.0        38.0\n",
       "2  26.0        26.0\n",
       "3  35.0        35.0\n",
       "4  35.0        35.0\n",
       "5   NaN        36.0"
      ]
     },
     "execution_count": 28,
     "metadata": {
      "tags": []
     },
     "output_type": "execute_result"
    }
   ],
   "source": [
    "print(titanic_age.isnull().sum())\n",
    "titanic_age[['Age','Age_filled']].head(6)"
   ]
  },
  {
   "cell_type": "code",
   "execution_count": null,
   "metadata": {
    "colab": {
     "base_uri": "https://localhost:8080/",
     "height": 283
    },
    "executionInfo": {
     "elapsed": 24389,
     "status": "ok",
     "timestamp": 1611031425270,
     "user": {
      "displayName": "‍김지훈(학부학생/공과대학 토목·환경공학)",
      "photoUrl": "",
      "userId": "06228375687141397502"
     },
     "user_tz": -540
    },
    "id": "wFZ3-DG0Dhtl",
    "outputId": "378e3bec-d2f6-4c5c-8ff7-4a10d80b8ff8"
   },
   "outputs": [
    {
     "data": {
      "text/plain": [
       "<matplotlib.legend.Legend at 0x7f9474ff9ba8>"
      ]
     },
     "execution_count": 29,
     "metadata": {
      "tags": []
     },
     "output_type": "execute_result"
    },
    {
     "data": {
      "image/png": "[encoded data removed]",
      "text/plain": [
       "<Figure size 432x288 with 1 Axes>"
      ]
     },
     "metadata": {
      "tags": []
     },
     "output_type": "display_data"
    }
   ],
   "source": [
    "# Variance 시각화\n",
    "fig = plt.figure()\n",
    "ax = fig.add_subplot(111)\n",
    "titanic_age['Age'].plot(kind='kde', ax=ax)\n",
    "titanic_age['Age_filled'].plot(kind='kde', ax=ax, color='brown')\n",
    "lines, labels = ax.get_legend_handles_labels()\n",
    "ax.legend(lines, labels, loc='best')"
   ]
  },
  {
   "cell_type": "markdown",
   "metadata": {
    "id": "UerMnm5UDhtm"
   },
   "source": [
    "#### 그렇다면 mean/median vs random ??\n",
    "- NA가 missing completely at random ?\n",
    "- 변수의 분포를 유지하고 싶은가 ?\n",
    "- randomness를 인정할 것인가 ?\n",
    "- data competition? make business driven dicisions?"
   ]
  },
  {
   "cell_type": "markdown",
   "metadata": {
    "id": "5gT4An6dDhtn"
   },
   "source": [
    "---\n",
    "### (4) Adding a variable to capture NA\n",
    "- 위에서 MCAR 일 때 NA값을 채우는 2가지 방법에 대해 배움.\n",
    "<br> <br>\n",
    "\n",
    "- <b>But</b>, 만약 NA값이 completely at random이 아니라면? <br>\n",
    "새로운 변수를 만듬으로써 missingness의 정보성을 유지할 수 있음. <br><br>\n",
    "\n",
    "#### 추가되는 변수\n",
    "- NA인 데이터는 1, NA가 아닌 데이터는 0을 할당.\n",
    "\n",
    "#### Advantage\n",
    "- 쉽고 NA값의 정보성을 유지.\n",
    "\n",
    "#### Disadvantage\n",
    "- 차원이 늘어남.\n",
    "- 새로 만든 변수가 비슷한 경우 등 생각할 거리가 늘어남.\n",
    "---"
   ]
  },
  {
   "cell_type": "markdown",
   "metadata": {
    "id": "7m9goKLVDhtn"
   },
   "source": [
    "<b>[ex3]</b> na인 행은 1, 아닌 행은 0을 나타내는 새 column 'Age_NA' 생성하기"
   ]
  },
  {
   "cell_type": "code",
   "execution_count": null,
   "metadata": {
    "colab": {
     "base_uri": "https://localhost:8080/",
     "height": 359
    },
    "executionInfo": {
     "elapsed": 24384,
     "status": "ok",
     "timestamp": 1611031425272,
     "user": {
      "displayName": "‍김지훈(학부학생/공과대학 토목·환경공학)",
      "photoUrl": "",
      "userId": "06228375687141397502"
     },
     "user_tz": -540
    },
    "id": "wE7_hSWDDhtn",
    "outputId": "2b539fb3-72f6-4b03-b5f3-fa2b84e59f89"
   },
   "outputs": [
    {
     "data": {
      "text/html": [
       "<div>\n",
       "<style scoped>\n",
       "    .dataframe tbody tr th:only-of-type {\n",
       "        vertical-align: middle;\n",
       "    }\n",
       "\n",
       "    .dataframe tbody tr th {\n",
       "        vertical-align: top;\n",
       "    }\n",
       "\n",
       "    .dataframe thead th {\n",
       "        text-align: right;\n",
       "    }\n",
       "</style>\n",
       "<table border=\"1\" class=\"dataframe\">\n",
       "  <thead>\n",
       "    <tr style=\"text-align: right;\">\n",
       "      <th></th>\n",
       "      <th>Age</th>\n",
       "      <th>Age_NA</th>\n",
       "    </tr>\n",
       "  </thead>\n",
       "  <tbody>\n",
       "    <tr>\n",
       "      <th>0</th>\n",
       "      <td>22.0</td>\n",
       "      <td>0</td>\n",
       "    </tr>\n",
       "    <tr>\n",
       "      <th>1</th>\n",
       "      <td>38.0</td>\n",
       "      <td>0</td>\n",
       "    </tr>\n",
       "    <tr>\n",
       "      <th>2</th>\n",
       "      <td>26.0</td>\n",
       "      <td>0</td>\n",
       "    </tr>\n",
       "    <tr>\n",
       "      <th>3</th>\n",
       "      <td>35.0</td>\n",
       "      <td>0</td>\n",
       "    </tr>\n",
       "    <tr>\n",
       "      <th>4</th>\n",
       "      <td>35.0</td>\n",
       "      <td>0</td>\n",
       "    </tr>\n",
       "    <tr>\n",
       "      <th>5</th>\n",
       "      <td>NaN</td>\n",
       "      <td>1</td>\n",
       "    </tr>\n",
       "    <tr>\n",
       "      <th>6</th>\n",
       "      <td>54.0</td>\n",
       "      <td>0</td>\n",
       "    </tr>\n",
       "    <tr>\n",
       "      <th>7</th>\n",
       "      <td>2.0</td>\n",
       "      <td>0</td>\n",
       "    </tr>\n",
       "    <tr>\n",
       "      <th>8</th>\n",
       "      <td>27.0</td>\n",
       "      <td>0</td>\n",
       "    </tr>\n",
       "    <tr>\n",
       "      <th>9</th>\n",
       "      <td>14.0</td>\n",
       "      <td>0</td>\n",
       "    </tr>\n",
       "  </tbody>\n",
       "</table>\n",
       "</div>"
      ],
      "text/plain": [
       "    Age  Age_NA\n",
       "0  22.0       0\n",
       "1  38.0       0\n",
       "2  26.0       0\n",
       "3  35.0       0\n",
       "4  35.0       0\n",
       "5   NaN       1\n",
       "6  54.0       0\n",
       "7   2.0       0\n",
       "8  27.0       0\n",
       "9  14.0       0"
      ]
     },
     "execution_count": 30,
     "metadata": {
      "tags": []
     },
     "output_type": "execute_result"
    }
   ],
   "source": [
    "# np.where() 사용\n",
    "titanic_age['Age_NA']= np.where(titanic.Age.isnull(),1,0)\n",
    "titanic_age[['Age','Age_NA']].head(10)"
   ]
  },
  {
   "cell_type": "markdown",
   "metadata": {
    "id": "KW7BIx9JDhto"
   },
   "source": [
    "#  categorical variable"
   ]
  },
  {
   "cell_type": "markdown",
   "metadata": {
    "id": "MJEGkhCODhto"
   },
   "source": [
    "---\n",
    "### (1) Frequent category imputation\n",
    "<br>\n",
    "#### Assumption\n",
    "- MCAR 일 때, 가장 빈도수가 높은 값으로 채움.\n",
    "\n",
    "#### Advantage\n",
    "- 쉬움.\n",
    "\n",
    "#### Limitation\n",
    "- 원래 변수의 모습을 바꿀 수 있음.\n",
    "- NA의 수가 많다면 빈도수가 높은 값이 over-representation 될 수 있음.\n",
    "---"
   ]
  },
  {
   "cell_type": "code",
   "execution_count": null,
   "metadata": {
    "colab": {
     "base_uri": "https://localhost:8080/",
     "height": 204
    },
    "executionInfo": {
     "elapsed": 24375,
     "status": "ok",
     "timestamp": 1611031425274,
     "user": {
      "displayName": "‍김지훈(학부학생/공과대학 토목·환경공학)",
      "photoUrl": "",
      "userId": "06228375687141397502"
     },
     "user_tz": -540
    },
    "id": "MSc_iWVZDhtp",
    "outputId": "45852474-f813-46be-a855-c36ef896e80a"
   },
   "outputs": [
    {
     "data": {
      "text/html": [
       "<div>\n",
       "<style scoped>\n",
       "    .dataframe tbody tr th:only-of-type {\n",
       "        vertical-align: middle;\n",
       "    }\n",
       "\n",
       "    .dataframe tbody tr th {\n",
       "        vertical-align: top;\n",
       "    }\n",
       "\n",
       "    .dataframe thead th {\n",
       "        text-align: right;\n",
       "    }\n",
       "</style>\n",
       "<table border=\"1\" class=\"dataframe\">\n",
       "  <thead>\n",
       "    <tr style=\"text-align: right;\">\n",
       "      <th></th>\n",
       "      <th>Survived</th>\n",
       "      <th>Sex</th>\n",
       "      <th>Embarked</th>\n",
       "    </tr>\n",
       "  </thead>\n",
       "  <tbody>\n",
       "    <tr>\n",
       "      <th>0</th>\n",
       "      <td>0</td>\n",
       "      <td>male</td>\n",
       "      <td>S</td>\n",
       "    </tr>\n",
       "    <tr>\n",
       "      <th>1</th>\n",
       "      <td>1</td>\n",
       "      <td>female</td>\n",
       "      <td>C</td>\n",
       "    </tr>\n",
       "    <tr>\n",
       "      <th>2</th>\n",
       "      <td>1</td>\n",
       "      <td>female</td>\n",
       "      <td>S</td>\n",
       "    </tr>\n",
       "    <tr>\n",
       "      <th>3</th>\n",
       "      <td>1</td>\n",
       "      <td>female</td>\n",
       "      <td>S</td>\n",
       "    </tr>\n",
       "    <tr>\n",
       "      <th>4</th>\n",
       "      <td>0</td>\n",
       "      <td>male</td>\n",
       "      <td>S</td>\n",
       "    </tr>\n",
       "  </tbody>\n",
       "</table>\n",
       "</div>"
      ],
      "text/plain": [
       "   Survived     Sex Embarked\n",
       "0         0    male        S\n",
       "1         1  female        C\n",
       "2         1  female        S\n",
       "3         1  female        S\n",
       "4         0    male        S"
      ]
     },
     "execution_count": 31,
     "metadata": {
      "tags": []
     },
     "output_type": "execute_result"
    }
   ],
   "source": [
    "cols_to_use = ['Sex', 'Embarked',  'Survived']\n",
    "\n",
    "titanic_cat = pd.read_csv(dir, usecols=cols_to_use)\n",
    "titanic_cat.head()"
   ]
  },
  {
   "cell_type": "markdown",
   "metadata": {
    "id": "Os83cAhODhtp"
   },
   "source": [
    "<b>[ex4]</b> titanic_cat에는 몇 개의 NA가 있는지 확인하기"
   ]
  },
  {
   "cell_type": "code",
   "execution_count": null,
   "metadata": {
    "colab": {
     "base_uri": "https://localhost:8080/"
    },
    "executionInfo": {
     "elapsed": 24370,
     "status": "ok",
     "timestamp": 1611031425276,
     "user": {
      "displayName": "‍김지훈(학부학생/공과대학 토목·환경공학)",
      "photoUrl": "",
      "userId": "06228375687141397502"
     },
     "user_tz": -540
    },
    "id": "i2gA3zwbDhtp",
    "outputId": "be2f993b-a183-4521-9253-577f1f47d163"
   },
   "outputs": [
    {
     "data": {
      "text/plain": [
       "Survived    0\n",
       "Sex         0\n",
       "Embarked    2\n",
       "dtype: int64"
      ]
     },
     "execution_count": 32,
     "metadata": {
      "tags": []
     },
     "output_type": "execute_result"
    }
   ],
   "source": [
    "titanic_cat.isnull().sum()"
   ]
  },
  {
   "cell_type": "code",
   "execution_count": null,
   "metadata": {
    "colab": {
     "base_uri": "https://localhost:8080/"
    },
    "executionInfo": {
     "elapsed": 24364,
     "status": "ok",
     "timestamp": 1611031425277,
     "user": {
      "displayName": "‍김지훈(학부학생/공과대학 토목·환경공학)",
      "photoUrl": "",
      "userId": "06228375687141397502"
     },
     "user_tz": -540
    },
    "id": "MJDnC96MDhtq",
    "outputId": "e8639944-1c98-4300-f7e7-2d57ebed74a1"
   },
   "outputs": [
    {
     "data": {
      "text/plain": [
       "S    644\n",
       "C    168\n",
       "Q     77\n",
       "Name: Embarked, dtype: int64"
      ]
     },
     "execution_count": 33,
     "metadata": {
      "tags": []
     },
     "output_type": "execute_result"
    }
   ],
   "source": [
    "# 'S'가 가장 많음\n",
    "titanic_cat['Embarked'].value_counts()"
   ]
  },
  {
   "cell_type": "code",
   "execution_count": null,
   "metadata": {
    "id": "84tCPKSYDhtq"
   },
   "outputs": [],
   "source": [
    "# 결측값을 'S'로 채워줌\n",
    "titanic_cat['Embarked_filled'] = titanic_cat.Embarked.fillna(\"S\")"
   ]
  },
  {
   "cell_type": "code",
   "execution_count": null,
   "metadata": {
    "colab": {
     "base_uri": "https://localhost:8080/"
    },
    "executionInfo": {
     "elapsed": 24350,
     "status": "ok",
     "timestamp": 1611031425279,
     "user": {
      "displayName": "‍김지훈(학부학생/공과대학 토목·환경공학)",
      "photoUrl": "",
      "userId": "06228375687141397502"
     },
     "user_tz": -540
    },
    "id": "1MC6L4v1Dhtq",
    "outputId": "987eaf8b-e090-4d7e-d300-6a5978893b9b"
   },
   "outputs": [
    {
     "data": {
      "text/plain": [
       "Survived           0\n",
       "Sex                0\n",
       "Embarked           2\n",
       "Embarked_filled    0\n",
       "dtype: int64"
      ]
     },
     "execution_count": 35,
     "metadata": {
      "tags": []
     },
     "output_type": "execute_result"
    }
   ],
   "source": [
    "titanic_cat.isnull().sum()"
   ]
  },
  {
   "cell_type": "markdown",
   "metadata": {
    "id": "-6LL04LRDhtr"
   },
   "source": [
    "---\n",
    "### (2) Adding a category to capture NA\n",
    "\n",
    "- categoriacal 에서 가장 많이 쓰이는 방법. \n",
    "- NA값으로 'Missing' 이라는 새로운 카테고리를 만듦.\n",
    "- 주로 NA의 수가 많을 때 사용. <br><br>\n",
    "\n",
    "#### Advantage\n",
    "- 쉬움.\n",
    "- missingness를 잡을 수 있음.\n",
    "\n",
    "#### Disadvatage\n",
    "- NA의 수가 적다면 Tree계열 모델에서 overfitting을 일으킬 수도 있음.\n",
    "---"
   ]
  },
  {
   "cell_type": "code",
   "execution_count": null,
   "metadata": {
    "colab": {
     "base_uri": "https://localhost:8080/",
     "height": 204
    },
    "executionInfo": {
     "elapsed": 24341,
     "status": "ok",
     "timestamp": 1611031425280,
     "user": {
      "displayName": "‍김지훈(학부학생/공과대학 토목·환경공학)",
      "photoUrl": "",
      "userId": "06228375687141397502"
     },
     "user_tz": -540
    },
    "id": "9vLT8zSJDhtr",
    "outputId": "b5224bfb-76f6-4e0f-ac09-5656c4467518"
   },
   "outputs": [
    {
     "data": {
      "text/html": [
       "<div>\n",
       "<style scoped>\n",
       "    .dataframe tbody tr th:only-of-type {\n",
       "        vertical-align: middle;\n",
       "    }\n",
       "\n",
       "    .dataframe tbody tr th {\n",
       "        vertical-align: top;\n",
       "    }\n",
       "\n",
       "    .dataframe thead th {\n",
       "        text-align: right;\n",
       "    }\n",
       "</style>\n",
       "<table border=\"1\" class=\"dataframe\">\n",
       "  <thead>\n",
       "    <tr style=\"text-align: right;\">\n",
       "      <th></th>\n",
       "      <th>Survived</th>\n",
       "      <th>Sex</th>\n",
       "      <th>Embarked</th>\n",
       "    </tr>\n",
       "  </thead>\n",
       "  <tbody>\n",
       "    <tr>\n",
       "      <th>0</th>\n",
       "      <td>0</td>\n",
       "      <td>male</td>\n",
       "      <td>S</td>\n",
       "    </tr>\n",
       "    <tr>\n",
       "      <th>1</th>\n",
       "      <td>1</td>\n",
       "      <td>female</td>\n",
       "      <td>C</td>\n",
       "    </tr>\n",
       "    <tr>\n",
       "      <th>2</th>\n",
       "      <td>1</td>\n",
       "      <td>female</td>\n",
       "      <td>S</td>\n",
       "    </tr>\n",
       "    <tr>\n",
       "      <th>3</th>\n",
       "      <td>1</td>\n",
       "      <td>female</td>\n",
       "      <td>S</td>\n",
       "    </tr>\n",
       "    <tr>\n",
       "      <th>4</th>\n",
       "      <td>0</td>\n",
       "      <td>male</td>\n",
       "      <td>S</td>\n",
       "    </tr>\n",
       "  </tbody>\n",
       "</table>\n",
       "</div>"
      ],
      "text/plain": [
       "   Survived     Sex Embarked\n",
       "0         0    male        S\n",
       "1         1  female        C\n",
       "2         1  female        S\n",
       "3         1  female        S\n",
       "4         0    male        S"
      ]
     },
     "execution_count": 36,
     "metadata": {
      "tags": []
     },
     "output_type": "execute_result"
    }
   ],
   "source": [
    "cols_to_use = ['Sex', 'Embarked',  'Survived']\n",
    "\n",
    "titanic_cat2 = pd.read_csv(dir, usecols=cols_to_use)\n",
    "titanic_cat2.head()"
   ]
  },
  {
   "cell_type": "code",
   "execution_count": null,
   "metadata": {
    "colab": {
     "base_uri": "https://localhost:8080/"
    },
    "executionInfo": {
     "elapsed": 24333,
     "status": "ok",
     "timestamp": 1611031425281,
     "user": {
      "displayName": "‍김지훈(학부학생/공과대학 토목·환경공학)",
      "photoUrl": "",
      "userId": "06228375687141397502"
     },
     "user_tz": -540
    },
    "id": "F87Rhl1LDhts",
    "outputId": "662e3dfb-e347-49d7-9fdd-0b3e04e3bce0"
   },
   "outputs": [
    {
     "data": {
      "text/plain": [
       "Survived    0\n",
       "Sex         0\n",
       "Embarked    2\n",
       "Missing     0\n",
       "dtype: int64"
      ]
     },
     "execution_count": 37,
     "metadata": {
      "tags": []
     },
     "output_type": "execute_result"
    }
   ],
   "source": [
    "# Embarked에서 NA값이라는 정보를 유지한 채 새로운 binary 형태 column 생성\n",
    "titanic_cat2['Missing'] = np.where(titanic_cat.Embarked.isnull(),1,0)\n",
    "titanic_cat2.isnull().sum()"
   ]
  },
  {
   "cell_type": "markdown",
   "metadata": {
    "id": "NbtRKT6SDhtt"
   },
   "source": [
    "---\n",
    "##  Outliers\n",
    "- outliers는 없애야 할까?\n",
    "<br>\n",
    "예를 들어, 신용카드 활동의 이상치는 fraudeulent한 활동의 sign일 수 있음. 그러므로 함부로 없애는 것이 아니라 잘 살펴보아야 함. 하지만 머신러닝 모델의 성능을 떨어트릴수 있기 때문에 다양한 방법으로 filter해주어야 함.\n",
    "<br>\n",
    "<br>\n",
    "- outliers에 민감한 머신러닝 모델은?\n",
    "<br>\n",
    "몇몇 모델은 이상치에 민감.\n",
    "<br>\n",
    "1.adaboost : 결측치에 가중치를 많이 두게 되서 일반화성능이 떨어짐\n",
    "<br>\n",
    "2.Decision trees : 결측치에 별 상관없음\n",
    "<br>\n",
    "3.Linear model : 민감\n",
    "<br>\n",
    "4.Neural Networks : 민감\n",
    "<br>\n",
    "<br>\n",
    "- outliers를 찾는 방법\n",
    "<br>\n",
    "<br>\n",
    "    변수의 분포가 가우시안분포(정규분포)를 따른다면 mean +- 3*sd \n",
    "<br>\n",
    "    그렇지 않다면 IQR = 75th quantile - 25th quantile\n",
    "\n",
    "    Upper boundary = 75th quantile + (IQR * 1.5)\n",
    "\n",
    "    Lower boundary = 25th quantile - (IQR * 1.5)\n",
    "\n",
    "    or for extreme cases:\n",
    "\n",
    "    Upper boundary = 75th quantile + (IQR * 3)\n",
    "\n",
    "    Lower boundary = 25th quantile - (IQR * 3)\n",
    "---"
   ]
  },
  {
   "cell_type": "code",
   "execution_count": null,
   "metadata": {
    "colab": {
     "base_uri": "https://localhost:8080/",
     "height": 315
    },
    "executionInfo": {
     "elapsed": 24327,
     "status": "ok",
     "timestamp": 1611031425283,
     "user": {
      "displayName": "‍김지훈(학부학생/공과대학 토목·환경공학)",
      "photoUrl": "",
      "userId": "06228375687141397502"
     },
     "user_tz": -540
    },
    "id": "YYhJKSAIDhtu",
    "outputId": "50da0e0e-2150-4179-9113-5f47d8632b77"
   },
   "outputs": [
    {
     "data": {
      "text/html": [
       "<div>\n",
       "<style scoped>\n",
       "    .dataframe tbody tr th:only-of-type {\n",
       "        vertical-align: middle;\n",
       "    }\n",
       "\n",
       "    .dataframe tbody tr th {\n",
       "        vertical-align: top;\n",
       "    }\n",
       "\n",
       "    .dataframe thead th {\n",
       "        text-align: right;\n",
       "    }\n",
       "</style>\n",
       "<table border=\"1\" class=\"dataframe\">\n",
       "  <thead>\n",
       "    <tr style=\"text-align: right;\">\n",
       "      <th></th>\n",
       "      <th>PassengerId</th>\n",
       "      <th>Survived</th>\n",
       "      <th>Pclass</th>\n",
       "      <th>Name</th>\n",
       "      <th>Sex</th>\n",
       "      <th>Age</th>\n",
       "      <th>SibSp</th>\n",
       "      <th>Parch</th>\n",
       "      <th>Ticket</th>\n",
       "      <th>Fare</th>\n",
       "      <th>Cabin</th>\n",
       "      <th>Embarked</th>\n",
       "      <th>age_null</th>\n",
       "    </tr>\n",
       "  </thead>\n",
       "  <tbody>\n",
       "    <tr>\n",
       "      <th>0</th>\n",
       "      <td>1</td>\n",
       "      <td>0</td>\n",
       "      <td>3</td>\n",
       "      <td>Braund, Mr. Owen Harris</td>\n",
       "      <td>male</td>\n",
       "      <td>22.0</td>\n",
       "      <td>1</td>\n",
       "      <td>0</td>\n",
       "      <td>A/5 21171</td>\n",
       "      <td>7.2500</td>\n",
       "      <td>NaN</td>\n",
       "      <td>S</td>\n",
       "      <td>0</td>\n",
       "    </tr>\n",
       "    <tr>\n",
       "      <th>1</th>\n",
       "      <td>2</td>\n",
       "      <td>1</td>\n",
       "      <td>1</td>\n",
       "      <td>Cumings, Mrs. John Bradley (Florence Briggs Th...</td>\n",
       "      <td>female</td>\n",
       "      <td>38.0</td>\n",
       "      <td>1</td>\n",
       "      <td>0</td>\n",
       "      <td>PC 17599</td>\n",
       "      <td>71.2833</td>\n",
       "      <td>C85</td>\n",
       "      <td>C</td>\n",
       "      <td>0</td>\n",
       "    </tr>\n",
       "    <tr>\n",
       "      <th>2</th>\n",
       "      <td>3</td>\n",
       "      <td>1</td>\n",
       "      <td>3</td>\n",
       "      <td>Heikkinen, Miss. Laina</td>\n",
       "      <td>female</td>\n",
       "      <td>26.0</td>\n",
       "      <td>0</td>\n",
       "      <td>0</td>\n",
       "      <td>STON/O2. 3101282</td>\n",
       "      <td>7.9250</td>\n",
       "      <td>NaN</td>\n",
       "      <td>S</td>\n",
       "      <td>0</td>\n",
       "    </tr>\n",
       "  </tbody>\n",
       "</table>\n",
       "</div>"
      ],
      "text/plain": [
       "   PassengerId  Survived  Pclass  \\\n",
       "0            1         0       3   \n",
       "1            2         1       1   \n",
       "2            3         1       3   \n",
       "\n",
       "                                                Name     Sex   Age  SibSp  \\\n",
       "0                            Braund, Mr. Owen Harris    male  22.0      1   \n",
       "1  Cumings, Mrs. John Bradley (Florence Briggs Th...  female  38.0      1   \n",
       "2                             Heikkinen, Miss. Laina  female  26.0      0   \n",
       "\n",
       "   Parch            Ticket     Fare Cabin Embarked  age_null  \n",
       "0      0         A/5 21171   7.2500   NaN        S         0  \n",
       "1      0          PC 17599  71.2833   C85        C         0  \n",
       "2      0  STON/O2. 3101282   7.9250   NaN        S         0  "
      ]
     },
     "execution_count": 38,
     "metadata": {
      "tags": []
     },
     "output_type": "execute_result"
    }
   ],
   "source": [
    "titanic.head(3)"
   ]
  },
  {
   "cell_type": "code",
   "execution_count": null,
   "metadata": {
    "colab": {
     "base_uri": "https://localhost:8080/",
     "height": 331
    },
    "executionInfo": {
     "elapsed": 24323,
     "status": "ok",
     "timestamp": 1611031425285,
     "user": {
      "displayName": "‍김지훈(학부학생/공과대학 토목·환경공학)",
      "photoUrl": "",
      "userId": "06228375687141397502"
     },
     "user_tz": -540
    },
    "id": "eErugQahDhtv",
    "outputId": "aad8a789-2470-4efd-a0e3-90a31dbe988e"
   },
   "outputs": [
    {
     "data": {
      "text/plain": [
       "Text(0, 0.5, 'Number of Passengers')"
      ]
     },
     "execution_count": 39,
     "metadata": {
      "tags": []
     },
     "output_type": "execute_result"
    },
    {
     "data": {
      "image/png": "[encoded data removed]",
      "text/plain": [
       "<Figure size 432x288 with 1 Axes>"
      ]
     },
     "metadata": {
      "tags": []
     },
     "output_type": "display_data"
    },
    {
     "data": {
      "text/plain": [
       "<Figure size 432x288 with 0 Axes>"
      ]
     },
     "metadata": {
      "tags": []
     },
     "output_type": "display_data"
    }
   ],
   "source": [
    "# histogram으로 Fare와 Number of Passengers 관계 나타내기\n",
    "fig = titanic.Fare.hist(bins=50)\n",
    "plt.figure()\n",
    "fig.set_title('Fare Distribution')\n",
    "fig.set_xlabel('Fare')\n",
    "fig.set_ylabel('Number of Passengers')"
   ]
  },
  {
   "cell_type": "code",
   "execution_count": null,
   "metadata": {
    "colab": {
     "base_uri": "https://localhost:8080/"
    },
    "executionInfo": {
     "elapsed": 24317,
     "status": "ok",
     "timestamp": 1611031425286,
     "user": {
      "displayName": "‍김지훈(학부학생/공과대학 토목·환경공학)",
      "photoUrl": "",
      "userId": "06228375687141397502"
     },
     "user_tz": -540
    },
    "id": "N_iqemk_Dhtv",
    "outputId": "a1bca77b-0da0-4c0d-9a0d-8c168c223c96"
   },
   "outputs": [
    {
     "data": {
      "text/plain": [
       "count    891.000000\n",
       "mean      32.204208\n",
       "std       49.693429\n",
       "min        0.000000\n",
       "25%        7.910400\n",
       "50%       14.454200\n",
       "75%       31.000000\n",
       "max      512.329200\n",
       "Name: Fare, dtype: float64"
      ]
     },
     "execution_count": 40,
     "metadata": {
      "tags": []
     },
     "output_type": "execute_result"
    }
   ],
   "source": [
    "titanic.Fare.describe()"
   ]
  },
  {
   "cell_type": "code",
   "execution_count": null,
   "metadata": {
    "colab": {
     "base_uri": "https://localhost:8080/"
    },
    "executionInfo": {
     "elapsed": 24314,
     "status": "ok",
     "timestamp": 1611031425289,
     "user": {
      "displayName": "‍김지훈(학부학생/공과대학 토목·환경공학)",
      "photoUrl": "",
      "userId": "06228375687141397502"
     },
     "user_tz": -540
    },
    "id": "xTxKejUvDhtw",
    "outputId": "0bd04d38-324e-48e3-c57a-3806417395e2"
   },
   "outputs": [
    {
     "name": "stdout",
     "output_type": "stream",
     "text": [
      "total passengers: 891\n",
      "passengers that paid more than 65: 116\n",
      "passengers that paid more than 100: 53\n"
     ]
    }
   ],
   "source": [
    "print('total passengers: {}'.format(titanic.shape[0]))\n",
    "\n",
    "print('passengers that paid more than 65: {}'.format(\n",
    "    titanic[titanic.Fare > 65].shape[0]))\n",
    "\n",
    "print('passengers that paid more than 100: {}'.format(\n",
    "    titanic[titanic.Fare > 100].shape[0]))"
   ]
  },
  {
   "cell_type": "code",
   "execution_count": null,
   "metadata": {
    "colab": {
     "base_uri": "https://localhost:8080/"
    },
    "executionInfo": {
     "elapsed": 24308,
     "status": "ok",
     "timestamp": 1611031425290,
     "user": {
      "displayName": "‍김지훈(학부학생/공과대학 토목·환경공학)",
      "photoUrl": "",
      "userId": "06228375687141397502"
     },
     "user_tz": -540
    },
    "id": "turpDM8KDhtw",
    "outputId": "d252c361-5b77-4eba-8d16-b3b87242a8c8"
   },
   "outputs": [
    {
     "data": {
      "text/plain": [
       "(53, 13)"
      ]
     },
     "execution_count": 42,
     "metadata": {
      "tags": []
     },
     "output_type": "execute_result"
    }
   ],
   "source": [
    "high_fare_df = titanic[titanic.Fare>100]\n",
    "high_fare_df.shape"
   ]
  },
  {
   "cell_type": "code",
   "execution_count": null,
   "metadata": {
    "colab": {
     "base_uri": "https://localhost:8080/",
     "height": 700
    },
    "executionInfo": {
     "elapsed": 24296,
     "status": "ok",
     "timestamp": 1611031425291,
     "user": {
      "displayName": "‍김지훈(학부학생/공과대학 토목·환경공학)",
      "photoUrl": "",
      "userId": "06228375687141397502"
     },
     "user_tz": -540
    },
    "id": "2UEDaKvUDhtw",
    "outputId": "68757c56-bf61-4045-f709-1326fe26e99a"
   },
   "outputs": [
    {
     "data": {
      "text/html": [
       "<div>\n",
       "<style scoped>\n",
       "    .dataframe tbody tr th:only-of-type {\n",
       "        vertical-align: middle;\n",
       "    }\n",
       "\n",
       "    .dataframe tbody tr th {\n",
       "        vertical-align: top;\n",
       "    }\n",
       "\n",
       "    .dataframe thead th {\n",
       "        text-align: right;\n",
       "    }\n",
       "</style>\n",
       "<table border=\"1\" class=\"dataframe\">\n",
       "  <thead>\n",
       "    <tr style=\"text-align: right;\">\n",
       "      <th></th>\n",
       "      <th>Fare</th>\n",
       "    </tr>\n",
       "    <tr>\n",
       "      <th>Ticket</th>\n",
       "      <th></th>\n",
       "    </tr>\n",
       "  </thead>\n",
       "  <tbody>\n",
       "    <tr>\n",
       "      <th>113503</th>\n",
       "      <td>1</td>\n",
       "    </tr>\n",
       "    <tr>\n",
       "      <th>113760</th>\n",
       "      <td>4</td>\n",
       "    </tr>\n",
       "    <tr>\n",
       "      <th>113781</th>\n",
       "      <td>4</td>\n",
       "    </tr>\n",
       "    <tr>\n",
       "      <th>16966</th>\n",
       "      <td>2</td>\n",
       "    </tr>\n",
       "    <tr>\n",
       "      <th>17421</th>\n",
       "      <td>4</td>\n",
       "    </tr>\n",
       "    <tr>\n",
       "      <th>19950</th>\n",
       "      <td>4</td>\n",
       "    </tr>\n",
       "    <tr>\n",
       "      <th>24160</th>\n",
       "      <td>3</td>\n",
       "    </tr>\n",
       "    <tr>\n",
       "      <th>35273</th>\n",
       "      <td>3</td>\n",
       "    </tr>\n",
       "    <tr>\n",
       "      <th>36928</th>\n",
       "      <td>2</td>\n",
       "    </tr>\n",
       "    <tr>\n",
       "      <th>PC 17483</th>\n",
       "      <td>1</td>\n",
       "    </tr>\n",
       "    <tr>\n",
       "      <th>PC 17558</th>\n",
       "      <td>2</td>\n",
       "    </tr>\n",
       "    <tr>\n",
       "      <th>PC 17569</th>\n",
       "      <td>2</td>\n",
       "    </tr>\n",
       "    <tr>\n",
       "      <th>PC 17582</th>\n",
       "      <td>3</td>\n",
       "    </tr>\n",
       "    <tr>\n",
       "      <th>PC 17608</th>\n",
       "      <td>2</td>\n",
       "    </tr>\n",
       "    <tr>\n",
       "      <th>PC 17611</th>\n",
       "      <td>2</td>\n",
       "    </tr>\n",
       "    <tr>\n",
       "      <th>PC 17755</th>\n",
       "      <td>3</td>\n",
       "    </tr>\n",
       "    <tr>\n",
       "      <th>PC 17757</th>\n",
       "      <td>4</td>\n",
       "    </tr>\n",
       "    <tr>\n",
       "      <th>PC 17758</th>\n",
       "      <td>2</td>\n",
       "    </tr>\n",
       "    <tr>\n",
       "      <th>PC 17760</th>\n",
       "      <td>3</td>\n",
       "    </tr>\n",
       "    <tr>\n",
       "      <th>PC 17761</th>\n",
       "      <td>2</td>\n",
       "    </tr>\n",
       "  </tbody>\n",
       "</table>\n",
       "</div>"
      ],
      "text/plain": [
       "          Fare\n",
       "Ticket        \n",
       "113503       1\n",
       "113760       4\n",
       "113781       4\n",
       "16966        2\n",
       "17421        4\n",
       "19950        4\n",
       "24160        3\n",
       "35273        3\n",
       "36928        2\n",
       "PC 17483     1\n",
       "PC 17558     2\n",
       "PC 17569     2\n",
       "PC 17582     3\n",
       "PC 17608     2\n",
       "PC 17611     2\n",
       "PC 17755     3\n",
       "PC 17757     4\n",
       "PC 17758     2\n",
       "PC 17760     3\n",
       "PC 17761     2"
      ]
     },
     "execution_count": 43,
     "metadata": {
      "tags": []
     },
     "output_type": "execute_result"
    }
   ],
   "source": [
    "high_fare_df.groupby('Ticket')[['Fare']].count()"
   ]
  },
  {
   "cell_type": "code",
   "execution_count": null,
   "metadata": {
    "colab": {
     "base_uri": "https://localhost:8080/",
     "height": 315
    },
    "executionInfo": {
     "elapsed": 24291,
     "status": "ok",
     "timestamp": 1611031425293,
     "user": {
      "displayName": "‍김지훈(학부학생/공과대학 토목·환경공학)",
      "photoUrl": "",
      "userId": "06228375687141397502"
     },
     "user_tz": -540
    },
    "id": "M1OyjR_yDhtx",
    "outputId": "54534d96-831d-4316-8504-832391814431",
    "scrolled": false
   },
   "outputs": [
    {
     "data": {
      "text/html": [
       "<div>\n",
       "<style scoped>\n",
       "    .dataframe tbody tr th:only-of-type {\n",
       "        vertical-align: middle;\n",
       "    }\n",
       "\n",
       "    .dataframe tbody tr th {\n",
       "        vertical-align: top;\n",
       "    }\n",
       "\n",
       "    .dataframe thead th {\n",
       "        text-align: right;\n",
       "    }\n",
       "</style>\n",
       "<table border=\"1\" class=\"dataframe\">\n",
       "  <thead>\n",
       "    <tr style=\"text-align: right;\">\n",
       "      <th></th>\n",
       "      <th>PassengerId</th>\n",
       "      <th>Survived</th>\n",
       "      <th>Pclass</th>\n",
       "      <th>Name</th>\n",
       "      <th>Sex</th>\n",
       "      <th>Age</th>\n",
       "      <th>SibSp</th>\n",
       "      <th>Parch</th>\n",
       "      <th>Ticket</th>\n",
       "      <th>Fare</th>\n",
       "      <th>Cabin</th>\n",
       "      <th>Embarked</th>\n",
       "      <th>age_null</th>\n",
       "    </tr>\n",
       "  </thead>\n",
       "  <tbody>\n",
       "    <tr>\n",
       "      <th>258</th>\n",
       "      <td>259</td>\n",
       "      <td>1</td>\n",
       "      <td>1</td>\n",
       "      <td>Ward, Miss. Anna</td>\n",
       "      <td>female</td>\n",
       "      <td>35.0</td>\n",
       "      <td>0</td>\n",
       "      <td>0</td>\n",
       "      <td>PC 17755</td>\n",
       "      <td>512.3292</td>\n",
       "      <td>NaN</td>\n",
       "      <td>C</td>\n",
       "      <td>0</td>\n",
       "    </tr>\n",
       "    <tr>\n",
       "      <th>679</th>\n",
       "      <td>680</td>\n",
       "      <td>1</td>\n",
       "      <td>1</td>\n",
       "      <td>Cardeza, Mr. Thomas Drake Martinez</td>\n",
       "      <td>male</td>\n",
       "      <td>36.0</td>\n",
       "      <td>0</td>\n",
       "      <td>1</td>\n",
       "      <td>PC 17755</td>\n",
       "      <td>512.3292</td>\n",
       "      <td>B51 B53 B55</td>\n",
       "      <td>C</td>\n",
       "      <td>0</td>\n",
       "    </tr>\n",
       "    <tr>\n",
       "      <th>737</th>\n",
       "      <td>738</td>\n",
       "      <td>1</td>\n",
       "      <td>1</td>\n",
       "      <td>Lesurer, Mr. Gustave J</td>\n",
       "      <td>male</td>\n",
       "      <td>35.0</td>\n",
       "      <td>0</td>\n",
       "      <td>0</td>\n",
       "      <td>PC 17755</td>\n",
       "      <td>512.3292</td>\n",
       "      <td>B101</td>\n",
       "      <td>C</td>\n",
       "      <td>0</td>\n",
       "    </tr>\n",
       "  </tbody>\n",
       "</table>\n",
       "</div>"
      ],
      "text/plain": [
       "     PassengerId  Survived  Pclass                                Name  \\\n",
       "258          259         1       1                    Ward, Miss. Anna   \n",
       "679          680         1       1  Cardeza, Mr. Thomas Drake Martinez   \n",
       "737          738         1       1              Lesurer, Mr. Gustave J   \n",
       "\n",
       "        Sex   Age  SibSp  Parch    Ticket      Fare        Cabin Embarked  \\\n",
       "258  female  35.0      0      0  PC 17755  512.3292          NaN        C   \n",
       "679    male  36.0      0      1  PC 17755  512.3292  B51 B53 B55        C   \n",
       "737    male  35.0      0      0  PC 17755  512.3292         B101        C   \n",
       "\n",
       "     age_null  \n",
       "258         0  \n",
       "679         0  \n",
       "737         0  "
      ]
     },
     "execution_count": 44,
     "metadata": {
      "tags": []
     },
     "output_type": "execute_result"
    }
   ],
   "source": [
    "titanic[titanic.Fare>300]"
   ]
  },
  {
   "cell_type": "markdown",
   "metadata": {
    "id": "IbIKeD4BDhty"
   },
   "source": [
    "티켓 번호가 같은 사람들은 티켓을 같이 샀다고 생각할 수 있음. 그래서 개인 가격이 아니라 단체 가격이기 때문에 이상치가 생긴 것이라고 예상가능함. 따라서 이상치를 인원수대로 나누어 주면 됨."
   ]
  },
  {
   "cell_type": "markdown",
   "metadata": {
    "id": "no5RGvNcDhty"
   },
   "source": [
    "---\n",
    "## 5. Transformation\n",
    "자주 하는 변수 변환들\n",
    "\n",
    "---\n",
    "\n",
    "#### Categories\n",
    "\n",
    "보통 카테고리는 글자 그대로를 인풋으로 못받아주는 scikit-learn 모델들이 가끔 있기 때문에 여러 변환을 거쳐야 함.\n"
   ]
  },
  {
   "cell_type": "code",
   "execution_count": null,
   "metadata": {
    "colab": {
     "base_uri": "https://localhost:8080/",
     "height": 204
    },
    "executionInfo": {
     "elapsed": 24283,
     "status": "ok",
     "timestamp": 1611031425294,
     "user": {
      "displayName": "‍김지훈(학부학생/공과대학 토목·환경공학)",
      "photoUrl": "",
      "userId": "06228375687141397502"
     },
     "user_tz": -540
    },
    "id": "Yh8wjPgiDhtz",
    "outputId": "f6bf728f-cd32-4631-8a58-f766e23a1252"
   },
   "outputs": [
    {
     "data": {
      "text/html": [
       "<div>\n",
       "<style scoped>\n",
       "    .dataframe tbody tr th:only-of-type {\n",
       "        vertical-align: middle;\n",
       "    }\n",
       "\n",
       "    .dataframe tbody tr th {\n",
       "        vertical-align: top;\n",
       "    }\n",
       "\n",
       "    .dataframe thead th {\n",
       "        text-align: right;\n",
       "    }\n",
       "</style>\n",
       "<table border=\"1\" class=\"dataframe\">\n",
       "  <thead>\n",
       "    <tr style=\"text-align: right;\">\n",
       "      <th></th>\n",
       "      <th>Embarked</th>\n",
       "    </tr>\n",
       "  </thead>\n",
       "  <tbody>\n",
       "    <tr>\n",
       "      <th>0</th>\n",
       "      <td>S</td>\n",
       "    </tr>\n",
       "    <tr>\n",
       "      <th>1</th>\n",
       "      <td>C</td>\n",
       "    </tr>\n",
       "    <tr>\n",
       "      <th>2</th>\n",
       "      <td>S</td>\n",
       "    </tr>\n",
       "    <tr>\n",
       "      <th>3</th>\n",
       "      <td>S</td>\n",
       "    </tr>\n",
       "    <tr>\n",
       "      <th>4</th>\n",
       "      <td>S</td>\n",
       "    </tr>\n",
       "  </tbody>\n",
       "</table>\n",
       "</div>"
      ],
      "text/plain": [
       "  Embarked\n",
       "0        S\n",
       "1        C\n",
       "2        S\n",
       "3        S\n",
       "4        S"
      ]
     },
     "execution_count": 45,
     "metadata": {
      "tags": []
     },
     "output_type": "execute_result"
    }
   ],
   "source": [
    "titanic_embarked = pd.read_csv(dir, usecols=['Embarked'])\n",
    "titanic_embarked.head()"
   ]
  },
  {
   "cell_type": "code",
   "execution_count": null,
   "metadata": {
    "colab": {
     "base_uri": "https://localhost:8080/"
    },
    "executionInfo": {
     "elapsed": 24277,
     "status": "ok",
     "timestamp": 1611031425296,
     "user": {
      "displayName": "‍김지훈(학부학생/공과대학 토목·환경공학)",
      "photoUrl": "",
      "userId": "06228375687141397502"
     },
     "user_tz": -540
    },
    "id": "4xwR3lkiDhtz",
    "outputId": "1e3e311c-ee9e-48e2-e6ad-9ca7193e0161"
   },
   "outputs": [
    {
     "data": {
      "text/plain": [
       "array(['S', 'C', 'Q', nan], dtype=object)"
      ]
     },
     "execution_count": 46,
     "metadata": {
      "tags": []
     },
     "output_type": "execute_result"
    }
   ],
   "source": [
    "titanic_embarked.Embarked.unique()"
   ]
  },
  {
   "cell_type": "markdown",
   "metadata": {
    "id": "yyA0iUOBDhtz"
   },
   "source": [
    "---\n",
    "### (1) 더미화 변환 : pd.get_dummies()\n",
    "---"
   ]
  },
  {
   "cell_type": "code",
   "execution_count": null,
   "metadata": {
    "colab": {
     "base_uri": "https://localhost:8080/",
     "height": 204
    },
    "executionInfo": {
     "elapsed": 24271,
     "status": "ok",
     "timestamp": 1611031425297,
     "user": {
      "displayName": "‍김지훈(학부학생/공과대학 토목·환경공학)",
      "photoUrl": "",
      "userId": "06228375687141397502"
     },
     "user_tz": -540
    },
    "id": "4_FtBgFYDhtz",
    "outputId": "9d4cb550-5866-4ffa-f705-7e9d5f745976"
   },
   "outputs": [
    {
     "data": {
      "text/html": [
       "<div>\n",
       "<style scoped>\n",
       "    .dataframe tbody tr th:only-of-type {\n",
       "        vertical-align: middle;\n",
       "    }\n",
       "\n",
       "    .dataframe tbody tr th {\n",
       "        vertical-align: top;\n",
       "    }\n",
       "\n",
       "    .dataframe thead th {\n",
       "        text-align: right;\n",
       "    }\n",
       "</style>\n",
       "<table border=\"1\" class=\"dataframe\">\n",
       "  <thead>\n",
       "    <tr style=\"text-align: right;\">\n",
       "      <th></th>\n",
       "      <th>Embarked_C</th>\n",
       "      <th>Embarked_Q</th>\n",
       "      <th>Embarked_S</th>\n",
       "    </tr>\n",
       "  </thead>\n",
       "  <tbody>\n",
       "    <tr>\n",
       "      <th>0</th>\n",
       "      <td>0</td>\n",
       "      <td>0</td>\n",
       "      <td>1</td>\n",
       "    </tr>\n",
       "    <tr>\n",
       "      <th>1</th>\n",
       "      <td>1</td>\n",
       "      <td>0</td>\n",
       "      <td>0</td>\n",
       "    </tr>\n",
       "    <tr>\n",
       "      <th>2</th>\n",
       "      <td>0</td>\n",
       "      <td>0</td>\n",
       "      <td>1</td>\n",
       "    </tr>\n",
       "    <tr>\n",
       "      <th>3</th>\n",
       "      <td>0</td>\n",
       "      <td>0</td>\n",
       "      <td>1</td>\n",
       "    </tr>\n",
       "    <tr>\n",
       "      <th>4</th>\n",
       "      <td>0</td>\n",
       "      <td>0</td>\n",
       "      <td>1</td>\n",
       "    </tr>\n",
       "  </tbody>\n",
       "</table>\n",
       "</div>"
      ],
      "text/plain": [
       "   Embarked_C  Embarked_Q  Embarked_S\n",
       "0           0           0           1\n",
       "1           1           0           0\n",
       "2           0           0           1\n",
       "3           0           0           1\n",
       "4           0           0           1"
      ]
     },
     "execution_count": 47,
     "metadata": {
      "tags": []
     },
     "output_type": "execute_result"
    }
   ],
   "source": [
    "pd.get_dummies(titanic_embarked).head()"
   ]
  },
  {
   "cell_type": "code",
   "execution_count": null,
   "metadata": {
    "colab": {
     "base_uri": "https://localhost:8080/",
     "height": 204
    },
    "executionInfo": {
     "elapsed": 24266,
     "status": "ok",
     "timestamp": 1611031425299,
     "user": {
      "displayName": "‍김지훈(학부학생/공과대학 토목·환경공학)",
      "photoUrl": "",
      "userId": "06228375687141397502"
     },
     "user_tz": -540
    },
    "id": "W-56JtKVDht0",
    "outputId": "b7664c35-cd50-408f-bb8c-a88765f38c5a"
   },
   "outputs": [
    {
     "data": {
      "text/html": [
       "<div>\n",
       "<style scoped>\n",
       "    .dataframe tbody tr th:only-of-type {\n",
       "        vertical-align: middle;\n",
       "    }\n",
       "\n",
       "    .dataframe tbody tr th {\n",
       "        vertical-align: top;\n",
       "    }\n",
       "\n",
       "    .dataframe thead th {\n",
       "        text-align: right;\n",
       "    }\n",
       "</style>\n",
       "<table border=\"1\" class=\"dataframe\">\n",
       "  <thead>\n",
       "    <tr style=\"text-align: right;\">\n",
       "      <th></th>\n",
       "      <th>Embarked_C</th>\n",
       "      <th>Embarked_Q</th>\n",
       "      <th>Embarked_S</th>\n",
       "      <th>Embarked_nan</th>\n",
       "    </tr>\n",
       "  </thead>\n",
       "  <tbody>\n",
       "    <tr>\n",
       "      <th>0</th>\n",
       "      <td>0</td>\n",
       "      <td>0</td>\n",
       "      <td>1</td>\n",
       "      <td>0</td>\n",
       "    </tr>\n",
       "    <tr>\n",
       "      <th>1</th>\n",
       "      <td>1</td>\n",
       "      <td>0</td>\n",
       "      <td>0</td>\n",
       "      <td>0</td>\n",
       "    </tr>\n",
       "    <tr>\n",
       "      <th>2</th>\n",
       "      <td>0</td>\n",
       "      <td>0</td>\n",
       "      <td>1</td>\n",
       "      <td>0</td>\n",
       "    </tr>\n",
       "    <tr>\n",
       "      <th>3</th>\n",
       "      <td>0</td>\n",
       "      <td>0</td>\n",
       "      <td>1</td>\n",
       "      <td>0</td>\n",
       "    </tr>\n",
       "    <tr>\n",
       "      <th>4</th>\n",
       "      <td>0</td>\n",
       "      <td>0</td>\n",
       "      <td>1</td>\n",
       "      <td>0</td>\n",
       "    </tr>\n",
       "  </tbody>\n",
       "</table>\n",
       "</div>"
      ],
      "text/plain": [
       "   Embarked_C  Embarked_Q  Embarked_S  Embarked_nan\n",
       "0           0           0           1             0\n",
       "1           1           0           0             0\n",
       "2           0           0           1             0\n",
       "3           0           0           1             0\n",
       "4           0           0           1             0"
      ]
     },
     "execution_count": 48,
     "metadata": {
      "tags": []
     },
     "output_type": "execute_result"
    }
   ],
   "source": [
    "pd.get_dummies(titanic_embarked, dummy_na=True).head()"
   ]
  },
  {
   "cell_type": "markdown",
   "metadata": {
    "id": "V2-trgwvDht0"
   },
   "source": [
    "회귀모델을 쓸 때는 원래 column을 빼야함. <br>\n",
    "tree모델은 원래 column을 유지하는 것이 오히려 좋은 결과가 나옴."
   ]
  },
  {
   "cell_type": "markdown",
   "metadata": {
    "id": "-luKJiaDDht0"
   },
   "source": [
    "---\n",
    "### (2) Ordinal number encoding\n",
    "\n",
    "순서가 있는 범주 순서에 따라 숫자 변수를 만드는 과정.\n",
    "\n",
    "연속적인 정보를 담아줄 수 있기는 하지만, 단위에 문제가 생김.\n",
    "\n",
    "6이 1의 6배라는 의미가 통하지 않기 때문.\n",
    "\n",
    "---"
   ]
  },
  {
   "cell_type": "code",
   "execution_count": null,
   "metadata": {
    "colab": {
     "base_uri": "https://localhost:8080/",
     "height": 204
    },
    "executionInfo": {
     "elapsed": 24262,
     "status": "ok",
     "timestamp": 1611031425304,
     "user": {
      "displayName": "‍김지훈(학부학생/공과대학 토목·환경공학)",
      "photoUrl": "",
      "userId": "06228375687141397502"
     },
     "user_tz": -540
    },
    "id": "S_0ZKwlPDht0",
    "outputId": "be3f2d90-2ad8-4cc6-8a66-87fb6647a948"
   },
   "outputs": [
    {
     "data": {
      "text/html": [
       "<div>\n",
       "<style scoped>\n",
       "    .dataframe tbody tr th:only-of-type {\n",
       "        vertical-align: middle;\n",
       "    }\n",
       "\n",
       "    .dataframe tbody tr th {\n",
       "        vertical-align: top;\n",
       "    }\n",
       "\n",
       "    .dataframe thead th {\n",
       "        text-align: right;\n",
       "    }\n",
       "</style>\n",
       "<table border=\"1\" class=\"dataframe\">\n",
       "  <thead>\n",
       "    <tr style=\"text-align: right;\">\n",
       "      <th></th>\n",
       "      <th>Embarked</th>\n",
       "    </tr>\n",
       "  </thead>\n",
       "  <tbody>\n",
       "    <tr>\n",
       "      <th>0</th>\n",
       "      <td>2.0</td>\n",
       "    </tr>\n",
       "    <tr>\n",
       "      <th>1</th>\n",
       "      <td>0.0</td>\n",
       "    </tr>\n",
       "    <tr>\n",
       "      <th>2</th>\n",
       "      <td>2.0</td>\n",
       "    </tr>\n",
       "    <tr>\n",
       "      <th>3</th>\n",
       "      <td>2.0</td>\n",
       "    </tr>\n",
       "    <tr>\n",
       "      <th>4</th>\n",
       "      <td>2.0</td>\n",
       "    </tr>\n",
       "  </tbody>\n",
       "</table>\n",
       "</div>"
      ],
      "text/plain": [
       "   Embarked\n",
       "0       2.0\n",
       "1       0.0\n",
       "2       2.0\n",
       "3       2.0\n",
       "4       2.0"
      ]
     },
     "execution_count": 49,
     "metadata": {
      "tags": []
     },
     "output_type": "execute_result"
    }
   ],
   "source": [
    "titanic_embarked['Embarked'] = titanic_embarked['Embarked'].map({'C':0,'Q':1,'S':2})\n",
    "titanic_embarked.head()"
   ]
  },
  {
   "cell_type": "markdown",
   "metadata": {
    "id": "K0ezSSCx44t6"
   },
   "source": [
    "sklearn.preprocessing.LabelEncoder()"
   ]
  },
  {
   "cell_type": "markdown",
   "metadata": {
    "id": "hoZfJ6npDht1"
   },
   "source": [
    "#### 날짜 transformation"
   ]
  },
  {
   "cell_type": "code",
   "execution_count": null,
   "metadata": {
    "colab": {
     "base_uri": "https://localhost:8080/",
     "height": 979
    },
    "executionInfo": {
     "elapsed": 24258,
     "status": "ok",
     "timestamp": 1611031425307,
     "user": {
      "displayName": "‍김지훈(학부학생/공과대학 토목·환경공학)",
      "photoUrl": "",
      "userId": "06228375687141397502"
     },
     "user_tz": -540
    },
    "id": "a7fAk167Dht1",
    "outputId": "67387f05-c207-468f-bd61-2a252d4ac82e"
   },
   "outputs": [
    {
     "data": {
      "text/html": [
       "<div>\n",
       "<style scoped>\n",
       "    .dataframe tbody tr th:only-of-type {\n",
       "        vertical-align: middle;\n",
       "    }\n",
       "\n",
       "    .dataframe tbody tr th {\n",
       "        vertical-align: top;\n",
       "    }\n",
       "\n",
       "    .dataframe thead th {\n",
       "        text-align: right;\n",
       "    }\n",
       "</style>\n",
       "<table border=\"1\" class=\"dataframe\">\n",
       "  <thead>\n",
       "    <tr style=\"text-align: right;\">\n",
       "      <th></th>\n",
       "      <th>day</th>\n",
       "    </tr>\n",
       "  </thead>\n",
       "  <tbody>\n",
       "    <tr>\n",
       "      <th>0</th>\n",
       "      <td>2021-01-19 04:43:42.404386</td>\n",
       "    </tr>\n",
       "    <tr>\n",
       "      <th>1</th>\n",
       "      <td>2021-01-18 04:43:42.404386</td>\n",
       "    </tr>\n",
       "    <tr>\n",
       "      <th>2</th>\n",
       "      <td>2021-01-17 04:43:42.404386</td>\n",
       "    </tr>\n",
       "    <tr>\n",
       "      <th>3</th>\n",
       "      <td>2021-01-16 04:43:42.404386</td>\n",
       "    </tr>\n",
       "    <tr>\n",
       "      <th>4</th>\n",
       "      <td>2021-01-15 04:43:42.404386</td>\n",
       "    </tr>\n",
       "    <tr>\n",
       "      <th>5</th>\n",
       "      <td>2021-01-14 04:43:42.404386</td>\n",
       "    </tr>\n",
       "    <tr>\n",
       "      <th>6</th>\n",
       "      <td>2021-01-13 04:43:42.404386</td>\n",
       "    </tr>\n",
       "    <tr>\n",
       "      <th>7</th>\n",
       "      <td>2021-01-12 04:43:42.404386</td>\n",
       "    </tr>\n",
       "    <tr>\n",
       "      <th>8</th>\n",
       "      <td>2021-01-11 04:43:42.404386</td>\n",
       "    </tr>\n",
       "    <tr>\n",
       "      <th>9</th>\n",
       "      <td>2021-01-10 04:43:42.404386</td>\n",
       "    </tr>\n",
       "    <tr>\n",
       "      <th>10</th>\n",
       "      <td>2021-01-09 04:43:42.404386</td>\n",
       "    </tr>\n",
       "    <tr>\n",
       "      <th>11</th>\n",
       "      <td>2021-01-08 04:43:42.404386</td>\n",
       "    </tr>\n",
       "    <tr>\n",
       "      <th>12</th>\n",
       "      <td>2021-01-07 04:43:42.404386</td>\n",
       "    </tr>\n",
       "    <tr>\n",
       "      <th>13</th>\n",
       "      <td>2021-01-06 04:43:42.404386</td>\n",
       "    </tr>\n",
       "    <tr>\n",
       "      <th>14</th>\n",
       "      <td>2021-01-05 04:43:42.404386</td>\n",
       "    </tr>\n",
       "    <tr>\n",
       "      <th>15</th>\n",
       "      <td>2021-01-04 04:43:42.404386</td>\n",
       "    </tr>\n",
       "    <tr>\n",
       "      <th>16</th>\n",
       "      <td>2021-01-03 04:43:42.404386</td>\n",
       "    </tr>\n",
       "    <tr>\n",
       "      <th>17</th>\n",
       "      <td>2021-01-02 04:43:42.404386</td>\n",
       "    </tr>\n",
       "    <tr>\n",
       "      <th>18</th>\n",
       "      <td>2021-01-01 04:43:42.404386</td>\n",
       "    </tr>\n",
       "    <tr>\n",
       "      <th>19</th>\n",
       "      <td>2020-12-31 04:43:42.404386</td>\n",
       "    </tr>\n",
       "    <tr>\n",
       "      <th>20</th>\n",
       "      <td>2020-12-30 04:43:42.404386</td>\n",
       "    </tr>\n",
       "    <tr>\n",
       "      <th>21</th>\n",
       "      <td>2020-12-29 04:43:42.404386</td>\n",
       "    </tr>\n",
       "    <tr>\n",
       "      <th>22</th>\n",
       "      <td>2020-12-28 04:43:42.404386</td>\n",
       "    </tr>\n",
       "    <tr>\n",
       "      <th>23</th>\n",
       "      <td>2020-12-27 04:43:42.404386</td>\n",
       "    </tr>\n",
       "    <tr>\n",
       "      <th>24</th>\n",
       "      <td>2020-12-26 04:43:42.404386</td>\n",
       "    </tr>\n",
       "    <tr>\n",
       "      <th>25</th>\n",
       "      <td>2020-12-25 04:43:42.404386</td>\n",
       "    </tr>\n",
       "    <tr>\n",
       "      <th>26</th>\n",
       "      <td>2020-12-24 04:43:42.404386</td>\n",
       "    </tr>\n",
       "    <tr>\n",
       "      <th>27</th>\n",
       "      <td>2020-12-23 04:43:42.404386</td>\n",
       "    </tr>\n",
       "    <tr>\n",
       "      <th>28</th>\n",
       "      <td>2020-12-22 04:43:42.404386</td>\n",
       "    </tr>\n",
       "    <tr>\n",
       "      <th>29</th>\n",
       "      <td>2020-12-21 04:43:42.404386</td>\n",
       "    </tr>\n",
       "  </tbody>\n",
       "</table>\n",
       "</div>"
      ],
      "text/plain": [
       "                          day\n",
       "0  2021-01-19 04:43:42.404386\n",
       "1  2021-01-18 04:43:42.404386\n",
       "2  2021-01-17 04:43:42.404386\n",
       "3  2021-01-16 04:43:42.404386\n",
       "4  2021-01-15 04:43:42.404386\n",
       "5  2021-01-14 04:43:42.404386\n",
       "6  2021-01-13 04:43:42.404386\n",
       "7  2021-01-12 04:43:42.404386\n",
       "8  2021-01-11 04:43:42.404386\n",
       "9  2021-01-10 04:43:42.404386\n",
       "10 2021-01-09 04:43:42.404386\n",
       "11 2021-01-08 04:43:42.404386\n",
       "12 2021-01-07 04:43:42.404386\n",
       "13 2021-01-06 04:43:42.404386\n",
       "14 2021-01-05 04:43:42.404386\n",
       "15 2021-01-04 04:43:42.404386\n",
       "16 2021-01-03 04:43:42.404386\n",
       "17 2021-01-02 04:43:42.404386\n",
       "18 2021-01-01 04:43:42.404386\n",
       "19 2020-12-31 04:43:42.404386\n",
       "20 2020-12-30 04:43:42.404386\n",
       "21 2020-12-29 04:43:42.404386\n",
       "22 2020-12-28 04:43:42.404386\n",
       "23 2020-12-27 04:43:42.404386\n",
       "24 2020-12-26 04:43:42.404386\n",
       "25 2020-12-25 04:43:42.404386\n",
       "26 2020-12-24 04:43:42.404386\n",
       "27 2020-12-23 04:43:42.404386\n",
       "28 2020-12-22 04:43:42.404386\n",
       "29 2020-12-21 04:43:42.404386"
      ]
     },
     "execution_count": 50,
     "metadata": {
      "tags": []
     },
     "output_type": "execute_result"
    }
   ],
   "source": [
    "import datetime\n",
    "\n",
    "base = datetime.datetime.today()\n",
    "date_list = [base - datetime.timedelta(days=x) for x in range(0, 30)]\n",
    "df = pd.DataFrame(date_list)\n",
    "df.columns = ['day']\n",
    "df"
   ]
  },
  {
   "cell_type": "code",
   "execution_count": null,
   "metadata": {
    "colab": {
     "base_uri": "https://localhost:8080/",
     "height": 204
    },
    "executionInfo": {
     "elapsed": 24253,
     "status": "ok",
     "timestamp": 1611031425309,
     "user": {
      "displayName": "‍김지훈(학부학생/공과대학 토목·환경공학)",
      "photoUrl": "",
      "userId": "06228375687141397502"
     },
     "user_tz": -540
    },
    "id": "uxViPw4pDht1",
    "outputId": "a7574284-c381-4f2e-aadd-24d3703bf78b"
   },
   "outputs": [
    {
     "data": {
      "text/html": [
       "<div>\n",
       "<style scoped>\n",
       "    .dataframe tbody tr th:only-of-type {\n",
       "        vertical-align: middle;\n",
       "    }\n",
       "\n",
       "    .dataframe tbody tr th {\n",
       "        vertical-align: top;\n",
       "    }\n",
       "\n",
       "    .dataframe thead th {\n",
       "        text-align: right;\n",
       "    }\n",
       "</style>\n",
       "<table border=\"1\" class=\"dataframe\">\n",
       "  <thead>\n",
       "    <tr style=\"text-align: right;\">\n",
       "      <th></th>\n",
       "      <th>day</th>\n",
       "      <th>day_of_week</th>\n",
       "    </tr>\n",
       "  </thead>\n",
       "  <tbody>\n",
       "    <tr>\n",
       "      <th>0</th>\n",
       "      <td>2021-01-19 04:43:42.404386</td>\n",
       "      <td>1</td>\n",
       "    </tr>\n",
       "    <tr>\n",
       "      <th>1</th>\n",
       "      <td>2021-01-18 04:43:42.404386</td>\n",
       "      <td>0</td>\n",
       "    </tr>\n",
       "    <tr>\n",
       "      <th>2</th>\n",
       "      <td>2021-01-17 04:43:42.404386</td>\n",
       "      <td>6</td>\n",
       "    </tr>\n",
       "    <tr>\n",
       "      <th>3</th>\n",
       "      <td>2021-01-16 04:43:42.404386</td>\n",
       "      <td>5</td>\n",
       "    </tr>\n",
       "    <tr>\n",
       "      <th>4</th>\n",
       "      <td>2021-01-15 04:43:42.404386</td>\n",
       "      <td>4</td>\n",
       "    </tr>\n",
       "  </tbody>\n",
       "</table>\n",
       "</div>"
      ],
      "text/plain": [
       "                         day  day_of_week\n",
       "0 2021-01-19 04:43:42.404386            1\n",
       "1 2021-01-18 04:43:42.404386            0\n",
       "2 2021-01-17 04:43:42.404386            6\n",
       "3 2021-01-16 04:43:42.404386            5\n",
       "4 2021-01-15 04:43:42.404386            4"
      ]
     },
     "execution_count": 51,
     "metadata": {
      "tags": []
     },
     "output_type": "execute_result"
    }
   ],
   "source": [
    "# Monday = 0\n",
    "df['day_of_week'] = df['day'].dt.weekday\n",
    "df.head()"
   ]
  },
  {
   "cell_type": "code",
   "execution_count": null,
   "metadata": {
    "colab": {
     "base_uri": "https://localhost:8080/",
     "height": 204
    },
    "executionInfo": {
     "elapsed": 24246,
     "status": "ok",
     "timestamp": 1611031425310,
     "user": {
      "displayName": "‍김지훈(학부학생/공과대학 토목·환경공학)",
      "photoUrl": "",
      "userId": "06228375687141397502"
     },
     "user_tz": -540
    },
    "id": "bJr4ASQy53f4",
    "outputId": "19f01448-28b5-4e20-c3e5-478366758e1b"
   },
   "outputs": [
    {
     "data": {
      "text/html": [
       "<div>\n",
       "<style scoped>\n",
       "    .dataframe tbody tr th:only-of-type {\n",
       "        vertical-align: middle;\n",
       "    }\n",
       "\n",
       "    .dataframe tbody tr th {\n",
       "        vertical-align: top;\n",
       "    }\n",
       "\n",
       "    .dataframe thead th {\n",
       "        text-align: right;\n",
       "    }\n",
       "</style>\n",
       "<table border=\"1\" class=\"dataframe\">\n",
       "  <thead>\n",
       "    <tr style=\"text-align: right;\">\n",
       "      <th></th>\n",
       "      <th>day</th>\n",
       "      <th>day_of_week</th>\n",
       "    </tr>\n",
       "  </thead>\n",
       "  <tbody>\n",
       "    <tr>\n",
       "      <th>0</th>\n",
       "      <td>2021-01-19 04:43:42.404386</td>\n",
       "      <td>Tuesday</td>\n",
       "    </tr>\n",
       "    <tr>\n",
       "      <th>1</th>\n",
       "      <td>2021-01-18 04:43:42.404386</td>\n",
       "      <td>Monday</td>\n",
       "    </tr>\n",
       "    <tr>\n",
       "      <th>2</th>\n",
       "      <td>2021-01-17 04:43:42.404386</td>\n",
       "      <td>Sunday</td>\n",
       "    </tr>\n",
       "    <tr>\n",
       "      <th>3</th>\n",
       "      <td>2021-01-16 04:43:42.404386</td>\n",
       "      <td>Saturday</td>\n",
       "    </tr>\n",
       "    <tr>\n",
       "      <th>4</th>\n",
       "      <td>2021-01-15 04:43:42.404386</td>\n",
       "      <td>Friday</td>\n",
       "    </tr>\n",
       "  </tbody>\n",
       "</table>\n",
       "</div>"
      ],
      "text/plain": [
       "                         day day_of_week\n",
       "0 2021-01-19 04:43:42.404386     Tuesday\n",
       "1 2021-01-18 04:43:42.404386      Monday\n",
       "2 2021-01-17 04:43:42.404386      Sunday\n",
       "3 2021-01-16 04:43:42.404386    Saturday\n",
       "4 2021-01-15 04:43:42.404386      Friday"
      ]
     },
     "execution_count": 52,
     "metadata": {
      "tags": []
     },
     "output_type": "execute_result"
    }
   ],
   "source": [
    "df['day_of_week'] = df['day'].dt.day_name()\n",
    "df.head()"
   ]
  },
  {
   "cell_type": "code",
   "execution_count": null,
   "metadata": {
    "colab": {
     "base_uri": "https://localhost:8080/",
     "height": 359
    },
    "executionInfo": {
     "elapsed": 24242,
     "status": "ok",
     "timestamp": 1611031425313,
     "user": {
      "displayName": "‍김지훈(학부학생/공과대학 토목·환경공학)",
      "photoUrl": "",
      "userId": "06228375687141397502"
     },
     "user_tz": -540
    },
    "id": "PfNPKU_EDht2",
    "outputId": "b0834819-76ff-4b8a-8545-ad0b7dd71e13"
   },
   "outputs": [
    {
     "data": {
      "text/html": [
       "<div>\n",
       "<style scoped>\n",
       "    .dataframe tbody tr th:only-of-type {\n",
       "        vertical-align: middle;\n",
       "    }\n",
       "\n",
       "    .dataframe tbody tr th {\n",
       "        vertical-align: top;\n",
       "    }\n",
       "\n",
       "    .dataframe thead th {\n",
       "        text-align: right;\n",
       "    }\n",
       "</style>\n",
       "<table border=\"1\" class=\"dataframe\">\n",
       "  <thead>\n",
       "    <tr style=\"text-align: right;\">\n",
       "      <th></th>\n",
       "      <th>day</th>\n",
       "      <th>day_of_week</th>\n",
       "      <th>day_ordinal</th>\n",
       "    </tr>\n",
       "  </thead>\n",
       "  <tbody>\n",
       "    <tr>\n",
       "      <th>0</th>\n",
       "      <td>2021-01-19 04:43:42.404386</td>\n",
       "      <td>Tuesday</td>\n",
       "      <td>2</td>\n",
       "    </tr>\n",
       "    <tr>\n",
       "      <th>1</th>\n",
       "      <td>2021-01-18 04:43:42.404386</td>\n",
       "      <td>Monday</td>\n",
       "      <td>1</td>\n",
       "    </tr>\n",
       "    <tr>\n",
       "      <th>2</th>\n",
       "      <td>2021-01-17 04:43:42.404386</td>\n",
       "      <td>Sunday</td>\n",
       "      <td>7</td>\n",
       "    </tr>\n",
       "    <tr>\n",
       "      <th>3</th>\n",
       "      <td>2021-01-16 04:43:42.404386</td>\n",
       "      <td>Saturday</td>\n",
       "      <td>6</td>\n",
       "    </tr>\n",
       "    <tr>\n",
       "      <th>4</th>\n",
       "      <td>2021-01-15 04:43:42.404386</td>\n",
       "      <td>Friday</td>\n",
       "      <td>5</td>\n",
       "    </tr>\n",
       "    <tr>\n",
       "      <th>5</th>\n",
       "      <td>2021-01-14 04:43:42.404386</td>\n",
       "      <td>Thursday</td>\n",
       "      <td>4</td>\n",
       "    </tr>\n",
       "    <tr>\n",
       "      <th>6</th>\n",
       "      <td>2021-01-13 04:43:42.404386</td>\n",
       "      <td>Wednesday</td>\n",
       "      <td>3</td>\n",
       "    </tr>\n",
       "    <tr>\n",
       "      <th>7</th>\n",
       "      <td>2021-01-12 04:43:42.404386</td>\n",
       "      <td>Tuesday</td>\n",
       "      <td>2</td>\n",
       "    </tr>\n",
       "    <tr>\n",
       "      <th>8</th>\n",
       "      <td>2021-01-11 04:43:42.404386</td>\n",
       "      <td>Monday</td>\n",
       "      <td>1</td>\n",
       "    </tr>\n",
       "    <tr>\n",
       "      <th>9</th>\n",
       "      <td>2021-01-10 04:43:42.404386</td>\n",
       "      <td>Sunday</td>\n",
       "      <td>7</td>\n",
       "    </tr>\n",
       "  </tbody>\n",
       "</table>\n",
       "</div>"
      ],
      "text/plain": [
       "                         day day_of_week  day_ordinal\n",
       "0 2021-01-19 04:43:42.404386     Tuesday            2\n",
       "1 2021-01-18 04:43:42.404386      Monday            1\n",
       "2 2021-01-17 04:43:42.404386      Sunday            7\n",
       "3 2021-01-16 04:43:42.404386    Saturday            6\n",
       "4 2021-01-15 04:43:42.404386      Friday            5\n",
       "5 2021-01-14 04:43:42.404386    Thursday            4\n",
       "6 2021-01-13 04:43:42.404386   Wednesday            3\n",
       "7 2021-01-12 04:43:42.404386     Tuesday            2\n",
       "8 2021-01-11 04:43:42.404386      Monday            1\n",
       "9 2021-01-10 04:43:42.404386      Sunday            7"
      ]
     },
     "execution_count": 53,
     "metadata": {
      "tags": []
     },
     "output_type": "execute_result"
    }
   ],
   "source": [
    "weekday_map = {'Monday':1,\n",
    "               'Tuesday':2,\n",
    "               'Wednesday':3,\n",
    "               'Thursday':4,\n",
    "               'Friday':5,\n",
    "               'Saturday':6,\n",
    "               'Sunday':7\n",
    "}\n",
    "\n",
    "df['day_ordinal'] = df.day_of_week.map(weekday_map)\n",
    "df.head(10)"
   ]
  },
  {
   "cell_type": "markdown",
   "metadata": {
    "id": "G7Nbtd9lDht2"
   },
   "source": [
    "## 6. Feature Scaling\n",
    "### Variable magnitude\n",
    "\n",
    "> Does the magnitude of the variable matter?\n",
    "<br><br>\n",
    "- Linear Regression 모델은 변수의 스케일이 중요. x값의 magnitude가 변하면 그에 해당하는 상관계수(coefficient)도 변함. 특히 여러가지 변수가 있을 때, range가 큰 변수는 작은 변수에 비해 더 큰 영향력을 미칠 수 있음. \n",
    "<br>\n",
    "- Gradient descent 알고리즘은 변수들이 비슷한 스케일에 있을 때 속도가 빠름. 그러므로 feature scaling은 Neural Networks, Logistic Regression에서도 유용. SVM 모델에서 feature scaling은 support vectors를 찾는 시간을 줄여줌.\n",
    "<br>\n",
    "- 유클리디안이나 각종 거리를 측정하는 알고리즘을 사용하는 모델도 변수의 magnitude에 영향을 받음. 그러므로 feature scaling은 KNN이나 K-means clustering 같은 모델에서도 중요.\n",
    "<br>\n",
    "\n",
    "#### The machine learning models affected by the magnitude of the feature are:\n",
    "\n",
    "- Linear and Logistic Regression\n",
    "- Neural Networks\n",
    "- Support Vector Machines\n",
    "- KNN\n",
    "- K-means clustering\n",
    "- Linear Discriminant Analysis (LDA)\n",
    "- Principal Component Analysis (PCA)\n",
    "\n",
    "#### Machine learning models insensitive to feature magnitude are the ones based on Trees:\n",
    "\n",
    "- Classification and Regression Trees\n",
    "- Random Forests\n",
    "- Gradient Boosted Trees\n"
   ]
  },
  {
   "cell_type": "code",
   "execution_count": null,
   "metadata": {
    "id": "-OfNicXCDht2"
   },
   "outputs": [],
   "source": [
    "# Scaling\n",
    "from sklearn.preprocessing import StandardScaler # z = (x - x_mean) / std\n",
    "from sklearn.preprocessing import MinMaxScaler   # X_scaled = (X - X.min / (X.max - X.min)\n",
    "from sklearn.preprocessing import RobustScaler   # X_scaled = (X - X.median) / IQR"
   ]
  },
  {
   "cell_type": "markdown",
   "metadata": {
    "id": "99jWgexkDht3"
   },
   "source": [
    "---\n",
    "### 5-1. Standardization (표준화)\n",
    "- 변수들을 비슷한 scale로 만들어 줌\n",
    "- 변환 후 평균 = 0, 분산 = 1\n",
    "\n",
    "$$z = \\frac{x - \\bar{x}}{s}$$\n",
    "\n",
    "---"
   ]
  },
  {
   "cell_type": "code",
   "execution_count": null,
   "metadata": {
    "colab": {
     "base_uri": "https://localhost:8080/",
     "height": 204
    },
    "executionInfo": {
     "elapsed": 24234,
     "status": "ok",
     "timestamp": 1611031425319,
     "user": {
      "displayName": "‍김지훈(학부학생/공과대학 토목·환경공학)",
      "photoUrl": "",
      "userId": "06228375687141397502"
     },
     "user_tz": -540
    },
    "id": "xCPoLMLfDht3",
    "outputId": "37e4e6c0-5f9e-45ba-95d6-826a7e97f895"
   },
   "outputs": [
    {
     "data": {
      "text/html": [
       "<div>\n",
       "<style scoped>\n",
       "    .dataframe tbody tr th:only-of-type {\n",
       "        vertical-align: middle;\n",
       "    }\n",
       "\n",
       "    .dataframe tbody tr th {\n",
       "        vertical-align: top;\n",
       "    }\n",
       "\n",
       "    .dataframe thead th {\n",
       "        text-align: right;\n",
       "    }\n",
       "</style>\n",
       "<table border=\"1\" class=\"dataframe\">\n",
       "  <thead>\n",
       "    <tr style=\"text-align: right;\">\n",
       "      <th></th>\n",
       "      <th>Survived</th>\n",
       "      <th>Pclass</th>\n",
       "      <th>Age</th>\n",
       "      <th>Fare</th>\n",
       "    </tr>\n",
       "  </thead>\n",
       "  <tbody>\n",
       "    <tr>\n",
       "      <th>0</th>\n",
       "      <td>0</td>\n",
       "      <td>3</td>\n",
       "      <td>22.0</td>\n",
       "      <td>7.2500</td>\n",
       "    </tr>\n",
       "    <tr>\n",
       "      <th>1</th>\n",
       "      <td>1</td>\n",
       "      <td>1</td>\n",
       "      <td>38.0</td>\n",
       "      <td>71.2833</td>\n",
       "    </tr>\n",
       "    <tr>\n",
       "      <th>2</th>\n",
       "      <td>1</td>\n",
       "      <td>3</td>\n",
       "      <td>26.0</td>\n",
       "      <td>7.9250</td>\n",
       "    </tr>\n",
       "    <tr>\n",
       "      <th>3</th>\n",
       "      <td>1</td>\n",
       "      <td>1</td>\n",
       "      <td>35.0</td>\n",
       "      <td>53.1000</td>\n",
       "    </tr>\n",
       "    <tr>\n",
       "      <th>4</th>\n",
       "      <td>0</td>\n",
       "      <td>3</td>\n",
       "      <td>35.0</td>\n",
       "      <td>8.0500</td>\n",
       "    </tr>\n",
       "  </tbody>\n",
       "</table>\n",
       "</div>"
      ],
      "text/plain": [
       "   Survived  Pclass   Age     Fare\n",
       "0         0       3  22.0   7.2500\n",
       "1         1       1  38.0  71.2833\n",
       "2         1       3  26.0   7.9250\n",
       "3         1       1  35.0  53.1000\n",
       "4         0       3  35.0   8.0500"
      ]
     },
     "execution_count": 55,
     "metadata": {
      "tags": []
     },
     "output_type": "execute_result"
    }
   ],
   "source": [
    "data = pd.read_csv(dir, usecols = ['Pclass', 'Age', 'Fare', 'Survived'])\n",
    "data.head()"
   ]
  },
  {
   "cell_type": "code",
   "execution_count": null,
   "metadata": {
    "colab": {
     "base_uri": "https://localhost:8080/"
    },
    "executionInfo": {
     "elapsed": 24230,
     "status": "ok",
     "timestamp": 1611031425323,
     "user": {
      "displayName": "‍김지훈(학부학생/공과대학 토목·환경공학)",
      "photoUrl": "",
      "userId": "06228375687141397502"
     },
     "user_tz": -540
    },
    "id": "H426Mw-EDht3",
    "outputId": "bf0e2490-3950-4e51-d813-e67ac934d1b0"
   },
   "outputs": [
    {
     "name": "stdout",
     "output_type": "stream",
     "text": [
      "training predictors size: (623, 3)\n",
      "training response size: (623,)\n",
      "test predictors size: (268, 3)\n",
      "test response size: (268,)\n"
     ]
    }
   ],
   "source": [
    "X_train, X_test, y_train, y_test = train_test_split(data[['Pclass', 'Age', 'Fare']],\n",
    "                                                    data.Survived, \n",
    "                                                    test_size=0.3,\n",
    "                                                    random_state=0)\n",
    "\n",
    "print(\"training predictors size:\", X_train.shape) \n",
    "print(\"training response size:\", y_train.shape)    \n",
    "print(\"test predictors size:\", X_test.shape)      \n",
    "print(\"test response size:\", y_test.shape)"
   ]
  },
  {
   "cell_type": "code",
   "execution_count": null,
   "metadata": {
    "id": "wldATI2bDht3"
   },
   "outputs": [],
   "source": [
    "# 'Age'의 결측값을 mean으로 채움\n",
    "X_train['Age'] = X_train.Age.fillna(X_train.Age.mean())\n",
    "X_test['Age'] = X_test.Age.fillna(X_train.Age.mean())"
   ]
  },
  {
   "cell_type": "code",
   "execution_count": null,
   "metadata": {
    "id": "i5gUk8QlDht4"
   },
   "outputs": [],
   "source": [
    "scaler = StandardScaler() \n",
    "X_train_scaled = scaler.fit_transform(X_train)\n",
    "X_test_scaled = scaler.transform(X_test)"
   ]
  },
  {
   "cell_type": "code",
   "execution_count": null,
   "metadata": {
    "colab": {
     "base_uri": "https://localhost:8080/"
    },
    "executionInfo": {
     "elapsed": 24205,
     "status": "ok",
     "timestamp": 1611031425326,
     "user": {
      "displayName": "‍김지훈(학부학생/공과대학 토목·환경공학)",
      "photoUrl": "",
      "userId": "06228375687141397502"
     },
     "user_tz": -540
    },
    "id": "y0qBTAGwDht4",
    "outputId": "e538233c-4dad-4ee1-e0c9-a35f68c5cf1e"
   },
   "outputs": [
    {
     "name": "stdout",
     "output_type": "stream",
     "text": [
      "means (Pclass, Age and Fare):  [ 4.98976640e-17 -2.85129509e-17  5.41746067e-17]\n",
      "std (Pclass, Age and Fare):  [1. 1. 1.]\n",
      "Min values (Pclass, Age and Fare):  [-1.5325562  -2.24804184 -0.67314402]\n",
      "Max values (Pclass, Age and Fare):  [0.84844757 3.84992684 9.95192344]\n"
     ]
    }
   ],
   "source": [
    "print('means (Pclass, Age and Fare): ', X_train_scaled.mean(axis=0))\n",
    "print('std (Pclass, Age and Fare): ', X_train_scaled.std(axis=0))\n",
    "print('Min values (Pclass, Age and Fare): ', X_train_scaled.min(axis=0))\n",
    "print('Max values (Pclass, Age and Fare): ', X_train_scaled.max(axis=0))"
   ]
  },
  {
   "cell_type": "code",
   "execution_count": null,
   "metadata": {
    "colab": {
     "base_uri": "https://localhost:8080/"
    },
    "executionInfo": {
     "elapsed": 24198,
     "status": "ok",
     "timestamp": 1611031425328,
     "user": {
      "displayName": "‍김지훈(학부학생/공과대학 토목·환경공학)",
      "photoUrl": "",
      "userId": "06228375687141397502"
     },
     "user_tz": -540
    },
    "id": "nJJ9CkoPDht4",
    "outputId": "57b5af12-07b9-4ddb-85f7-d2da9b5bca53"
   },
   "outputs": [
    {
     "data": {
      "text/plain": [
       "array([[-1.5325562 ,  1.62074379, -0.12253019],\n",
       "       [-1.5325562 ,  1.46700702,  0.91812372],\n",
       "       [ 0.84844757, -2.22267527,  0.29950338],\n",
       "       ...,\n",
       "       [ 0.84844757,  0.        , -0.51276504],\n",
       "       [ 0.84844757,  0.46771807, -0.31228976],\n",
       "       [-0.34205431,  2.31255922,  0.13566725]])"
      ]
     },
     "execution_count": 60,
     "metadata": {
      "tags": []
     },
     "output_type": "execute_result"
    }
   ],
   "source": [
    "X_train_scaled"
   ]
  },
  {
   "cell_type": "code",
   "execution_count": null,
   "metadata": {
    "colab": {
     "base_uri": "https://localhost:8080/",
     "height": 265
    },
    "executionInfo": {
     "elapsed": 24189,
     "status": "ok",
     "timestamp": 1611031425330,
     "user": {
      "displayName": "‍김지훈(학부학생/공과대학 토목·환경공학)",
      "photoUrl": "",
      "userId": "06228375687141397502"
     },
     "user_tz": -540
    },
    "id": "uT9ka8ReDht5",
    "outputId": "06479582-faec-48d8-dfd6-2da60b955c2f"
   },
   "outputs": [
    {
     "data": {
      "image/png": "[encoded data removed]",
      "text/plain": [
       "<Figure size 432x288 with 1 Axes>"
      ]
     },
     "metadata": {
      "tags": []
     },
     "output_type": "display_data"
    }
   ],
   "source": [
    "# Age\n",
    "plt.hist(X_train_scaled[:,1], bins=20)\n",
    "plt.show()"
   ]
  },
  {
   "cell_type": "code",
   "execution_count": null,
   "metadata": {
    "colab": {
     "base_uri": "https://localhost:8080/",
     "height": 265
    },
    "executionInfo": {
     "elapsed": 24178,
     "status": "ok",
     "timestamp": 1611031425331,
     "user": {
      "displayName": "‍김지훈(학부학생/공과대학 토목·환경공학)",
      "photoUrl": "",
      "userId": "06228375687141397502"
     },
     "user_tz": -540
    },
    "id": "6wGuESNZDht5",
    "outputId": "8aae0e02-16dd-4d93-e7b5-127629ce1a19"
   },
   "outputs": [
    {
     "data": {
      "image/png": "[encoded data removed]",
      "text/plain": [
       "<Figure size 432x288 with 1 Axes>"
      ]
     },
     "metadata": {
      "tags": []
     },
     "output_type": "display_data"
    }
   ],
   "source": [
    "# Fare\n",
    "plt.hist(X_train_scaled[:,2], bins=20)\n",
    "plt.show()"
   ]
  },
  {
   "cell_type": "markdown",
   "metadata": {
    "id": "uPgCm8-FDht6"
   },
   "source": [
    "Age는 가우시안 분포의 모양이 되었지만 fare는 잘되지 않음. (Maybe due to outlier)"
   ]
  },
  {
   "cell_type": "markdown",
   "metadata": {
    "id": "BrHCKLr8Dht6"
   },
   "source": [
    "---\n",
    "### 5-2. MinMaxScaler\n",
    "모든 값들이 0과 1사이에 놓이도록 변형시켜줍니다. 표준화 (정규화)와 마찬가지로 아웃라이어에 취약해요.\n",
    "\n",
    "$$x' = \\frac{x - x_{min}}{x_{max} - x_{min}}$$\n",
    "\n",
    "---"
   ]
  },
  {
   "cell_type": "code",
   "execution_count": null,
   "metadata": {
    "id": "UnT69rv3Dht7"
   },
   "outputs": [],
   "source": [
    "scaler_minmax = MinMaxScaler() # 객체 생성\n",
    "X_train_scaled_minmax = scaler_minmax.fit_transform(X_train) #  fit the scaler to the train set\n",
    "X_test_scaled_minmax = scaler_minmax.transform(X_test) # transform the test set"
   ]
  },
  {
   "cell_type": "code",
   "execution_count": null,
   "metadata": {
    "colab": {
     "base_uri": "https://localhost:8080/"
    },
    "executionInfo": {
     "elapsed": 24167,
     "status": "ok",
     "timestamp": 1611031425336,
     "user": {
      "displayName": "‍김지훈(학부학생/공과대학 토목·환경공학)",
      "photoUrl": "",
      "userId": "06228375687141397502"
     },
     "user_tz": -540
    },
    "id": "6qfDCkOFDht7",
    "outputId": "e4c149f3-9706-4f70-cafd-8de99cfafd76"
   },
   "outputs": [
    {
     "name": "stdout",
     "output_type": "stream",
     "text": [
      "평균 (Age, Fare): [0.64365971 0.36865421 0.06335433]\n",
      "표준편차 (Age, Fare): [0.41999093 0.16398904 0.09411705]\n",
      "최솟값 (Age, Fare): [0. 0. 0.]\n",
      "최댓값 (Age, Fare): [1. 1. 1.]\n"
     ]
    }
   ],
   "source": [
    "print('평균 (Age, Fare):', X_train_scaled_minmax.mean(axis=0))\n",
    "print('표준편차 (Age, Fare):', X_train_scaled_minmax.std(axis=0))\n",
    "print('최솟값 (Age, Fare):', X_train_scaled_minmax.min(axis=0))\n",
    "print('최댓값 (Age, Fare):', X_train_scaled_minmax.max(axis=0))"
   ]
  },
  {
   "cell_type": "markdown",
   "metadata": {
    "id": "sSYK-bG0Dht7"
   },
   "source": [
    "위에서 최솟값은 0, 최댓값은 1에 맞추어짐. \n",
    "하지만, 평균과 표준편차가 더이상 0과 1이 아님.\n",
    "\n",
    "아래에서 원래 값과 비교"
   ]
  },
  {
   "cell_type": "code",
   "execution_count": null,
   "metadata": {
    "colab": {
     "base_uri": "https://localhost:8080/",
     "height": 497
    },
    "executionInfo": {
     "elapsed": 25937,
     "status": "ok",
     "timestamp": 1611031427113,
     "user": {
      "displayName": "‍김지훈(학부학생/공과대학 토목·환경공학)",
      "photoUrl": "",
      "userId": "06228375687141397502"
     },
     "user_tz": -540
    },
    "id": "TXOcMRrrDht7",
    "outputId": "c63a8a44-85cc-45f7-afce-d77fb88ed998"
   },
   "outputs": [
    {
     "name": "stderr",
     "output_type": "stream",
     "text": [
      "/usr/local/lib/python3.6/dist-packages/seaborn/_decorators.py:43: FutureWarning: Pass the following variables as keyword args: x, y. From version 0.12, the only valid positional argument will be `data`, and passing other arguments without an explicit keyword will result in an error or misinterpretation.\n",
      "  FutureWarning\n"
     ]
    },
    {
     "data": {
      "image/png": "[encoded data removed]",
      "text/plain": [
       "<Figure size 432x432 with 3 Axes>"
      ]
     },
     "metadata": {
      "tags": []
     },
     "output_type": "display_data"
    }
   ],
   "source": [
    "sns.jointplot(X_train.Age, X_train_scaled_minmax[:,0], kind='kde');"
   ]
  },
  {
   "cell_type": "code",
   "execution_count": null,
   "metadata": {
    "colab": {
     "base_uri": "https://localhost:8080/",
     "height": 497
    },
    "executionInfo": {
     "elapsed": 26751,
     "status": "ok",
     "timestamp": 1611031427934,
     "user": {
      "displayName": "‍김지훈(학부학생/공과대학 토목·환경공학)",
      "photoUrl": "",
      "userId": "06228375687141397502"
     },
     "user_tz": -540
    },
    "id": "uBsTaDo-Dht8",
    "outputId": "76032edf-cf5d-45a2-838b-98b29d871f80"
   },
   "outputs": [
    {
     "name": "stderr",
     "output_type": "stream",
     "text": [
      "/usr/local/lib/python3.6/dist-packages/seaborn/_decorators.py:43: FutureWarning: Pass the following variables as keyword args: x, y. From version 0.12, the only valid positional argument will be `data`, and passing other arguments without an explicit keyword will result in an error or misinterpretation.\n",
      "  FutureWarning\n"
     ]
    },
    {
     "data": {
      "image/png": "[encoded data removed]",
      "text/plain": [
       "<Figure size 432x432 with 3 Axes>"
      ]
     },
     "metadata": {
      "tags": []
     },
     "output_type": "display_data"
    }
   ],
   "source": [
    "sns.jointplot(X_train.Fare, X_train_scaled_minmax[:,1], kind='kde', xlim=(0,200), ylim=(-1,3));"
   ]
  },
  {
   "cell_type": "code",
   "execution_count": null,
   "metadata": {
    "id": "K4hUtsPlDht8"
   },
   "outputs": [],
   "source": []
  }
 ],
 "metadata": {
  "colab": {
   "name": "01_19_FE_practice.ipynb",
   "provenance": []
  },
  "kernelspec": {
   "display_name": "Python 3",
   "language": "python",
   "name": "python3"
  },
  "language_info": {
   "codemirror_mode": {
    "name": "ipython",
    "version": 3
   },
   "file_extension": ".py",
   "mimetype": "text/x-python",
   "name": "python",
   "nbconvert_exporter": "python",
   "pygments_lexer": "ipython3",
   "version": "3.8.5"
  },
  "widgets": {
   "application/vnd.jupyter.widget-state+json": {
    "00a3aaf7dbbb4d47ae536f5cd106f71e": {
     "model_module": "@jupyter-widgets/controls",
     "model_name": "ProgressStyleModel",
     "state": {
      "_model_module": "@jupyter-widgets/controls",
      "_model_module_version": "1.5.0",
      "_model_name": "ProgressStyleModel",
      "_view_count": null,
      "_view_module": "@jupyter-widgets/base",
      "_view_module_version": "1.2.0",
      "_view_name": "StyleView",
      "bar_color": null,
      "description_width": ""
     }
    },
    "04b80806e6864c1b974d2e26768797cc": {
     "model_module": "@jupyter-widgets/controls",
     "model_name": "HTMLModel",
     "state": {
      "_dom_classes": [],
      "_model_module": "@jupyter-widgets/controls",
      "_model_module_version": "1.5.0",
      "_model_name": "HTMLModel",
      "_view_count": null,
      "_view_module": "@jupyter-widgets/controls",
      "_view_module_version": "1.5.0",
      "_view_name": "HTMLView",
      "description": "",
      "description_tooltip": null,
      "layout": "IPY_MODEL_8ac3bb24f28c4865827ca6dc9da850b9",
      "placeholder": "​",
      "style": "IPY_MODEL_e253b42ff04943a5acc2abd8b7f6c323",
      "value": "Generate report structure: 100%"
     }
    },
    "12a7bee705a1476c811aa823d164f81c": {
     "model_module": "@jupyter-widgets/controls",
     "model_name": "DescriptionStyleModel",
     "state": {
      "_model_module": "@jupyter-widgets/controls",
      "_model_module_version": "1.5.0",
      "_model_name": "DescriptionStyleModel",
      "_view_count": null,
      "_view_module": "@jupyter-widgets/base",
      "_view_module_version": "1.2.0",
      "_view_name": "StyleView",
      "description_width": ""
     }
    },
    "183441f8b6be4bbdade3e2386cd3ff05": {
     "model_module": "@jupyter-widgets/base",
     "model_name": "LayoutModel",
     "state": {
      "_model_module": "@jupyter-widgets/base",
      "_model_module_version": "1.2.0",
      "_model_name": "LayoutModel",
      "_view_count": null,
      "_view_module": "@jupyter-widgets/base",
      "_view_module_version": "1.2.0",
      "_view_name": "LayoutView",
      "align_content": null,
      "align_items": null,
      "align_self": null,
      "border": null,
      "bottom": null,
      "display": null,
      "flex": null,
      "flex_flow": null,
      "grid_area": null,
      "grid_auto_columns": null,
      "grid_auto_flow": null,
      "grid_auto_rows": null,
      "grid_column": null,
      "grid_gap": null,
      "grid_row": null,
      "grid_template_areas": null,
      "grid_template_columns": null,
      "grid_template_rows": null,
      "height": null,
      "justify_content": null,
      "justify_items": null,
      "left": null,
      "margin": null,
      "max_height": null,
      "max_width": null,
      "min_height": null,
      "min_width": null,
      "object_fit": null,
      "object_position": null,
      "order": null,
      "overflow": null,
      "overflow_x": null,
      "overflow_y": null,
      "padding": null,
      "right": null,
      "top": null,
      "visibility": null,
      "width": null
     }
    },
    "255fb8808f7644f7b6a2741ca9ba072c": {
     "model_module": "@jupyter-widgets/controls",
     "model_name": "DescriptionStyleModel",
     "state": {
      "_model_module": "@jupyter-widgets/controls",
      "_model_module_version": "1.5.0",
      "_model_name": "DescriptionStyleModel",
      "_view_count": null,
      "_view_module": "@jupyter-widgets/base",
      "_view_module_version": "1.2.0",
      "_view_name": "StyleView",
      "description_width": ""
     }
    },
    "2d62e949abfb42d9980244eae98fc1d5": {
     "model_module": "@jupyter-widgets/controls",
     "model_name": "HTMLModel",
     "state": {
      "_dom_classes": [],
      "_model_module": "@jupyter-widgets/controls",
      "_model_module_version": "1.5.0",
      "_model_name": "HTMLModel",
      "_view_count": null,
      "_view_module": "@jupyter-widgets/controls",
      "_view_module_version": "1.5.0",
      "_view_name": "HTMLView",
      "description": "",
      "description_tooltip": null,
      "layout": "IPY_MODEL_53098261d5d948ca88721690b9fee281",
      "placeholder": "​",
      "style": "IPY_MODEL_504de892e6e74178902a25768fc15e21",
      "value": " 25/25 [00:07&lt;00:00,  1.65it/s, Completed]"
     }
    },
    "2e3ae30818e440b1a3091a4822880115": {
     "model_module": "@jupyter-widgets/controls",
     "model_name": "HBoxModel",
     "state": {
      "_dom_classes": [],
      "_model_module": "@jupyter-widgets/controls",
      "_model_module_version": "1.5.0",
      "_model_name": "HBoxModel",
      "_view_count": null,
      "_view_module": "@jupyter-widgets/controls",
      "_view_module_version": "1.5.0",
      "_view_name": "HBoxView",
      "box_style": "",
      "children": [
       "IPY_MODEL_f8e3e6e85eab45e9b5c04d93f4f157e0",
       "IPY_MODEL_bb3a16b1131b41d99bab2e5bc902edc0",
       "IPY_MODEL_3b0ef310232348f3811450115ca38136"
      ],
      "layout": "IPY_MODEL_b0d1a23eae6840bc896e306a397a783b"
     }
    },
    "35a26a708f1d4f63b654c3717df35e67": {
     "model_module": "@jupyter-widgets/base",
     "model_name": "LayoutModel",
     "state": {
      "_model_module": "@jupyter-widgets/base",
      "_model_module_version": "1.2.0",
      "_model_name": "LayoutModel",
      "_view_count": null,
      "_view_module": "@jupyter-widgets/base",
      "_view_module_version": "1.2.0",
      "_view_name": "LayoutView",
      "align_content": null,
      "align_items": null,
      "align_self": null,
      "border": null,
      "bottom": null,
      "display": null,
      "flex": null,
      "flex_flow": null,
      "grid_area": null,
      "grid_auto_columns": null,
      "grid_auto_flow": null,
      "grid_auto_rows": null,
      "grid_column": null,
      "grid_gap": null,
      "grid_row": null,
      "grid_template_areas": null,
      "grid_template_columns": null,
      "grid_template_rows": null,
      "height": null,
      "justify_content": null,
      "justify_items": null,
      "left": null,
      "margin": null,
      "max_height": null,
      "max_width": null,
      "min_height": null,
      "min_width": null,
      "object_fit": null,
      "object_position": null,
      "order": null,
      "overflow": null,
      "overflow_x": null,
      "overflow_y": null,
      "padding": null,
      "right": null,
      "top": null,
      "visibility": null,
      "width": null
     }
    },
    "3b0ef310232348f3811450115ca38136": {
     "model_module": "@jupyter-widgets/controls",
     "model_name": "HTMLModel",
     "state": {
      "_dom_classes": [],
      "_model_module": "@jupyter-widgets/controls",
      "_model_module_version": "1.5.0",
      "_model_name": "HTMLModel",
      "_view_count": null,
      "_view_module": "@jupyter-widgets/controls",
      "_view_module_version": "1.5.0",
      "_view_name": "HTMLView",
      "description": "",
      "description_tooltip": null,
      "layout": "IPY_MODEL_e2b1e12971354ea6a3a6ab52fbb6cc81",
      "placeholder": "​",
      "style": "IPY_MODEL_12a7bee705a1476c811aa823d164f81c",
      "value": " 1/1 [00:01&lt;00:00,  1.76s/it]"
     }
    },
    "4efa027b6a154f2db494144023fa21be": {
     "model_module": "@jupyter-widgets/controls",
     "model_name": "ProgressStyleModel",
     "state": {
      "_model_module": "@jupyter-widgets/controls",
      "_model_module_version": "1.5.0",
      "_model_name": "ProgressStyleModel",
      "_view_count": null,
      "_view_module": "@jupyter-widgets/base",
      "_view_module_version": "1.2.0",
      "_view_name": "StyleView",
      "bar_color": null,
      "description_width": ""
     }
    },
    "4f35dd7c876b454baba835bba7d39ae6": {
     "model_module": "@jupyter-widgets/controls",
     "model_name": "FloatProgressModel",
     "state": {
      "_dom_classes": [],
      "_model_module": "@jupyter-widgets/controls",
      "_model_module_version": "1.5.0",
      "_model_name": "FloatProgressModel",
      "_view_count": null,
      "_view_module": "@jupyter-widgets/controls",
      "_view_module_version": "1.5.0",
      "_view_name": "ProgressView",
      "bar_style": "success",
      "description": "",
      "description_tooltip": null,
      "layout": "IPY_MODEL_bab404fb0ea9418c8af0c4b3f28d6d9a",
      "max": 1,
      "min": 0,
      "orientation": "horizontal",
      "style": "IPY_MODEL_e33227517baf4643aca43ada3bc87382",
      "value": 1
     }
    },
    "504de892e6e74178902a25768fc15e21": {
     "model_module": "@jupyter-widgets/controls",
     "model_name": "DescriptionStyleModel",
     "state": {
      "_model_module": "@jupyter-widgets/controls",
      "_model_module_version": "1.5.0",
      "_model_name": "DescriptionStyleModel",
      "_view_count": null,
      "_view_module": "@jupyter-widgets/base",
      "_view_module_version": "1.2.0",
      "_view_name": "StyleView",
      "description_width": ""
     }
    },
    "53098261d5d948ca88721690b9fee281": {
     "model_module": "@jupyter-widgets/base",
     "model_name": "LayoutModel",
     "state": {
      "_model_module": "@jupyter-widgets/base",
      "_model_module_version": "1.2.0",
      "_model_name": "LayoutModel",
      "_view_count": null,
      "_view_module": "@jupyter-widgets/base",
      "_view_module_version": "1.2.0",
      "_view_name": "LayoutView",
      "align_content": null,
      "align_items": null,
      "align_self": null,
      "border": null,
      "bottom": null,
      "display": null,
      "flex": null,
      "flex_flow": null,
      "grid_area": null,
      "grid_auto_columns": null,
      "grid_auto_flow": null,
      "grid_auto_rows": null,
      "grid_column": null,
      "grid_gap": null,
      "grid_row": null,
      "grid_template_areas": null,
      "grid_template_columns": null,
      "grid_template_rows": null,
      "height": null,
      "justify_content": null,
      "justify_items": null,
      "left": null,
      "margin": null,
      "max_height": null,
      "max_width": null,
      "min_height": null,
      "min_width": null,
      "object_fit": null,
      "object_position": null,
      "order": null,
      "overflow": null,
      "overflow_x": null,
      "overflow_y": null,
      "padding": null,
      "right": null,
      "top": null,
      "visibility": null,
      "width": null
     }
    },
    "682283501e0e4726b42efa58b9dd1643": {
     "model_module": "@jupyter-widgets/controls",
     "model_name": "FloatProgressModel",
     "state": {
      "_dom_classes": [],
      "_model_module": "@jupyter-widgets/controls",
      "_model_module_version": "1.5.0",
      "_model_name": "FloatProgressModel",
      "_view_count": null,
      "_view_module": "@jupyter-widgets/controls",
      "_view_module_version": "1.5.0",
      "_view_name": "ProgressView",
      "bar_style": "success",
      "description": "",
      "description_tooltip": null,
      "layout": "IPY_MODEL_92d201f7f2094b578f9b8263faa4adbc",
      "max": 25,
      "min": 0,
      "orientation": "horizontal",
      "style": "IPY_MODEL_4efa027b6a154f2db494144023fa21be",
      "value": 25
     }
    },
    "78fb02d2be29428882a0ceefec487b2a": {
     "model_module": "@jupyter-widgets/controls",
     "model_name": "DescriptionStyleModel",
     "state": {
      "_model_module": "@jupyter-widgets/controls",
      "_model_module_version": "1.5.0",
      "_model_name": "DescriptionStyleModel",
      "_view_count": null,
      "_view_module": "@jupyter-widgets/base",
      "_view_module_version": "1.2.0",
      "_view_name": "StyleView",
      "description_width": ""
     }
    },
    "876e98c028954be6b033b83155755bc2": {
     "model_module": "@jupyter-widgets/base",
     "model_name": "LayoutModel",
     "state": {
      "_model_module": "@jupyter-widgets/base",
      "_model_module_version": "1.2.0",
      "_model_name": "LayoutModel",
      "_view_count": null,
      "_view_module": "@jupyter-widgets/base",
      "_view_module_version": "1.2.0",
      "_view_name": "LayoutView",
      "align_content": null,
      "align_items": null,
      "align_self": null,
      "border": null,
      "bottom": null,
      "display": null,
      "flex": null,
      "flex_flow": null,
      "grid_area": null,
      "grid_auto_columns": null,
      "grid_auto_flow": null,
      "grid_auto_rows": null,
      "grid_column": null,
      "grid_gap": null,
      "grid_row": null,
      "grid_template_areas": null,
      "grid_template_columns": null,
      "grid_template_rows": null,
      "height": null,
      "justify_content": null,
      "justify_items": null,
      "left": null,
      "margin": null,
      "max_height": null,
      "max_width": null,
      "min_height": null,
      "min_width": null,
      "object_fit": null,
      "object_position": null,
      "order": null,
      "overflow": null,
      "overflow_x": null,
      "overflow_y": null,
      "padding": null,
      "right": null,
      "top": null,
      "visibility": null,
      "width": null
     }
    },
    "8ac3bb24f28c4865827ca6dc9da850b9": {
     "model_module": "@jupyter-widgets/base",
     "model_name": "LayoutModel",
     "state": {
      "_model_module": "@jupyter-widgets/base",
      "_model_module_version": "1.2.0",
      "_model_name": "LayoutModel",
      "_view_count": null,
      "_view_module": "@jupyter-widgets/base",
      "_view_module_version": "1.2.0",
      "_view_name": "LayoutView",
      "align_content": null,
      "align_items": null,
      "align_self": null,
      "border": null,
      "bottom": null,
      "display": null,
      "flex": null,
      "flex_flow": null,
      "grid_area": null,
      "grid_auto_columns": null,
      "grid_auto_flow": null,
      "grid_auto_rows": null,
      "grid_column": null,
      "grid_gap": null,
      "grid_row": null,
      "grid_template_areas": null,
      "grid_template_columns": null,
      "grid_template_rows": null,
      "height": null,
      "justify_content": null,
      "justify_items": null,
      "left": null,
      "margin": null,
      "max_height": null,
      "max_width": null,
      "min_height": null,
      "min_width": null,
      "object_fit": null,
      "object_position": null,
      "order": null,
      "overflow": null,
      "overflow_x": null,
      "overflow_y": null,
      "padding": null,
      "right": null,
      "top": null,
      "visibility": null,
      "width": null
     }
    },
    "8ce498efa4844d2598587df2c24527e7": {
     "model_module": "@jupyter-widgets/controls",
     "model_name": "DescriptionStyleModel",
     "state": {
      "_model_module": "@jupyter-widgets/controls",
      "_model_module_version": "1.5.0",
      "_model_name": "DescriptionStyleModel",
      "_view_count": null,
      "_view_module": "@jupyter-widgets/base",
      "_view_module_version": "1.2.0",
      "_view_name": "StyleView",
      "description_width": ""
     }
    },
    "92d201f7f2094b578f9b8263faa4adbc": {
     "model_module": "@jupyter-widgets/base",
     "model_name": "LayoutModel",
     "state": {
      "_model_module": "@jupyter-widgets/base",
      "_model_module_version": "1.2.0",
      "_model_name": "LayoutModel",
      "_view_count": null,
      "_view_module": "@jupyter-widgets/base",
      "_view_module_version": "1.2.0",
      "_view_name": "LayoutView",
      "align_content": null,
      "align_items": null,
      "align_self": null,
      "border": null,
      "bottom": null,
      "display": null,
      "flex": null,
      "flex_flow": null,
      "grid_area": null,
      "grid_auto_columns": null,
      "grid_auto_flow": null,
      "grid_auto_rows": null,
      "grid_column": null,
      "grid_gap": null,
      "grid_row": null,
      "grid_template_areas": null,
      "grid_template_columns": null,
      "grid_template_rows": null,
      "height": null,
      "justify_content": null,
      "justify_items": null,
      "left": null,
      "margin": null,
      "max_height": null,
      "max_width": null,
      "min_height": null,
      "min_width": null,
      "object_fit": null,
      "object_position": null,
      "order": null,
      "overflow": null,
      "overflow_x": null,
      "overflow_y": null,
      "padding": null,
      "right": null,
      "top": null,
      "visibility": null,
      "width": null
     }
    },
    "9398af3aa7aa465e98ff4a75141f395b": {
     "model_module": "@jupyter-widgets/controls",
     "model_name": "HBoxModel",
     "state": {
      "_dom_classes": [],
      "_model_module": "@jupyter-widgets/controls",
      "_model_module_version": "1.5.0",
      "_model_name": "HBoxModel",
      "_view_count": null,
      "_view_module": "@jupyter-widgets/controls",
      "_view_module_version": "1.5.0",
      "_view_name": "HBoxView",
      "box_style": "",
      "children": [
       "IPY_MODEL_d88cf1bbd523440fb7647416c2ed857f",
       "IPY_MODEL_682283501e0e4726b42efa58b9dd1643",
       "IPY_MODEL_2d62e949abfb42d9980244eae98fc1d5"
      ],
      "layout": "IPY_MODEL_b0b95e9988564b71b3457178cd52f856"
     }
    },
    "b0b95e9988564b71b3457178cd52f856": {
     "model_module": "@jupyter-widgets/base",
     "model_name": "LayoutModel",
     "state": {
      "_model_module": "@jupyter-widgets/base",
      "_model_module_version": "1.2.0",
      "_model_name": "LayoutModel",
      "_view_count": null,
      "_view_module": "@jupyter-widgets/base",
      "_view_module_version": "1.2.0",
      "_view_name": "LayoutView",
      "align_content": null,
      "align_items": null,
      "align_self": null,
      "border": null,
      "bottom": null,
      "display": null,
      "flex": null,
      "flex_flow": null,
      "grid_area": null,
      "grid_auto_columns": null,
      "grid_auto_flow": null,
      "grid_auto_rows": null,
      "grid_column": null,
      "grid_gap": null,
      "grid_row": null,
      "grid_template_areas": null,
      "grid_template_columns": null,
      "grid_template_rows": null,
      "height": null,
      "justify_content": null,
      "justify_items": null,
      "left": null,
      "margin": null,
      "max_height": null,
      "max_width": null,
      "min_height": null,
      "min_width": null,
      "object_fit": null,
      "object_position": null,
      "order": null,
      "overflow": null,
      "overflow_x": null,
      "overflow_y": null,
      "padding": null,
      "right": null,
      "top": null,
      "visibility": null,
      "width": null
     }
    },
    "b0d1a23eae6840bc896e306a397a783b": {
     "model_module": "@jupyter-widgets/base",
     "model_name": "LayoutModel",
     "state": {
      "_model_module": "@jupyter-widgets/base",
      "_model_module_version": "1.2.0",
      "_model_name": "LayoutModel",
      "_view_count": null,
      "_view_module": "@jupyter-widgets/base",
      "_view_module_version": "1.2.0",
      "_view_name": "LayoutView",
      "align_content": null,
      "align_items": null,
      "align_self": null,
      "border": null,
      "bottom": null,
      "display": null,
      "flex": null,
      "flex_flow": null,
      "grid_area": null,
      "grid_auto_columns": null,
      "grid_auto_flow": null,
      "grid_auto_rows": null,
      "grid_column": null,
      "grid_gap": null,
      "grid_row": null,
      "grid_template_areas": null,
      "grid_template_columns": null,
      "grid_template_rows": null,
      "height": null,
      "justify_content": null,
      "justify_items": null,
      "left": null,
      "margin": null,
      "max_height": null,
      "max_width": null,
      "min_height": null,
      "min_width": null,
      "object_fit": null,
      "object_position": null,
      "order": null,
      "overflow": null,
      "overflow_x": null,
      "overflow_y": null,
      "padding": null,
      "right": null,
      "top": null,
      "visibility": null,
      "width": null
     }
    },
    "b4a5e406f30f455e816cb226d0bcdc35": {
     "model_module": "@jupyter-widgets/controls",
     "model_name": "HBoxModel",
     "state": {
      "_dom_classes": [],
      "_model_module": "@jupyter-widgets/controls",
      "_model_module_version": "1.5.0",
      "_model_name": "HBoxModel",
      "_view_count": null,
      "_view_module": "@jupyter-widgets/controls",
      "_view_module_version": "1.5.0",
      "_view_name": "HBoxView",
      "box_style": "",
      "children": [
       "IPY_MODEL_04b80806e6864c1b974d2e26768797cc",
       "IPY_MODEL_4f35dd7c876b454baba835bba7d39ae6",
       "IPY_MODEL_d9709e1b9a444334a3fee3c2ac80d7ab"
      ],
      "layout": "IPY_MODEL_183441f8b6be4bbdade3e2386cd3ff05"
     }
    },
    "bab404fb0ea9418c8af0c4b3f28d6d9a": {
     "model_module": "@jupyter-widgets/base",
     "model_name": "LayoutModel",
     "state": {
      "_model_module": "@jupyter-widgets/base",
      "_model_module_version": "1.2.0",
      "_model_name": "LayoutModel",
      "_view_count": null,
      "_view_module": "@jupyter-widgets/base",
      "_view_module_version": "1.2.0",
      "_view_name": "LayoutView",
      "align_content": null,
      "align_items": null,
      "align_self": null,
      "border": null,
      "bottom": null,
      "display": null,
      "flex": null,
      "flex_flow": null,
      "grid_area": null,
      "grid_auto_columns": null,
      "grid_auto_flow": null,
      "grid_auto_rows": null,
      "grid_column": null,
      "grid_gap": null,
      "grid_row": null,
      "grid_template_areas": null,
      "grid_template_columns": null,
      "grid_template_rows": null,
      "height": null,
      "justify_content": null,
      "justify_items": null,
      "left": null,
      "margin": null,
      "max_height": null,
      "max_width": null,
      "min_height": null,
      "min_width": null,
      "object_fit": null,
      "object_position": null,
      "order": null,
      "overflow": null,
      "overflow_x": null,
      "overflow_y": null,
      "padding": null,
      "right": null,
      "top": null,
      "visibility": null,
      "width": null
     }
    },
    "bb3a16b1131b41d99bab2e5bc902edc0": {
     "model_module": "@jupyter-widgets/controls",
     "model_name": "FloatProgressModel",
     "state": {
      "_dom_classes": [],
      "_model_module": "@jupyter-widgets/controls",
      "_model_module_version": "1.5.0",
      "_model_name": "FloatProgressModel",
      "_view_count": null,
      "_view_module": "@jupyter-widgets/controls",
      "_view_module_version": "1.5.0",
      "_view_name": "ProgressView",
      "bar_style": "success",
      "description": "",
      "description_tooltip": null,
      "layout": "IPY_MODEL_35a26a708f1d4f63b654c3717df35e67",
      "max": 1,
      "min": 0,
      "orientation": "horizontal",
      "style": "IPY_MODEL_00a3aaf7dbbb4d47ae536f5cd106f71e",
      "value": 1
     }
    },
    "d88cf1bbd523440fb7647416c2ed857f": {
     "model_module": "@jupyter-widgets/controls",
     "model_name": "HTMLModel",
     "state": {
      "_dom_classes": [],
      "_model_module": "@jupyter-widgets/controls",
      "_model_module_version": "1.5.0",
      "_model_name": "HTMLModel",
      "_view_count": null,
      "_view_module": "@jupyter-widgets/controls",
      "_view_module_version": "1.5.0",
      "_view_name": "HTMLView",
      "description": "",
      "description_tooltip": null,
      "layout": "IPY_MODEL_876e98c028954be6b033b83155755bc2",
      "placeholder": "​",
      "style": "IPY_MODEL_8ce498efa4844d2598587df2c24527e7",
      "value": "Summarize dataset: 100%"
     }
    },
    "d8973c9dd00f4d33a98f08a7ed0c8d3d": {
     "model_module": "@jupyter-widgets/base",
     "model_name": "LayoutModel",
     "state": {
      "_model_module": "@jupyter-widgets/base",
      "_model_module_version": "1.2.0",
      "_model_name": "LayoutModel",
      "_view_count": null,
      "_view_module": "@jupyter-widgets/base",
      "_view_module_version": "1.2.0",
      "_view_name": "LayoutView",
      "align_content": null,
      "align_items": null,
      "align_self": null,
      "border": null,
      "bottom": null,
      "display": null,
      "flex": null,
      "flex_flow": null,
      "grid_area": null,
      "grid_auto_columns": null,
      "grid_auto_flow": null,
      "grid_auto_rows": null,
      "grid_column": null,
      "grid_gap": null,
      "grid_row": null,
      "grid_template_areas": null,
      "grid_template_columns": null,
      "grid_template_rows": null,
      "height": null,
      "justify_content": null,
      "justify_items": null,
      "left": null,
      "margin": null,
      "max_height": null,
      "max_width": null,
      "min_height": null,
      "min_width": null,
      "object_fit": null,
      "object_position": null,
      "order": null,
      "overflow": null,
      "overflow_x": null,
      "overflow_y": null,
      "padding": null,
      "right": null,
      "top": null,
      "visibility": null,
      "width": null
     }
    },
    "d9709e1b9a444334a3fee3c2ac80d7ab": {
     "model_module": "@jupyter-widgets/controls",
     "model_name": "HTMLModel",
     "state": {
      "_dom_classes": [],
      "_model_module": "@jupyter-widgets/controls",
      "_model_module_version": "1.5.0",
      "_model_name": "HTMLModel",
      "_view_count": null,
      "_view_module": "@jupyter-widgets/controls",
      "_view_module_version": "1.5.0",
      "_view_name": "HTMLView",
      "description": "",
      "description_tooltip": null,
      "layout": "IPY_MODEL_d8973c9dd00f4d33a98f08a7ed0c8d3d",
      "placeholder": "​",
      "style": "IPY_MODEL_78fb02d2be29428882a0ceefec487b2a",
      "value": " 1/1 [00:06&lt;00:00,  6.88s/it]"
     }
    },
    "e253b42ff04943a5acc2abd8b7f6c323": {
     "model_module": "@jupyter-widgets/controls",
     "model_name": "DescriptionStyleModel",
     "state": {
      "_model_module": "@jupyter-widgets/controls",
      "_model_module_version": "1.5.0",
      "_model_name": "DescriptionStyleModel",
      "_view_count": null,
      "_view_module": "@jupyter-widgets/base",
      "_view_module_version": "1.2.0",
      "_view_name": "StyleView",
      "description_width": ""
     }
    },
    "e2b1e12971354ea6a3a6ab52fbb6cc81": {
     "model_module": "@jupyter-widgets/base",
     "model_name": "LayoutModel",
     "state": {
      "_model_module": "@jupyter-widgets/base",
      "_model_module_version": "1.2.0",
      "_model_name": "LayoutModel",
      "_view_count": null,
      "_view_module": "@jupyter-widgets/base",
      "_view_module_version": "1.2.0",
      "_view_name": "LayoutView",
      "align_content": null,
      "align_items": null,
      "align_self": null,
      "border": null,
      "bottom": null,
      "display": null,
      "flex": null,
      "flex_flow": null,
      "grid_area": null,
      "grid_auto_columns": null,
      "grid_auto_flow": null,
      "grid_auto_rows": null,
      "grid_column": null,
      "grid_gap": null,
      "grid_row": null,
      "grid_template_areas": null,
      "grid_template_columns": null,
      "grid_template_rows": null,
      "height": null,
      "justify_content": null,
      "justify_items": null,
      "left": null,
      "margin": null,
      "max_height": null,
      "max_width": null,
      "min_height": null,
      "min_width": null,
      "object_fit": null,
      "object_position": null,
      "order": null,
      "overflow": null,
      "overflow_x": null,
      "overflow_y": null,
      "padding": null,
      "right": null,
      "top": null,
      "visibility": null,
      "width": null
     }
    },
    "e33227517baf4643aca43ada3bc87382": {
     "model_module": "@jupyter-widgets/controls",
     "model_name": "ProgressStyleModel",
     "state": {
      "_model_module": "@jupyter-widgets/controls",
      "_model_module_version": "1.5.0",
      "_model_name": "ProgressStyleModel",
      "_view_count": null,
      "_view_module": "@jupyter-widgets/base",
      "_view_module_version": "1.2.0",
      "_view_name": "StyleView",
      "bar_color": null,
      "description_width": ""
     }
    },
    "ebbabc5c88304af9beefb78892d6fc0d": {
     "model_module": "@jupyter-widgets/base",
     "model_name": "LayoutModel",
     "state": {
      "_model_module": "@jupyter-widgets/base",
      "_model_module_version": "1.2.0",
      "_model_name": "LayoutModel",
      "_view_count": null,
      "_view_module": "@jupyter-widgets/base",
      "_view_module_version": "1.2.0",
      "_view_name": "LayoutView",
      "align_content": null,
      "align_items": null,
      "align_self": null,
      "border": null,
      "bottom": null,
      "display": null,
      "flex": null,
      "flex_flow": null,
      "grid_area": null,
      "grid_auto_columns": null,
      "grid_auto_flow": null,
      "grid_auto_rows": null,
      "grid_column": null,
      "grid_gap": null,
      "grid_row": null,
      "grid_template_areas": null,
      "grid_template_columns": null,
      "grid_template_rows": null,
      "height": null,
      "justify_content": null,
      "justify_items": null,
      "left": null,
      "margin": null,
      "max_height": null,
      "max_width": null,
      "min_height": null,
      "min_width": null,
      "object_fit": null,
      "object_position": null,
      "order": null,
      "overflow": null,
      "overflow_x": null,
      "overflow_y": null,
      "padding": null,
      "right": null,
      "top": null,
      "visibility": null,
      "width": null
     }
    },
    "f8e3e6e85eab45e9b5c04d93f4f157e0": {
     "model_module": "@jupyter-widgets/controls",
     "model_name": "HTMLModel",
     "state": {
      "_dom_classes": [],
      "_model_module": "@jupyter-widgets/controls",
      "_model_module_version": "1.5.0",
      "_model_name": "HTMLModel",
      "_view_count": null,
      "_view_module": "@jupyter-widgets/controls",
      "_view_module_version": "1.5.0",
      "_view_name": "HTMLView",
      "description": "",
      "description_tooltip": null,
      "layout": "IPY_MODEL_ebbabc5c88304af9beefb78892d6fc0d",
      "placeholder": "​",
      "style": "IPY_MODEL_255fb8808f7644f7b6a2741ca9ba072c",
      "value": "Render HTML: 100%"
     }
    }
   }
  }
 },
 "nbformat": 4,
 "nbformat_minor": 1
}
